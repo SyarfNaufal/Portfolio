{
  "cells": [
    {
      "cell_type": "markdown",
      "metadata": {
        "id": "TcfwYmzuvd3K"
      },
      "source": [
        "#**Prologue**"
      ]
    },
    {
      "cell_type": "markdown",
      "metadata": {
        "id": "5MuygluMZwk_"
      },
      "source": [
        "Airline flight delays are a common occurrence in the aviation industry, often caused by a variety of factors such as weather conditions, technical issues, air traffic control, and more. These delays can have a significant impact on passengers, causing inconvenience and affecting travel plans. Airlines also suffer from the financial and operational consequences of flight delays. Therefore, understanding the root causes of flight delays and developing strategies to minimize their impact has become a priority for the aviation industry."
      ]
    },
    {
      "cell_type": "markdown",
      "metadata": {
        "id": "w7Z75q1laA0E"
      },
      "source": [
        "**Objective**<br>\n",
        "* Make a model prediction for delay from airlines."
      ]
    },
    {
      "cell_type": "markdown",
      "metadata": {
        "id": "860edEwDaLzA"
      },
      "source": [
        "$\\textbf{Syarifudin Naufal}$ <br>\n",
        "Email : syarifuddin.naufal@gmail.com<br>\n",
        "Phone : +628211404214<br>\n",
        "Linkedin : https://www.linkedin.com/in/syarifudin-naufal/\n",
        "<br>"
      ]
    },
    {
      "cell_type": "markdown",
      "metadata": {
        "id": "PiW5YjR7lR25"
      },
      "source": [
        "## Install necessary Library"
      ]
    },
    {
      "cell_type": "markdown",
      "metadata": {
        "id": "K7RUeNiRr1gA"
      },
      "source": [
        "## Library"
      ]
    },
    {
      "cell_type": "code",
      "execution_count": null,
      "metadata": {
        "id": "FeyVyyQtyHVk"
      },
      "outputs": [],
      "source": [
        "#import necessary libraries\n",
        "import warnings\n",
        "warnings.filterwarnings('ignore')\n",
        "\n",
        "import re\n",
        "#import sweetviz\n",
        "import matplotlib\n",
        "import numpy as np\n",
        "import pandas as pd\n",
        "import xgboost as xgb\n",
        "import seaborn as sns\n",
        "import lightgbm as lgb\n",
        "import plotly.express as px\n",
        "import matplotlib.pyplot as plt\n",
        "\n",
        "from sklearn import tree\n",
        "from sklearn import metrics\n",
        "from sklearn import datasets\n",
        "from xgboost import XGBClassifier\n",
        "from sklearn.tree import plot_tree \n",
        "from sklearn import preprocessing\n",
        "from sklearn import model_selection\n",
        "from imblearn.over_sampling import SMOTE\n",
        "from imblearn import under_sampling, over_sampling\n",
        "from sklearn.metrics import accuracy_score\n",
        "from sklearn.metrics import roc_auc_score\n",
        "from sklearn.linear_model import LogisticRegression\n",
        "from sklearn.tree import DecisionTreeClassifier\n",
        "from sklearn.ensemble import RandomForestClassifier\n",
        "from sklearn.model_selection import GridSearchCV\n",
        "from sklearn.model_selection import RandomizedSearchCV\n",
        "from sklearn.preprocessing import StandardScaler, MinMaxScaler\n",
        "from sklearn.metrics import classification_report,confusion_matrix, ConfusionMatrixDisplay\n",
        "from sklearn.model_selection import train_test_split\n"
      ]
    },
    {
      "cell_type": "markdown",
      "metadata": {
        "id": "oBpdLfjzabIq"
      },
      "source": [
        "# **Load and Describe Data**"
      ]
    },
    {
      "cell_type": "markdown",
      "metadata": {
        "id": "Z9B_OnuCr5BG"
      },
      "source": [
        "## Load Data"
      ]
    },
    {
      "cell_type": "markdown",
      "metadata": {
        "id": "sm4S93cFkAvW"
      },
      "source": [
        "This study using dataset provided by JIMS CHACKO, which contain detailed type of Airline, Airport destination, day of weeks, etc\n",
        "\n",
        "Source:\n",
        "[US Airlines Flight Analysis and Delay Prediction](https://www.kaggle.com/datasets/jimschacko/airlines-dataset-to-predict-a-delay)"
      ]
    },
    {
      "cell_type": "code",
      "execution_count": null,
      "metadata": {
        "id": "Vg_HgdZ6x06J"
      },
      "outputs": [],
      "source": [
        "Airlines_original = pd.read_csv('Airlines.csv')"
      ]
    },
    {
      "cell_type": "code",
      "execution_count": null,
      "metadata": {
        "colab": {
          "base_uri": "https://localhost:8080/",
          "height": 423
        },
        "id": "f9eGp9rVm6_G",
        "outputId": "b08b2ae7-f6db-40bf-8143-846dba5a5bb5"
      },
      "outputs": [
        {
          "output_type": "execute_result",
          "data": {
            "text/plain": [
              "            id Airline  Flight AirportFrom AirportTo  DayOfWeek  Time  Length  \\\n",
              "0            1      CO     269         SFO       IAH          3    15     205   \n",
              "1            2      US    1558         PHX       CLT          3    15     222   \n",
              "2            3      AA    2400         LAX       DFW          3    20     165   \n",
              "3            4      AA    2466         SFO       DFW          3    20     195   \n",
              "4            5      AS     108         ANC       SEA          3    30     202   \n",
              "...        ...     ...     ...         ...       ...        ...   ...     ...   \n",
              "539378  539379      CO     178         OGG       SNA          5  1439     326   \n",
              "539379  539380      FL     398         SEA       ATL          5  1439     305   \n",
              "539380  539381      FL     609         SFO       MKE          5  1439     255   \n",
              "539381  539382      UA      78         HNL       SFO          5  1439     313   \n",
              "539382  539383      US    1442         LAX       PHL          5  1439     301   \n",
              "\n",
              "        Delay  \n",
              "0           1  \n",
              "1           1  \n",
              "2           1  \n",
              "3           1  \n",
              "4           0  \n",
              "...       ...  \n",
              "539378      0  \n",
              "539379      0  \n",
              "539380      0  \n",
              "539381      1  \n",
              "539382      1  \n",
              "\n",
              "[539383 rows x 9 columns]"
            ],
            "text/html": [
              "\n",
              "  <div id=\"df-e9826b76-849e-4883-820b-c0296d13d6ff\">\n",
              "    <div class=\"colab-df-container\">\n",
              "      <div>\n",
              "<style scoped>\n",
              "    .dataframe tbody tr th:only-of-type {\n",
              "        vertical-align: middle;\n",
              "    }\n",
              "\n",
              "    .dataframe tbody tr th {\n",
              "        vertical-align: top;\n",
              "    }\n",
              "\n",
              "    .dataframe thead th {\n",
              "        text-align: right;\n",
              "    }\n",
              "</style>\n",
              "<table border=\"1\" class=\"dataframe\">\n",
              "  <thead>\n",
              "    <tr style=\"text-align: right;\">\n",
              "      <th></th>\n",
              "      <th>id</th>\n",
              "      <th>Airline</th>\n",
              "      <th>Flight</th>\n",
              "      <th>AirportFrom</th>\n",
              "      <th>AirportTo</th>\n",
              "      <th>DayOfWeek</th>\n",
              "      <th>Time</th>\n",
              "      <th>Length</th>\n",
              "      <th>Delay</th>\n",
              "    </tr>\n",
              "  </thead>\n",
              "  <tbody>\n",
              "    <tr>\n",
              "      <th>0</th>\n",
              "      <td>1</td>\n",
              "      <td>CO</td>\n",
              "      <td>269</td>\n",
              "      <td>SFO</td>\n",
              "      <td>IAH</td>\n",
              "      <td>3</td>\n",
              "      <td>15</td>\n",
              "      <td>205</td>\n",
              "      <td>1</td>\n",
              "    </tr>\n",
              "    <tr>\n",
              "      <th>1</th>\n",
              "      <td>2</td>\n",
              "      <td>US</td>\n",
              "      <td>1558</td>\n",
              "      <td>PHX</td>\n",
              "      <td>CLT</td>\n",
              "      <td>3</td>\n",
              "      <td>15</td>\n",
              "      <td>222</td>\n",
              "      <td>1</td>\n",
              "    </tr>\n",
              "    <tr>\n",
              "      <th>2</th>\n",
              "      <td>3</td>\n",
              "      <td>AA</td>\n",
              "      <td>2400</td>\n",
              "      <td>LAX</td>\n",
              "      <td>DFW</td>\n",
              "      <td>3</td>\n",
              "      <td>20</td>\n",
              "      <td>165</td>\n",
              "      <td>1</td>\n",
              "    </tr>\n",
              "    <tr>\n",
              "      <th>3</th>\n",
              "      <td>4</td>\n",
              "      <td>AA</td>\n",
              "      <td>2466</td>\n",
              "      <td>SFO</td>\n",
              "      <td>DFW</td>\n",
              "      <td>3</td>\n",
              "      <td>20</td>\n",
              "      <td>195</td>\n",
              "      <td>1</td>\n",
              "    </tr>\n",
              "    <tr>\n",
              "      <th>4</th>\n",
              "      <td>5</td>\n",
              "      <td>AS</td>\n",
              "      <td>108</td>\n",
              "      <td>ANC</td>\n",
              "      <td>SEA</td>\n",
              "      <td>3</td>\n",
              "      <td>30</td>\n",
              "      <td>202</td>\n",
              "      <td>0</td>\n",
              "    </tr>\n",
              "    <tr>\n",
              "      <th>...</th>\n",
              "      <td>...</td>\n",
              "      <td>...</td>\n",
              "      <td>...</td>\n",
              "      <td>...</td>\n",
              "      <td>...</td>\n",
              "      <td>...</td>\n",
              "      <td>...</td>\n",
              "      <td>...</td>\n",
              "      <td>...</td>\n",
              "    </tr>\n",
              "    <tr>\n",
              "      <th>539378</th>\n",
              "      <td>539379</td>\n",
              "      <td>CO</td>\n",
              "      <td>178</td>\n",
              "      <td>OGG</td>\n",
              "      <td>SNA</td>\n",
              "      <td>5</td>\n",
              "      <td>1439</td>\n",
              "      <td>326</td>\n",
              "      <td>0</td>\n",
              "    </tr>\n",
              "    <tr>\n",
              "      <th>539379</th>\n",
              "      <td>539380</td>\n",
              "      <td>FL</td>\n",
              "      <td>398</td>\n",
              "      <td>SEA</td>\n",
              "      <td>ATL</td>\n",
              "      <td>5</td>\n",
              "      <td>1439</td>\n",
              "      <td>305</td>\n",
              "      <td>0</td>\n",
              "    </tr>\n",
              "    <tr>\n",
              "      <th>539380</th>\n",
              "      <td>539381</td>\n",
              "      <td>FL</td>\n",
              "      <td>609</td>\n",
              "      <td>SFO</td>\n",
              "      <td>MKE</td>\n",
              "      <td>5</td>\n",
              "      <td>1439</td>\n",
              "      <td>255</td>\n",
              "      <td>0</td>\n",
              "    </tr>\n",
              "    <tr>\n",
              "      <th>539381</th>\n",
              "      <td>539382</td>\n",
              "      <td>UA</td>\n",
              "      <td>78</td>\n",
              "      <td>HNL</td>\n",
              "      <td>SFO</td>\n",
              "      <td>5</td>\n",
              "      <td>1439</td>\n",
              "      <td>313</td>\n",
              "      <td>1</td>\n",
              "    </tr>\n",
              "    <tr>\n",
              "      <th>539382</th>\n",
              "      <td>539383</td>\n",
              "      <td>US</td>\n",
              "      <td>1442</td>\n",
              "      <td>LAX</td>\n",
              "      <td>PHL</td>\n",
              "      <td>5</td>\n",
              "      <td>1439</td>\n",
              "      <td>301</td>\n",
              "      <td>1</td>\n",
              "    </tr>\n",
              "  </tbody>\n",
              "</table>\n",
              "<p>539383 rows × 9 columns</p>\n",
              "</div>\n",
              "      <button class=\"colab-df-convert\" onclick=\"convertToInteractive('df-e9826b76-849e-4883-820b-c0296d13d6ff')\"\n",
              "              title=\"Convert this dataframe to an interactive table.\"\n",
              "              style=\"display:none;\">\n",
              "        \n",
              "  <svg xmlns=\"http://www.w3.org/2000/svg\" height=\"24px\"viewBox=\"0 0 24 24\"\n",
              "       width=\"24px\">\n",
              "    <path d=\"M0 0h24v24H0V0z\" fill=\"none\"/>\n",
              "    <path d=\"M18.56 5.44l.94 2.06.94-2.06 2.06-.94-2.06-.94-.94-2.06-.94 2.06-2.06.94zm-11 1L8.5 8.5l.94-2.06 2.06-.94-2.06-.94L8.5 2.5l-.94 2.06-2.06.94zm10 10l.94 2.06.94-2.06 2.06-.94-2.06-.94-.94-2.06-.94 2.06-2.06.94z\"/><path d=\"M17.41 7.96l-1.37-1.37c-.4-.4-.92-.59-1.43-.59-.52 0-1.04.2-1.43.59L10.3 9.45l-7.72 7.72c-.78.78-.78 2.05 0 2.83L4 21.41c.39.39.9.59 1.41.59.51 0 1.02-.2 1.41-.59l7.78-7.78 2.81-2.81c.8-.78.8-2.07 0-2.86zM5.41 20L4 18.59l7.72-7.72 1.47 1.35L5.41 20z\"/>\n",
              "  </svg>\n",
              "      </button>\n",
              "      \n",
              "  <style>\n",
              "    .colab-df-container {\n",
              "      display:flex;\n",
              "      flex-wrap:wrap;\n",
              "      gap: 12px;\n",
              "    }\n",
              "\n",
              "    .colab-df-convert {\n",
              "      background-color: #E8F0FE;\n",
              "      border: none;\n",
              "      border-radius: 50%;\n",
              "      cursor: pointer;\n",
              "      display: none;\n",
              "      fill: #1967D2;\n",
              "      height: 32px;\n",
              "      padding: 0 0 0 0;\n",
              "      width: 32px;\n",
              "    }\n",
              "\n",
              "    .colab-df-convert:hover {\n",
              "      background-color: #E2EBFA;\n",
              "      box-shadow: 0px 1px 2px rgba(60, 64, 67, 0.3), 0px 1px 3px 1px rgba(60, 64, 67, 0.15);\n",
              "      fill: #174EA6;\n",
              "    }\n",
              "\n",
              "    [theme=dark] .colab-df-convert {\n",
              "      background-color: #3B4455;\n",
              "      fill: #D2E3FC;\n",
              "    }\n",
              "\n",
              "    [theme=dark] .colab-df-convert:hover {\n",
              "      background-color: #434B5C;\n",
              "      box-shadow: 0px 1px 3px 1px rgba(0, 0, 0, 0.15);\n",
              "      filter: drop-shadow(0px 1px 2px rgba(0, 0, 0, 0.3));\n",
              "      fill: #FFFFFF;\n",
              "    }\n",
              "  </style>\n",
              "\n",
              "      <script>\n",
              "        const buttonEl =\n",
              "          document.querySelector('#df-e9826b76-849e-4883-820b-c0296d13d6ff button.colab-df-convert');\n",
              "        buttonEl.style.display =\n",
              "          google.colab.kernel.accessAllowed ? 'block' : 'none';\n",
              "\n",
              "        async function convertToInteractive(key) {\n",
              "          const element = document.querySelector('#df-e9826b76-849e-4883-820b-c0296d13d6ff');\n",
              "          const dataTable =\n",
              "            await google.colab.kernel.invokeFunction('convertToInteractive',\n",
              "                                                     [key], {});\n",
              "          if (!dataTable) return;\n",
              "\n",
              "          const docLinkHtml = 'Like what you see? Visit the ' +\n",
              "            '<a target=\"_blank\" href=https://colab.research.google.com/notebooks/data_table.ipynb>data table notebook</a>'\n",
              "            + ' to learn more about interactive tables.';\n",
              "          element.innerHTML = '';\n",
              "          dataTable['output_type'] = 'display_data';\n",
              "          await google.colab.output.renderOutput(dataTable, element);\n",
              "          const docLink = document.createElement('div');\n",
              "          docLink.innerHTML = docLinkHtml;\n",
              "          element.appendChild(docLink);\n",
              "        }\n",
              "      </script>\n",
              "    </div>\n",
              "  </div>\n",
              "  "
            ]
          },
          "metadata": {},
          "execution_count": 3
        }
      ],
      "source": [
        "Airlines_original"
      ]
    },
    {
      "cell_type": "markdown",
      "metadata": {
        "id": "RwmOw2-0yBJF"
      },
      "source": [
        "Always make a copy for backup plan"
      ]
    },
    {
      "cell_type": "code",
      "execution_count": null,
      "metadata": {
        "id": "exNL8MLpyHPL"
      },
      "outputs": [],
      "source": [
        "Airlines = Airlines_original.copy()"
      ]
    },
    {
      "cell_type": "code",
      "execution_count": null,
      "metadata": {
        "colab": {
          "base_uri": "https://localhost:8080/",
          "height": 242
        },
        "id": "8PBEHV7Byco5",
        "outputId": "1cdde146-e9bf-4b99-efce-aca807233419"
      },
      "outputs": [
        {
          "output_type": "stream",
          "name": "stdout",
          "text": [
            "Total Row 539383  ,Total Feature 9 \n",
            "\n"
          ]
        },
        {
          "output_type": "execute_result",
          "data": {
            "text/plain": [
              "   id Airline  Flight AirportFrom AirportTo  DayOfWeek  Time  Length  Delay\n",
              "0   1      CO     269         SFO       IAH          3    15     205      1\n",
              "1   2      US    1558         PHX       CLT          3    15     222      1\n",
              "2   3      AA    2400         LAX       DFW          3    20     165      1\n",
              "3   4      AA    2466         SFO       DFW          3    20     195      1\n",
              "4   5      AS     108         ANC       SEA          3    30     202      0"
            ],
            "text/html": [
              "\n",
              "  <div id=\"df-07c77dd4-8358-45ee-9b18-cfe0b303a3c4\">\n",
              "    <div class=\"colab-df-container\">\n",
              "      <div>\n",
              "<style scoped>\n",
              "    .dataframe tbody tr th:only-of-type {\n",
              "        vertical-align: middle;\n",
              "    }\n",
              "\n",
              "    .dataframe tbody tr th {\n",
              "        vertical-align: top;\n",
              "    }\n",
              "\n",
              "    .dataframe thead th {\n",
              "        text-align: right;\n",
              "    }\n",
              "</style>\n",
              "<table border=\"1\" class=\"dataframe\">\n",
              "  <thead>\n",
              "    <tr style=\"text-align: right;\">\n",
              "      <th></th>\n",
              "      <th>id</th>\n",
              "      <th>Airline</th>\n",
              "      <th>Flight</th>\n",
              "      <th>AirportFrom</th>\n",
              "      <th>AirportTo</th>\n",
              "      <th>DayOfWeek</th>\n",
              "      <th>Time</th>\n",
              "      <th>Length</th>\n",
              "      <th>Delay</th>\n",
              "    </tr>\n",
              "  </thead>\n",
              "  <tbody>\n",
              "    <tr>\n",
              "      <th>0</th>\n",
              "      <td>1</td>\n",
              "      <td>CO</td>\n",
              "      <td>269</td>\n",
              "      <td>SFO</td>\n",
              "      <td>IAH</td>\n",
              "      <td>3</td>\n",
              "      <td>15</td>\n",
              "      <td>205</td>\n",
              "      <td>1</td>\n",
              "    </tr>\n",
              "    <tr>\n",
              "      <th>1</th>\n",
              "      <td>2</td>\n",
              "      <td>US</td>\n",
              "      <td>1558</td>\n",
              "      <td>PHX</td>\n",
              "      <td>CLT</td>\n",
              "      <td>3</td>\n",
              "      <td>15</td>\n",
              "      <td>222</td>\n",
              "      <td>1</td>\n",
              "    </tr>\n",
              "    <tr>\n",
              "      <th>2</th>\n",
              "      <td>3</td>\n",
              "      <td>AA</td>\n",
              "      <td>2400</td>\n",
              "      <td>LAX</td>\n",
              "      <td>DFW</td>\n",
              "      <td>3</td>\n",
              "      <td>20</td>\n",
              "      <td>165</td>\n",
              "      <td>1</td>\n",
              "    </tr>\n",
              "    <tr>\n",
              "      <th>3</th>\n",
              "      <td>4</td>\n",
              "      <td>AA</td>\n",
              "      <td>2466</td>\n",
              "      <td>SFO</td>\n",
              "      <td>DFW</td>\n",
              "      <td>3</td>\n",
              "      <td>20</td>\n",
              "      <td>195</td>\n",
              "      <td>1</td>\n",
              "    </tr>\n",
              "    <tr>\n",
              "      <th>4</th>\n",
              "      <td>5</td>\n",
              "      <td>AS</td>\n",
              "      <td>108</td>\n",
              "      <td>ANC</td>\n",
              "      <td>SEA</td>\n",
              "      <td>3</td>\n",
              "      <td>30</td>\n",
              "      <td>202</td>\n",
              "      <td>0</td>\n",
              "    </tr>\n",
              "  </tbody>\n",
              "</table>\n",
              "</div>\n",
              "      <button class=\"colab-df-convert\" onclick=\"convertToInteractive('df-07c77dd4-8358-45ee-9b18-cfe0b303a3c4')\"\n",
              "              title=\"Convert this dataframe to an interactive table.\"\n",
              "              style=\"display:none;\">\n",
              "        \n",
              "  <svg xmlns=\"http://www.w3.org/2000/svg\" height=\"24px\"viewBox=\"0 0 24 24\"\n",
              "       width=\"24px\">\n",
              "    <path d=\"M0 0h24v24H0V0z\" fill=\"none\"/>\n",
              "    <path d=\"M18.56 5.44l.94 2.06.94-2.06 2.06-.94-2.06-.94-.94-2.06-.94 2.06-2.06.94zm-11 1L8.5 8.5l.94-2.06 2.06-.94-2.06-.94L8.5 2.5l-.94 2.06-2.06.94zm10 10l.94 2.06.94-2.06 2.06-.94-2.06-.94-.94-2.06-.94 2.06-2.06.94z\"/><path d=\"M17.41 7.96l-1.37-1.37c-.4-.4-.92-.59-1.43-.59-.52 0-1.04.2-1.43.59L10.3 9.45l-7.72 7.72c-.78.78-.78 2.05 0 2.83L4 21.41c.39.39.9.59 1.41.59.51 0 1.02-.2 1.41-.59l7.78-7.78 2.81-2.81c.8-.78.8-2.07 0-2.86zM5.41 20L4 18.59l7.72-7.72 1.47 1.35L5.41 20z\"/>\n",
              "  </svg>\n",
              "      </button>\n",
              "      \n",
              "  <style>\n",
              "    .colab-df-container {\n",
              "      display:flex;\n",
              "      flex-wrap:wrap;\n",
              "      gap: 12px;\n",
              "    }\n",
              "\n",
              "    .colab-df-convert {\n",
              "      background-color: #E8F0FE;\n",
              "      border: none;\n",
              "      border-radius: 50%;\n",
              "      cursor: pointer;\n",
              "      display: none;\n",
              "      fill: #1967D2;\n",
              "      height: 32px;\n",
              "      padding: 0 0 0 0;\n",
              "      width: 32px;\n",
              "    }\n",
              "\n",
              "    .colab-df-convert:hover {\n",
              "      background-color: #E2EBFA;\n",
              "      box-shadow: 0px 1px 2px rgba(60, 64, 67, 0.3), 0px 1px 3px 1px rgba(60, 64, 67, 0.15);\n",
              "      fill: #174EA6;\n",
              "    }\n",
              "\n",
              "    [theme=dark] .colab-df-convert {\n",
              "      background-color: #3B4455;\n",
              "      fill: #D2E3FC;\n",
              "    }\n",
              "\n",
              "    [theme=dark] .colab-df-convert:hover {\n",
              "      background-color: #434B5C;\n",
              "      box-shadow: 0px 1px 3px 1px rgba(0, 0, 0, 0.15);\n",
              "      filter: drop-shadow(0px 1px 2px rgba(0, 0, 0, 0.3));\n",
              "      fill: #FFFFFF;\n",
              "    }\n",
              "  </style>\n",
              "\n",
              "      <script>\n",
              "        const buttonEl =\n",
              "          document.querySelector('#df-07c77dd4-8358-45ee-9b18-cfe0b303a3c4 button.colab-df-convert');\n",
              "        buttonEl.style.display =\n",
              "          google.colab.kernel.accessAllowed ? 'block' : 'none';\n",
              "\n",
              "        async function convertToInteractive(key) {\n",
              "          const element = document.querySelector('#df-07c77dd4-8358-45ee-9b18-cfe0b303a3c4');\n",
              "          const dataTable =\n",
              "            await google.colab.kernel.invokeFunction('convertToInteractive',\n",
              "                                                     [key], {});\n",
              "          if (!dataTable) return;\n",
              "\n",
              "          const docLinkHtml = 'Like what you see? Visit the ' +\n",
              "            '<a target=\"_blank\" href=https://colab.research.google.com/notebooks/data_table.ipynb>data table notebook</a>'\n",
              "            + ' to learn more about interactive tables.';\n",
              "          element.innerHTML = '';\n",
              "          dataTable['output_type'] = 'display_data';\n",
              "          await google.colab.output.renderOutput(dataTable, element);\n",
              "          const docLink = document.createElement('div');\n",
              "          docLink.innerHTML = docLinkHtml;\n",
              "          element.appendChild(docLink);\n",
              "        }\n",
              "      </script>\n",
              "    </div>\n",
              "  </div>\n",
              "  "
            ]
          },
          "metadata": {},
          "execution_count": 5
        }
      ],
      "source": [
        "print('Total Row', Airlines.shape[0], ' ,Total Feature', Airlines.shape[1],'\\n')\n",
        "Airlines.head(5)"
      ]
    },
    {
      "cell_type": "code",
      "source": [
        "# Drop ID column from dataset\n",
        "Airlines = Airlines.drop(columns = ['id'])"
      ],
      "metadata": {
        "id": "zBkEVlUyQeBS"
      },
      "execution_count": null,
      "outputs": []
    },
    {
      "cell_type": "markdown",
      "metadata": {
        "id": "R2u_is9VbufH"
      },
      "source": [
        "## Data Description"
      ]
    },
    {
      "cell_type": "markdown",
      "metadata": {
        "id": "V3_re_HkrSYN"
      },
      "source": [
        "Category Definitions:\n",
        "\n",
        "1.   ID - Unique row identifier ID.\n",
        "2.   Airline - Abreviated name of different commericial airlines.\n",
        "3.   Flight - Tell about the type of aircraft used.\n",
        "4.   AirportFrom - The airport origin for the flight.\n",
        "5.   AirportTo - The airport destination for the flight.\n",
        "6.   DayOfWeek - Day of the week when the flight took place.\n",
        "7.   Time - Time of flight.\n",
        "8.   Length - Length of flight.\n",
        "9.   Delay - Whether or not there was a delay."
      ]
    },
    {
      "cell_type": "code",
      "execution_count": null,
      "metadata": {
        "colab": {
          "base_uri": "https://localhost:8080/"
        },
        "id": "d2j1DR-_lGWC",
        "outputId": "dcdc14a0-d278-4eed-ea43-fc388fbaaed3"
      },
      "outputs": [
        {
          "output_type": "stream",
          "name": "stdout",
          "text": [
            "<class 'pandas.core.frame.DataFrame'>\n",
            "RangeIndex: 539383 entries, 0 to 539382\n",
            "Data columns (total 8 columns):\n",
            " #   Column                   Non-Null Count   Dtype  \n",
            "---  ------                   --------------   -----  \n",
            " 0   Flight                   539383 non-null  int64  \n",
            " 1   DayOfWeek                539383 non-null  int64  \n",
            " 2   Time                     539383 non-null  int64  \n",
            " 3   Length                   539383 non-null  int64  \n",
            " 4   Delay                    539383 non-null  int64  \n",
            " 5   AirportTo_freq_encode    539383 non-null  float64\n",
            " 6   AirportFrom_freq_encode  539383 non-null  float64\n",
            " 7   Airline_freq_encode      539383 non-null  float64\n",
            "dtypes: float64(3), int64(5)\n",
            "memory usage: 32.9 MB\n"
          ]
        }
      ],
      "source": [
        "Airlines.info()"
      ]
    },
    {
      "cell_type": "code",
      "execution_count": null,
      "metadata": {
        "colab": {
          "base_uri": "https://localhost:8080/",
          "height": 364
        },
        "id": "-eFfGEXpIeEG",
        "outputId": "90e64149-cdb3-4ee6-d2c0-8118ac7aba14"
      },
      "outputs": [
        {
          "output_type": "execute_result",
          "data": {
            "text/plain": [
              "              Flight      DayOfWeek           Time         Length  \\\n",
              "count  539383.000000  539383.000000  539383.000000  539383.000000   \n",
              "mean     2427.928630       3.929668     802.728963     132.202007   \n",
              "std      2067.429837       1.914664     278.045911      70.117016   \n",
              "min         1.000000       1.000000      10.000000       0.000000   \n",
              "25%       712.000000       2.000000     565.000000      81.000000   \n",
              "50%      1809.000000       4.000000     795.000000     115.000000   \n",
              "75%      3745.000000       5.000000    1035.000000     162.000000   \n",
              "max      7814.000000       7.000000    1439.000000     655.000000   \n",
              "\n",
              "               Delay  AirportTo_freq_encode  AirportFrom_freq_encode  \\\n",
              "count  539383.000000          539383.000000            539383.000000   \n",
              "mean        0.445442               0.019603                 0.019595   \n",
              "std         0.497015               0.017110                 0.017105   \n",
              "min         0.000000               0.000004                 0.000004   \n",
              "25%         0.000000               0.006439                 0.006496   \n",
              "50%         0.000000               0.015850                 0.015846   \n",
              "75%         1.000000               0.028844                 0.028842   \n",
              "max         1.000000               0.063851                 0.063867   \n",
              "\n",
              "       Airline_freq_encode  \n",
              "count        539383.000000  \n",
              "mean              0.083905  \n",
              "std               0.049200  \n",
              "min               0.010341  \n",
              "25%               0.051205  \n",
              "50%               0.067865  \n",
              "75%               0.112981  \n",
              "max               0.174453  "
            ],
            "text/html": [
              "\n",
              "  <div id=\"df-3fe31bef-6aba-4515-894d-0e39217ca4ba\">\n",
              "    <div class=\"colab-df-container\">\n",
              "      <div>\n",
              "<style scoped>\n",
              "    .dataframe tbody tr th:only-of-type {\n",
              "        vertical-align: middle;\n",
              "    }\n",
              "\n",
              "    .dataframe tbody tr th {\n",
              "        vertical-align: top;\n",
              "    }\n",
              "\n",
              "    .dataframe thead th {\n",
              "        text-align: right;\n",
              "    }\n",
              "</style>\n",
              "<table border=\"1\" class=\"dataframe\">\n",
              "  <thead>\n",
              "    <tr style=\"text-align: right;\">\n",
              "      <th></th>\n",
              "      <th>Flight</th>\n",
              "      <th>DayOfWeek</th>\n",
              "      <th>Time</th>\n",
              "      <th>Length</th>\n",
              "      <th>Delay</th>\n",
              "      <th>AirportTo_freq_encode</th>\n",
              "      <th>AirportFrom_freq_encode</th>\n",
              "      <th>Airline_freq_encode</th>\n",
              "    </tr>\n",
              "  </thead>\n",
              "  <tbody>\n",
              "    <tr>\n",
              "      <th>count</th>\n",
              "      <td>539383.000000</td>\n",
              "      <td>539383.000000</td>\n",
              "      <td>539383.000000</td>\n",
              "      <td>539383.000000</td>\n",
              "      <td>539383.000000</td>\n",
              "      <td>539383.000000</td>\n",
              "      <td>539383.000000</td>\n",
              "      <td>539383.000000</td>\n",
              "    </tr>\n",
              "    <tr>\n",
              "      <th>mean</th>\n",
              "      <td>2427.928630</td>\n",
              "      <td>3.929668</td>\n",
              "      <td>802.728963</td>\n",
              "      <td>132.202007</td>\n",
              "      <td>0.445442</td>\n",
              "      <td>0.019603</td>\n",
              "      <td>0.019595</td>\n",
              "      <td>0.083905</td>\n",
              "    </tr>\n",
              "    <tr>\n",
              "      <th>std</th>\n",
              "      <td>2067.429837</td>\n",
              "      <td>1.914664</td>\n",
              "      <td>278.045911</td>\n",
              "      <td>70.117016</td>\n",
              "      <td>0.497015</td>\n",
              "      <td>0.017110</td>\n",
              "      <td>0.017105</td>\n",
              "      <td>0.049200</td>\n",
              "    </tr>\n",
              "    <tr>\n",
              "      <th>min</th>\n",
              "      <td>1.000000</td>\n",
              "      <td>1.000000</td>\n",
              "      <td>10.000000</td>\n",
              "      <td>0.000000</td>\n",
              "      <td>0.000000</td>\n",
              "      <td>0.000004</td>\n",
              "      <td>0.000004</td>\n",
              "      <td>0.010341</td>\n",
              "    </tr>\n",
              "    <tr>\n",
              "      <th>25%</th>\n",
              "      <td>712.000000</td>\n",
              "      <td>2.000000</td>\n",
              "      <td>565.000000</td>\n",
              "      <td>81.000000</td>\n",
              "      <td>0.000000</td>\n",
              "      <td>0.006439</td>\n",
              "      <td>0.006496</td>\n",
              "      <td>0.051205</td>\n",
              "    </tr>\n",
              "    <tr>\n",
              "      <th>50%</th>\n",
              "      <td>1809.000000</td>\n",
              "      <td>4.000000</td>\n",
              "      <td>795.000000</td>\n",
              "      <td>115.000000</td>\n",
              "      <td>0.000000</td>\n",
              "      <td>0.015850</td>\n",
              "      <td>0.015846</td>\n",
              "      <td>0.067865</td>\n",
              "    </tr>\n",
              "    <tr>\n",
              "      <th>75%</th>\n",
              "      <td>3745.000000</td>\n",
              "      <td>5.000000</td>\n",
              "      <td>1035.000000</td>\n",
              "      <td>162.000000</td>\n",
              "      <td>1.000000</td>\n",
              "      <td>0.028844</td>\n",
              "      <td>0.028842</td>\n",
              "      <td>0.112981</td>\n",
              "    </tr>\n",
              "    <tr>\n",
              "      <th>max</th>\n",
              "      <td>7814.000000</td>\n",
              "      <td>7.000000</td>\n",
              "      <td>1439.000000</td>\n",
              "      <td>655.000000</td>\n",
              "      <td>1.000000</td>\n",
              "      <td>0.063851</td>\n",
              "      <td>0.063867</td>\n",
              "      <td>0.174453</td>\n",
              "    </tr>\n",
              "  </tbody>\n",
              "</table>\n",
              "</div>\n",
              "      <button class=\"colab-df-convert\" onclick=\"convertToInteractive('df-3fe31bef-6aba-4515-894d-0e39217ca4ba')\"\n",
              "              title=\"Convert this dataframe to an interactive table.\"\n",
              "              style=\"display:none;\">\n",
              "        \n",
              "  <svg xmlns=\"http://www.w3.org/2000/svg\" height=\"24px\"viewBox=\"0 0 24 24\"\n",
              "       width=\"24px\">\n",
              "    <path d=\"M0 0h24v24H0V0z\" fill=\"none\"/>\n",
              "    <path d=\"M18.56 5.44l.94 2.06.94-2.06 2.06-.94-2.06-.94-.94-2.06-.94 2.06-2.06.94zm-11 1L8.5 8.5l.94-2.06 2.06-.94-2.06-.94L8.5 2.5l-.94 2.06-2.06.94zm10 10l.94 2.06.94-2.06 2.06-.94-2.06-.94-.94-2.06-.94 2.06-2.06.94z\"/><path d=\"M17.41 7.96l-1.37-1.37c-.4-.4-.92-.59-1.43-.59-.52 0-1.04.2-1.43.59L10.3 9.45l-7.72 7.72c-.78.78-.78 2.05 0 2.83L4 21.41c.39.39.9.59 1.41.59.51 0 1.02-.2 1.41-.59l7.78-7.78 2.81-2.81c.8-.78.8-2.07 0-2.86zM5.41 20L4 18.59l7.72-7.72 1.47 1.35L5.41 20z\"/>\n",
              "  </svg>\n",
              "      </button>\n",
              "      \n",
              "  <style>\n",
              "    .colab-df-container {\n",
              "      display:flex;\n",
              "      flex-wrap:wrap;\n",
              "      gap: 12px;\n",
              "    }\n",
              "\n",
              "    .colab-df-convert {\n",
              "      background-color: #E8F0FE;\n",
              "      border: none;\n",
              "      border-radius: 50%;\n",
              "      cursor: pointer;\n",
              "      display: none;\n",
              "      fill: #1967D2;\n",
              "      height: 32px;\n",
              "      padding: 0 0 0 0;\n",
              "      width: 32px;\n",
              "    }\n",
              "\n",
              "    .colab-df-convert:hover {\n",
              "      background-color: #E2EBFA;\n",
              "      box-shadow: 0px 1px 2px rgba(60, 64, 67, 0.3), 0px 1px 3px 1px rgba(60, 64, 67, 0.15);\n",
              "      fill: #174EA6;\n",
              "    }\n",
              "\n",
              "    [theme=dark] .colab-df-convert {\n",
              "      background-color: #3B4455;\n",
              "      fill: #D2E3FC;\n",
              "    }\n",
              "\n",
              "    [theme=dark] .colab-df-convert:hover {\n",
              "      background-color: #434B5C;\n",
              "      box-shadow: 0px 1px 3px 1px rgba(0, 0, 0, 0.15);\n",
              "      filter: drop-shadow(0px 1px 2px rgba(0, 0, 0, 0.3));\n",
              "      fill: #FFFFFF;\n",
              "    }\n",
              "  </style>\n",
              "\n",
              "      <script>\n",
              "        const buttonEl =\n",
              "          document.querySelector('#df-3fe31bef-6aba-4515-894d-0e39217ca4ba button.colab-df-convert');\n",
              "        buttonEl.style.display =\n",
              "          google.colab.kernel.accessAllowed ? 'block' : 'none';\n",
              "\n",
              "        async function convertToInteractive(key) {\n",
              "          const element = document.querySelector('#df-3fe31bef-6aba-4515-894d-0e39217ca4ba');\n",
              "          const dataTable =\n",
              "            await google.colab.kernel.invokeFunction('convertToInteractive',\n",
              "                                                     [key], {});\n",
              "          if (!dataTable) return;\n",
              "\n",
              "          const docLinkHtml = 'Like what you see? Visit the ' +\n",
              "            '<a target=\"_blank\" href=https://colab.research.google.com/notebooks/data_table.ipynb>data table notebook</a>'\n",
              "            + ' to learn more about interactive tables.';\n",
              "          element.innerHTML = '';\n",
              "          dataTable['output_type'] = 'display_data';\n",
              "          await google.colab.output.renderOutput(dataTable, element);\n",
              "          const docLink = document.createElement('div');\n",
              "          docLink.innerHTML = docLinkHtml;\n",
              "          element.appendChild(docLink);\n",
              "        }\n",
              "      </script>\n",
              "    </div>\n",
              "  </div>\n",
              "  "
            ]
          },
          "metadata": {},
          "execution_count": 19
        }
      ],
      "source": [
        "Airlines.describe()"
      ]
    },
    {
      "cell_type": "markdown",
      "metadata": {
        "id": "Y0sO6oZY4fLG"
      },
      "source": [
        "# **Baseline Model**"
      ]
    },
    {
      "cell_type": "markdown",
      "metadata": {
        "id": "_pabLGXpatyw"
      },
      "source": [
        "## Check Null and Missing Values\n",
        "\n",
        "Melakukan pengecekan terhadap dataset akan ada atau tidaknya Missing Value atau Duplicate Value"
      ]
    },
    {
      "cell_type": "markdown",
      "metadata": {
        "id": "5wtIX0MVMkfL"
      },
      "source": [
        "Observation:\n",
        "\n",
        "1.   Dataset terdiri dari 8 kolom dengan 539383 baris\n",
        "2.   Tidak ditemukan adanya Missing value \n",
        "\n",
        "\n"
      ]
    },
    {
      "cell_type": "code",
      "execution_count": null,
      "metadata": {
        "colab": {
          "base_uri": "https://localhost:8080/"
        },
        "id": "Pkaijc6tMuqP",
        "outputId": "1f58bb61-5b0c-463f-f0d4-1df2962e19b4"
      },
      "outputs": [
        {
          "output_type": "execute_result",
          "data": {
            "text/plain": [
              "Flight                     0.0\n",
              "DayOfWeek                  0.0\n",
              "Time                       0.0\n",
              "Length                     0.0\n",
              "Delay                      0.0\n",
              "AirportTo_freq_encode      0.0\n",
              "AirportFrom_freq_encode    0.0\n",
              "Airline_freq_encode        0.0\n",
              "dtype: float64"
            ]
          },
          "metadata": {},
          "execution_count": 20
        }
      ],
      "source": [
        "# Check ratio for missing values\n",
        "Airlines.isna().sum() * 100 / len(Airlines)"
      ]
    },
    {
      "cell_type": "code",
      "execution_count": null,
      "metadata": {
        "colab": {
          "base_uri": "https://localhost:8080/"
        },
        "id": "fVQl8gp2BYe1",
        "outputId": "d41421d6-d61e-41ce-d2f4-bfcd70174dea"
      },
      "outputs": [
        {
          "output_type": "execute_result",
          "data": {
            "text/plain": [
              "Flight                     0.0\n",
              "DayOfWeek                  0.0\n",
              "Time                       0.0\n",
              "Length                     0.0\n",
              "Delay                      0.0\n",
              "AirportTo_freq_encode      0.0\n",
              "AirportFrom_freq_encode    0.0\n",
              "Airline_freq_encode        0.0\n",
              "dtype: float64"
            ]
          },
          "metadata": {},
          "execution_count": 21
        }
      ],
      "source": [
        "# Check ratio for missing values\n",
        "Airlines.isnull().sum() * 100 / len(Airlines)"
      ]
    },
    {
      "cell_type": "markdown",
      "metadata": {
        "id": "K9bNtOEOpofc"
      },
      "source": [
        "## Categorical Handling"
      ]
    },
    {
      "cell_type": "markdown",
      "metadata": {
        "id": "4p92JcmRpOeV"
      },
      "source": [
        "For categorical column more than two distinct value will be handled with \n",
        "**\"Frequency Encoding\"**"
      ]
    },
    {
      "cell_type": "code",
      "execution_count": null,
      "metadata": {
        "id": "aqZU9li3UBf-"
      },
      "outputs": [],
      "source": [
        "# grouping by frequency\n",
        "fq = Airlines.groupby('AirportTo').size()/len(Airlines)\n",
        "# mapping values to dataframe\n",
        "Airlines.loc[:, \"{}_freq_encode\".format('AirportTo')] = Airlines['AirportTo'].map(fq)\n",
        "# drop original column.\n",
        "Airlines = Airlines.drop(['AirportTo'], axis=1)"
      ]
    },
    {
      "cell_type": "code",
      "execution_count": null,
      "metadata": {
        "id": "QHZxJWMlUrkq"
      },
      "outputs": [],
      "source": [
        "# grouping by frequency\n",
        "fqto = Airlines.groupby('AirportFrom').size()/len(Airlines)\n",
        "# mapping values to dataframe\n",
        "Airlines.loc[:, \"{}_freq_encode\".format('AirportFrom')] = Airlines['AirportFrom'].map(fqto)\n",
        "# drop original column.\n",
        "Airlines = Airlines.drop(['AirportFrom'], axis=1)"
      ]
    },
    {
      "cell_type": "code",
      "execution_count": null,
      "metadata": {
        "id": "wkMaQQFrVKId"
      },
      "outputs": [],
      "source": [
        "# grouping by frequency\n",
        "fqa = Airlines.groupby('Airline').size()/len(Airlines)\n",
        "# mapping values to dataframe\n",
        "Airlines.loc[:, \"{}_freq_encode\".format('Airline')] = Airlines['Airline'].map(fqa)\n",
        "# drop original column.\n",
        "Airlines = Airlines.drop(['Airline'], axis=1)"
      ]
    },
    {
      "cell_type": "markdown",
      "metadata": {
        "id": "I0d4dwzyEdi1"
      },
      "source": [
        "## Sampling Dataset"
      ]
    },
    {
      "cell_type": "code",
      "execution_count": null,
      "metadata": {
        "colab": {
          "base_uri": "https://localhost:8080/"
        },
        "id": "wqUSO583kdqf",
        "outputId": "f3873619-f57b-4368-d8c3-0152fd35b5e8"
      },
      "outputs": [
        {
          "output_type": "execute_result",
          "data": {
            "text/plain": [
              "0    299119\n",
              "1    240264\n",
              "Name: Delay, dtype: int64"
            ]
          },
          "metadata": {},
          "execution_count": 9
        }
      ],
      "source": [
        "Airlines['Delay'].value_counts()"
      ]
    },
    {
      "cell_type": "code",
      "execution_count": null,
      "metadata": {
        "colab": {
          "base_uri": "https://localhost:8080/",
          "height": 279
        },
        "id": "CZWYlZsZkQXU",
        "outputId": "6e823d00-805e-4de8-d527-070dd81b2d28"
      },
      "outputs": [
        {
          "output_type": "display_data",
          "data": {
            "text/plain": [
              "<Figure size 432x288 with 1 Axes>"
            ],
            "image/png": "[encoded data removed]"
          },
          "metadata": {
            "needs_background": "light"
          }
        }
      ],
      "source": [
        "sns.countplot(x='Delay', data=Airlines, palette='hls')\n",
        "plt.show()"
      ]
    },
    {
      "cell_type": "code",
      "execution_count": null,
      "metadata": {
        "colab": {
          "base_uri": "https://localhost:8080/"
        },
        "id": "Jy63JyVfkMqp",
        "outputId": "ebd17ddf-b975-4283-ae17-587c8ed49246"
      },
      "outputs": [
        {
          "output_type": "stream",
          "name": "stdout",
          "text": [
            "percentage of no delay is 55.455770760294634\n",
            "percentage of delay 44.544229239705366\n"
          ]
        }
      ],
      "source": [
        "count_no_delay = len(Airlines[Airlines['Delay']==0])\n",
        "count_delay = len(Airlines[Airlines['Delay']==1])\n",
        "pct_of_no_delay = count_no_delay/(count_no_delay+count_delay)\n",
        "print(\"percentage of no delay is\", pct_of_no_delay*100)\n",
        "pct_of_delay = count_delay/(count_no_delay+count_delay)\n",
        "print(\"percentage of delay\", pct_of_delay*100)"
      ]
    },
    {
      "cell_type": "code",
      "execution_count": null,
      "metadata": {
        "colab": {
          "base_uri": "https://localhost:8080/"
        },
        "id": "NH2b_ArOkm78",
        "outputId": "c28ba977-06e4-4653-c62f-7abbae69d24a"
      },
      "outputs": [
        {
          "output_type": "stream",
          "name": "stdout",
          "text": [
            "Shape of training set  (431506, 8)\n",
            "Shape of test set  (107877, 8)\n"
          ]
        }
      ],
      "source": [
        "# Split train and test data into 80:20 proportion\n",
        "train_data, test_data = train_test_split(Airlines, test_size=0.20, random_state=42, shuffle=True)\n",
        "x_train = train_data.drop(columns='Delay')\n",
        "x_test = test_data.drop(columns='Delay')\n",
        "\n",
        "y_train = train_data['Delay']\n",
        "y_test = test_data['Delay']\n",
        "\n",
        "print('Shape of training set ', x_train.shape)\n",
        "print('Shape of test set ', x_test.shape)"
      ]
    },
    {
      "cell_type": "code",
      "execution_count": null,
      "metadata": {
        "id": "avakDUiDypj8"
      },
      "outputs": [],
      "source": [
        "models = [LogisticRegression(random_state=42),\n",
        "          DecisionTreeClassifier(random_state=42),\n",
        "          RandomForestClassifier(random_state=42),\n",
        "          lgb.LGBMClassifier(random_state=42),\n",
        "          XGBClassifier(random_state=42)]\n",
        "\n",
        "baseline = pd.DataFrame(columns = ['Model','F1 score','AUC'])"
      ]
    },
    {
      "cell_type": "code",
      "execution_count": null,
      "metadata": {
        "id": "sIUeHYR2zTYl"
      },
      "outputs": [],
      "source": [
        "for model in models:\n",
        "  model.fit(x_train, y_train)\n",
        "  y_pred = model.predict(x_test)\n",
        "\n",
        "  model = str(type(model)).split('.')[-1][:-2]\n",
        "\n",
        "  tn, fp, fn, tp = confusion_matrix(y_test, y_pred).ravel()\n",
        "\n",
        "  precision = tp/(tp+fp)\n",
        "  recall = tp/(tp+fn)\n",
        "  f1 = 2 * (precision * recall)/(precision + recall)\n",
        "\n",
        "  # ROC AUC\n",
        "  roc_auc = roc_auc_score(y_test, y_pred)\n",
        "\n",
        "  baseline = baseline.append({'Model': model,\n",
        "                           'F1 score': f1,\n",
        "                                'AUC': roc_auc},\n",
        "                              ignore_index=True)"
      ]
    },
    {
      "cell_type": "code",
      "execution_count": null,
      "metadata": {
        "colab": {
          "base_uri": "https://localhost:8080/",
          "height": 206
        },
        "id": "YkcrDRFR__Wp",
        "outputId": "643ecb86-17dd-450e-9831-cc4fdd359ecb"
      },
      "outputs": [
        {
          "output_type": "execute_result",
          "data": {
            "text/plain": [
              "                    Model  F1 score       AUC\n",
              "0      LogisticRegression  0.461009  0.542704\n",
              "1  DecisionTreeClassifier  0.581469  0.622108\n",
              "2  RandomForestClassifier  0.635395  0.684800\n",
              "3          LGBMClassifier  0.607623  0.673790\n",
              "4           XGBClassifier  0.570996  0.650067"
            ],
            "text/html": [
              "\n",
              "  <div id=\"df-3f6c038b-96ef-4df5-9f6e-6d9de74d28d3\">\n",
              "    <div class=\"colab-df-container\">\n",
              "      <div>\n",
              "<style scoped>\n",
              "    .dataframe tbody tr th:only-of-type {\n",
              "        vertical-align: middle;\n",
              "    }\n",
              "\n",
              "    .dataframe tbody tr th {\n",
              "        vertical-align: top;\n",
              "    }\n",
              "\n",
              "    .dataframe thead th {\n",
              "        text-align: right;\n",
              "    }\n",
              "</style>\n",
              "<table border=\"1\" class=\"dataframe\">\n",
              "  <thead>\n",
              "    <tr style=\"text-align: right;\">\n",
              "      <th></th>\n",
              "      <th>Model</th>\n",
              "      <th>F1 score</th>\n",
              "      <th>AUC</th>\n",
              "    </tr>\n",
              "  </thead>\n",
              "  <tbody>\n",
              "    <tr>\n",
              "      <th>0</th>\n",
              "      <td>LogisticRegression</td>\n",
              "      <td>0.461009</td>\n",
              "      <td>0.542704</td>\n",
              "    </tr>\n",
              "    <tr>\n",
              "      <th>1</th>\n",
              "      <td>DecisionTreeClassifier</td>\n",
              "      <td>0.581469</td>\n",
              "      <td>0.622108</td>\n",
              "    </tr>\n",
              "    <tr>\n",
              "      <th>2</th>\n",
              "      <td>RandomForestClassifier</td>\n",
              "      <td>0.635395</td>\n",
              "      <td>0.684800</td>\n",
              "    </tr>\n",
              "    <tr>\n",
              "      <th>3</th>\n",
              "      <td>LGBMClassifier</td>\n",
              "      <td>0.607623</td>\n",
              "      <td>0.673790</td>\n",
              "    </tr>\n",
              "    <tr>\n",
              "      <th>4</th>\n",
              "      <td>XGBClassifier</td>\n",
              "      <td>0.570996</td>\n",
              "      <td>0.650067</td>\n",
              "    </tr>\n",
              "  </tbody>\n",
              "</table>\n",
              "</div>\n",
              "      <button class=\"colab-df-convert\" onclick=\"convertToInteractive('df-3f6c038b-96ef-4df5-9f6e-6d9de74d28d3')\"\n",
              "              title=\"Convert this dataframe to an interactive table.\"\n",
              "              style=\"display:none;\">\n",
              "        \n",
              "  <svg xmlns=\"http://www.w3.org/2000/svg\" height=\"24px\"viewBox=\"0 0 24 24\"\n",
              "       width=\"24px\">\n",
              "    <path d=\"M0 0h24v24H0V0z\" fill=\"none\"/>\n",
              "    <path d=\"M18.56 5.44l.94 2.06.94-2.06 2.06-.94-2.06-.94-.94-2.06-.94 2.06-2.06.94zm-11 1L8.5 8.5l.94-2.06 2.06-.94-2.06-.94L8.5 2.5l-.94 2.06-2.06.94zm10 10l.94 2.06.94-2.06 2.06-.94-2.06-.94-.94-2.06-.94 2.06-2.06.94z\"/><path d=\"M17.41 7.96l-1.37-1.37c-.4-.4-.92-.59-1.43-.59-.52 0-1.04.2-1.43.59L10.3 9.45l-7.72 7.72c-.78.78-.78 2.05 0 2.83L4 21.41c.39.39.9.59 1.41.59.51 0 1.02-.2 1.41-.59l7.78-7.78 2.81-2.81c.8-.78.8-2.07 0-2.86zM5.41 20L4 18.59l7.72-7.72 1.47 1.35L5.41 20z\"/>\n",
              "  </svg>\n",
              "      </button>\n",
              "      \n",
              "  <style>\n",
              "    .colab-df-container {\n",
              "      display:flex;\n",
              "      flex-wrap:wrap;\n",
              "      gap: 12px;\n",
              "    }\n",
              "\n",
              "    .colab-df-convert {\n",
              "      background-color: #E8F0FE;\n",
              "      border: none;\n",
              "      border-radius: 50%;\n",
              "      cursor: pointer;\n",
              "      display: none;\n",
              "      fill: #1967D2;\n",
              "      height: 32px;\n",
              "      padding: 0 0 0 0;\n",
              "      width: 32px;\n",
              "    }\n",
              "\n",
              "    .colab-df-convert:hover {\n",
              "      background-color: #E2EBFA;\n",
              "      box-shadow: 0px 1px 2px rgba(60, 64, 67, 0.3), 0px 1px 3px 1px rgba(60, 64, 67, 0.15);\n",
              "      fill: #174EA6;\n",
              "    }\n",
              "\n",
              "    [theme=dark] .colab-df-convert {\n",
              "      background-color: #3B4455;\n",
              "      fill: #D2E3FC;\n",
              "    }\n",
              "\n",
              "    [theme=dark] .colab-df-convert:hover {\n",
              "      background-color: #434B5C;\n",
              "      box-shadow: 0px 1px 3px 1px rgba(0, 0, 0, 0.15);\n",
              "      filter: drop-shadow(0px 1px 2px rgba(0, 0, 0, 0.3));\n",
              "      fill: #FFFFFF;\n",
              "    }\n",
              "  </style>\n",
              "\n",
              "      <script>\n",
              "        const buttonEl =\n",
              "          document.querySelector('#df-3f6c038b-96ef-4df5-9f6e-6d9de74d28d3 button.colab-df-convert');\n",
              "        buttonEl.style.display =\n",
              "          google.colab.kernel.accessAllowed ? 'block' : 'none';\n",
              "\n",
              "        async function convertToInteractive(key) {\n",
              "          const element = document.querySelector('#df-3f6c038b-96ef-4df5-9f6e-6d9de74d28d3');\n",
              "          const dataTable =\n",
              "            await google.colab.kernel.invokeFunction('convertToInteractive',\n",
              "                                                     [key], {});\n",
              "          if (!dataTable) return;\n",
              "\n",
              "          const docLinkHtml = 'Like what you see? Visit the ' +\n",
              "            '<a target=\"_blank\" href=https://colab.research.google.com/notebooks/data_table.ipynb>data table notebook</a>'\n",
              "            + ' to learn more about interactive tables.';\n",
              "          element.innerHTML = '';\n",
              "          dataTable['output_type'] = 'display_data';\n",
              "          await google.colab.output.renderOutput(dataTable, element);\n",
              "          const docLink = document.createElement('div');\n",
              "          docLink.innerHTML = docLinkHtml;\n",
              "          element.appendChild(docLink);\n",
              "        }\n",
              "      </script>\n",
              "    </div>\n",
              "  </div>\n",
              "  "
            ]
          },
          "metadata": {},
          "execution_count": 15
        }
      ],
      "source": [
        "baseline"
      ]
    },
    {
      "cell_type": "code",
      "execution_count": null,
      "metadata": {
        "colab": {
          "base_uri": "https://localhost:8080/",
          "height": 266
        },
        "id": "rID9gjEi1Lbb",
        "outputId": "369eb9f9-8c16-4ed9-a2a3-ef4be89b8d8f"
      },
      "outputs": [
        {
          "output_type": "execute_result",
          "data": {
            "text/plain": [
              "<matplotlib.axes._subplots.AxesSubplot at 0x7fb55d7b92b0>"
            ]
          },
          "metadata": {},
          "execution_count": 16
        },
        {
          "output_type": "display_data",
          "data": {
            "text/plain": [
              "<Figure size 432x288 with 1 Axes>"
            ],
            "image/png": "[encoded data removed]"
          },
          "metadata": {}
        }
      ],
      "source": [
        "# Check proportion of data\n",
        "Airlines['Delay'].value_counts().plot.pie(autopct='%.2f')"
      ]
    },
    {
      "cell_type": "markdown",
      "metadata": {
        "id": "6PndV3oI1izP"
      },
      "source": [
        "- Since the target feature is imbalance, we will not using accuracy as the evaluation metric instead AUC score will be used as evaluation metrics.\n",
        "- The performance it's not good enough as baseline, so let's hope the model performance still can be improved.\n",
        "- I will do EDA & Hypertuning Parameter for trying to increase model performances"
      ]
    },
    {
      "cell_type": "markdown",
      "metadata": {
        "id": "yEeV7MJpSNnI"
      },
      "source": [
        "# **Data Preprocessing**"
      ]
    },
    {
      "cell_type": "markdown",
      "metadata": {
        "id": "pxWmpS604ndC"
      },
      "source": [
        "## **Data Preparation**"
      ]
    },
    {
      "cell_type": "code",
      "execution_count": null,
      "metadata": {
        "id": "n7nfTsPiSWqK"
      },
      "outputs": [],
      "source": [
        "# Reload dataset\n",
        "Airlines_2 = pd.read_csv('Airlines.csv')"
      ]
    },
    {
      "cell_type": "code",
      "execution_count": null,
      "metadata": {
        "colab": {
          "base_uri": "https://localhost:8080/",
          "height": 206
        },
        "id": "w-72b_KVSs09",
        "outputId": "aa67520d-4ced-4600-9108-44c93423811e"
      },
      "outputs": [
        {
          "output_type": "execute_result",
          "data": {
            "text/plain": [
              "   id Airline  Flight AirportFrom AirportTo  DayOfWeek  Time  Length  Delay\n",
              "0   1      CO     269         SFO       IAH          3    15     205      1\n",
              "1   2      US    1558         PHX       CLT          3    15     222      1\n",
              "2   3      AA    2400         LAX       DFW          3    20     165      1\n",
              "3   4      AA    2466         SFO       DFW          3    20     195      1\n",
              "4   5      AS     108         ANC       SEA          3    30     202      0"
            ],
            "text/html": [
              "\n",
              "  <div id=\"df-194dc908-28a3-48d9-b7de-dfa3945419b8\">\n",
              "    <div class=\"colab-df-container\">\n",
              "      <div>\n",
              "<style scoped>\n",
              "    .dataframe tbody tr th:only-of-type {\n",
              "        vertical-align: middle;\n",
              "    }\n",
              "\n",
              "    .dataframe tbody tr th {\n",
              "        vertical-align: top;\n",
              "    }\n",
              "\n",
              "    .dataframe thead th {\n",
              "        text-align: right;\n",
              "    }\n",
              "</style>\n",
              "<table border=\"1\" class=\"dataframe\">\n",
              "  <thead>\n",
              "    <tr style=\"text-align: right;\">\n",
              "      <th></th>\n",
              "      <th>id</th>\n",
              "      <th>Airline</th>\n",
              "      <th>Flight</th>\n",
              "      <th>AirportFrom</th>\n",
              "      <th>AirportTo</th>\n",
              "      <th>DayOfWeek</th>\n",
              "      <th>Time</th>\n",
              "      <th>Length</th>\n",
              "      <th>Delay</th>\n",
              "    </tr>\n",
              "  </thead>\n",
              "  <tbody>\n",
              "    <tr>\n",
              "      <th>0</th>\n",
              "      <td>1</td>\n",
              "      <td>CO</td>\n",
              "      <td>269</td>\n",
              "      <td>SFO</td>\n",
              "      <td>IAH</td>\n",
              "      <td>3</td>\n",
              "      <td>15</td>\n",
              "      <td>205</td>\n",
              "      <td>1</td>\n",
              "    </tr>\n",
              "    <tr>\n",
              "      <th>1</th>\n",
              "      <td>2</td>\n",
              "      <td>US</td>\n",
              "      <td>1558</td>\n",
              "      <td>PHX</td>\n",
              "      <td>CLT</td>\n",
              "      <td>3</td>\n",
              "      <td>15</td>\n",
              "      <td>222</td>\n",
              "      <td>1</td>\n",
              "    </tr>\n",
              "    <tr>\n",
              "      <th>2</th>\n",
              "      <td>3</td>\n",
              "      <td>AA</td>\n",
              "      <td>2400</td>\n",
              "      <td>LAX</td>\n",
              "      <td>DFW</td>\n",
              "      <td>3</td>\n",
              "      <td>20</td>\n",
              "      <td>165</td>\n",
              "      <td>1</td>\n",
              "    </tr>\n",
              "    <tr>\n",
              "      <th>3</th>\n",
              "      <td>4</td>\n",
              "      <td>AA</td>\n",
              "      <td>2466</td>\n",
              "      <td>SFO</td>\n",
              "      <td>DFW</td>\n",
              "      <td>3</td>\n",
              "      <td>20</td>\n",
              "      <td>195</td>\n",
              "      <td>1</td>\n",
              "    </tr>\n",
              "    <tr>\n",
              "      <th>4</th>\n",
              "      <td>5</td>\n",
              "      <td>AS</td>\n",
              "      <td>108</td>\n",
              "      <td>ANC</td>\n",
              "      <td>SEA</td>\n",
              "      <td>3</td>\n",
              "      <td>30</td>\n",
              "      <td>202</td>\n",
              "      <td>0</td>\n",
              "    </tr>\n",
              "  </tbody>\n",
              "</table>\n",
              "</div>\n",
              "      <button class=\"colab-df-convert\" onclick=\"convertToInteractive('df-194dc908-28a3-48d9-b7de-dfa3945419b8')\"\n",
              "              title=\"Convert this dataframe to an interactive table.\"\n",
              "              style=\"display:none;\">\n",
              "        \n",
              "  <svg xmlns=\"http://www.w3.org/2000/svg\" height=\"24px\"viewBox=\"0 0 24 24\"\n",
              "       width=\"24px\">\n",
              "    <path d=\"M0 0h24v24H0V0z\" fill=\"none\"/>\n",
              "    <path d=\"M18.56 5.44l.94 2.06.94-2.06 2.06-.94-2.06-.94-.94-2.06-.94 2.06-2.06.94zm-11 1L8.5 8.5l.94-2.06 2.06-.94-2.06-.94L8.5 2.5l-.94 2.06-2.06.94zm10 10l.94 2.06.94-2.06 2.06-.94-2.06-.94-.94-2.06-.94 2.06-2.06.94z\"/><path d=\"M17.41 7.96l-1.37-1.37c-.4-.4-.92-.59-1.43-.59-.52 0-1.04.2-1.43.59L10.3 9.45l-7.72 7.72c-.78.78-.78 2.05 0 2.83L4 21.41c.39.39.9.59 1.41.59.51 0 1.02-.2 1.41-.59l7.78-7.78 2.81-2.81c.8-.78.8-2.07 0-2.86zM5.41 20L4 18.59l7.72-7.72 1.47 1.35L5.41 20z\"/>\n",
              "  </svg>\n",
              "      </button>\n",
              "      \n",
              "  <style>\n",
              "    .colab-df-container {\n",
              "      display:flex;\n",
              "      flex-wrap:wrap;\n",
              "      gap: 12px;\n",
              "    }\n",
              "\n",
              "    .colab-df-convert {\n",
              "      background-color: #E8F0FE;\n",
              "      border: none;\n",
              "      border-radius: 50%;\n",
              "      cursor: pointer;\n",
              "      display: none;\n",
              "      fill: #1967D2;\n",
              "      height: 32px;\n",
              "      padding: 0 0 0 0;\n",
              "      width: 32px;\n",
              "    }\n",
              "\n",
              "    .colab-df-convert:hover {\n",
              "      background-color: #E2EBFA;\n",
              "      box-shadow: 0px 1px 2px rgba(60, 64, 67, 0.3), 0px 1px 3px 1px rgba(60, 64, 67, 0.15);\n",
              "      fill: #174EA6;\n",
              "    }\n",
              "\n",
              "    [theme=dark] .colab-df-convert {\n",
              "      background-color: #3B4455;\n",
              "      fill: #D2E3FC;\n",
              "    }\n",
              "\n",
              "    [theme=dark] .colab-df-convert:hover {\n",
              "      background-color: #434B5C;\n",
              "      box-shadow: 0px 1px 3px 1px rgba(0, 0, 0, 0.15);\n",
              "      filter: drop-shadow(0px 1px 2px rgba(0, 0, 0, 0.3));\n",
              "      fill: #FFFFFF;\n",
              "    }\n",
              "  </style>\n",
              "\n",
              "      <script>\n",
              "        const buttonEl =\n",
              "          document.querySelector('#df-194dc908-28a3-48d9-b7de-dfa3945419b8 button.colab-df-convert');\n",
              "        buttonEl.style.display =\n",
              "          google.colab.kernel.accessAllowed ? 'block' : 'none';\n",
              "\n",
              "        async function convertToInteractive(key) {\n",
              "          const element = document.querySelector('#df-194dc908-28a3-48d9-b7de-dfa3945419b8');\n",
              "          const dataTable =\n",
              "            await google.colab.kernel.invokeFunction('convertToInteractive',\n",
              "                                                     [key], {});\n",
              "          if (!dataTable) return;\n",
              "\n",
              "          const docLinkHtml = 'Like what you see? Visit the ' +\n",
              "            '<a target=\"_blank\" href=https://colab.research.google.com/notebooks/data_table.ipynb>data table notebook</a>'\n",
              "            + ' to learn more about interactive tables.';\n",
              "          element.innerHTML = '';\n",
              "          dataTable['output_type'] = 'display_data';\n",
              "          await google.colab.output.renderOutput(dataTable, element);\n",
              "          const docLink = document.createElement('div');\n",
              "          docLink.innerHTML = docLinkHtml;\n",
              "          element.appendChild(docLink);\n",
              "        }\n",
              "      </script>\n",
              "    </div>\n",
              "  </div>\n",
              "  "
            ]
          },
          "metadata": {},
          "execution_count": 23
        }
      ],
      "source": [
        "Airlines_2.head(5)"
      ]
    },
    {
      "cell_type": "code",
      "source": [
        "# Drop Date column from dataset\n",
        "Airlines_2 = Airlines_2.drop(columns = ['id'])"
      ],
      "metadata": {
        "id": "RuMbQ3KuQVPz"
      },
      "execution_count": null,
      "outputs": []
    },
    {
      "cell_type": "markdown",
      "metadata": {
        "id": "gwh7abnG3Zug"
      },
      "source": [
        "## Handling Missing Values"
      ]
    },
    {
      "cell_type": "markdown",
      "metadata": {
        "id": "2J4jz9RbTBFW"
      },
      "source": [
        "For missing values handling, there's no treatment for handle missing values in this dataset since there isn't any missing value found."
      ]
    },
    {
      "cell_type": "code",
      "execution_count": null,
      "metadata": {
        "colab": {
          "base_uri": "https://localhost:8080/"
        },
        "id": "RR0nkzno23fa",
        "outputId": "199cdc68-a6dd-4d36-e73f-19722b0765c5"
      },
      "outputs": [
        {
          "output_type": "execute_result",
          "data": {
            "text/plain": [
              "Airline             0.0\n",
              "Flight              0.0\n",
              "AirportFrom         0.0\n",
              "AirportTo           0.0\n",
              "DayOfWeek           0.0\n",
              "Delay               0.0\n",
              "Length_by_hours     0.0\n",
              "Time_by_hour        0.0\n",
              "Departure_period    0.0\n",
              "week                0.0\n",
              "dtype: float64"
            ]
          },
          "metadata": {},
          "execution_count": 80
        }
      ],
      "source": [
        "# Check ratio for missing values\n",
        "Airlines_2.isna().sum() * 100 / len(Airlines_2)"
      ]
    },
    {
      "cell_type": "markdown",
      "metadata": {
        "id": "ALbHcfA8dfM-"
      },
      "source": [
        "## Identifying each column"
      ]
    },
    {
      "cell_type": "code",
      "execution_count": null,
      "metadata": {
        "id": "_rxCAk8xVHA8"
      },
      "outputs": [],
      "source": [
        "# Identify numerical and categorical columns\n",
        "Numericals = [column_name for column_name in Airlines_2.columns if Airlines_2[column_name].dtype != 'O']\n",
        "Categoricals = [column_name for column_name in Airlines_2.columns if Airlines_2[column_name].dtype == 'O']"
      ]
    },
    {
      "cell_type": "code",
      "execution_count": null,
      "metadata": {
        "colab": {
          "base_uri": "https://localhost:8080/"
        },
        "id": "od--4WgyVe3F",
        "outputId": "a5e6d7d3-3243-4276-8de0-4dbf51c2b6b7"
      },
      "outputs": [
        {
          "output_type": "execute_result",
          "data": {
            "text/plain": [
              "['id', 'Flight', 'DayOfWeek', 'Time', 'Length', 'Delay']"
            ]
          },
          "metadata": {},
          "execution_count": 25
        }
      ],
      "source": [
        "Numericals"
      ]
    },
    {
      "cell_type": "code",
      "execution_count": null,
      "metadata": {
        "colab": {
          "base_uri": "https://localhost:8080/"
        },
        "id": "m4WV2i2VVhPE",
        "outputId": "8750ecce-d5b1-457f-c937-44d2ad1f9ddd"
      },
      "outputs": [
        {
          "output_type": "execute_result",
          "data": {
            "text/plain": [
              "['Airline', 'AirportFrom', 'AirportTo']"
            ]
          },
          "metadata": {},
          "execution_count": 26
        }
      ],
      "source": [
        "Categoricals"
      ]
    },
    {
      "cell_type": "markdown",
      "metadata": {
        "id": "7y_uty9CIujx"
      },
      "source": [
        "# **Feature Selection and Exploratory Data Analysis (EDA)**"
      ]
    },
    {
      "cell_type": "markdown",
      "metadata": {
        "id": "lGOPRqztaS7k"
      },
      "source": [
        "## **Statistical Summary**"
      ]
    },
    {
      "cell_type": "code",
      "execution_count": null,
      "metadata": {
        "colab": {
          "base_uri": "https://localhost:8080/"
        },
        "id": "_dLwSqwM3hGT",
        "outputId": "d0d6f24e-6af6-4012-f018-6c319913a8cc"
      },
      "outputs": [
        {
          "output_type": "execute_result",
          "data": {
            "text/plain": [
              "0    299119\n",
              "1    240264\n",
              "Name: Delay, dtype: int64"
            ]
          },
          "metadata": {},
          "execution_count": 27
        }
      ],
      "source": [
        "Airlines_2['Delay'].value_counts()"
      ]
    },
    {
      "cell_type": "code",
      "execution_count": null,
      "metadata": {
        "id": "_R6nQOBdaRlf"
      },
      "outputs": [],
      "source": [
        "# Check numerical data summary\n",
        "Airlines_2[Numericals].describe()"
      ]
    },
    {
      "cell_type": "markdown",
      "metadata": {
        "id": "5w8w3ARfanbt"
      },
      "source": [
        "- `ID`, `DayofWeek`, and `Delay` is discrete value, data distribution can be ignored.\n",
        "- `Flight`, `Time`, and `Length` somewhat have not symmetrical distribution.\n",
        "- For other columns have skew distribution. It will be make sure in KDE plot."
      ]
    },
    {
      "cell_type": "code",
      "execution_count": null,
      "metadata": {
        "colab": {
          "base_uri": "https://localhost:8080/",
          "height": 175
        },
        "id": "zFWvC-snbzGI",
        "outputId": "d12f7beb-5672-4c02-9303-e6f154bf7ff0"
      },
      "outputs": [
        {
          "output_type": "execute_result",
          "data": {
            "text/plain": [
              "       Airline AirportFrom AirportTo\n",
              "count   539383      539383    539383\n",
              "unique      18         293       293\n",
              "top         WN         ATL       ATL\n",
              "freq     94097       34449     34440"
            ],
            "text/html": [
              "\n",
              "  <div id=\"df-d9bd9216-cfdf-48d4-9547-77bf69e5efe9\">\n",
              "    <div class=\"colab-df-container\">\n",
              "      <div>\n",
              "<style scoped>\n",
              "    .dataframe tbody tr th:only-of-type {\n",
              "        vertical-align: middle;\n",
              "    }\n",
              "\n",
              "    .dataframe tbody tr th {\n",
              "        vertical-align: top;\n",
              "    }\n",
              "\n",
              "    .dataframe thead th {\n",
              "        text-align: right;\n",
              "    }\n",
              "</style>\n",
              "<table border=\"1\" class=\"dataframe\">\n",
              "  <thead>\n",
              "    <tr style=\"text-align: right;\">\n",
              "      <th></th>\n",
              "      <th>Airline</th>\n",
              "      <th>AirportFrom</th>\n",
              "      <th>AirportTo</th>\n",
              "    </tr>\n",
              "  </thead>\n",
              "  <tbody>\n",
              "    <tr>\n",
              "      <th>count</th>\n",
              "      <td>539383</td>\n",
              "      <td>539383</td>\n",
              "      <td>539383</td>\n",
              "    </tr>\n",
              "    <tr>\n",
              "      <th>unique</th>\n",
              "      <td>18</td>\n",
              "      <td>293</td>\n",
              "      <td>293</td>\n",
              "    </tr>\n",
              "    <tr>\n",
              "      <th>top</th>\n",
              "      <td>WN</td>\n",
              "      <td>ATL</td>\n",
              "      <td>ATL</td>\n",
              "    </tr>\n",
              "    <tr>\n",
              "      <th>freq</th>\n",
              "      <td>94097</td>\n",
              "      <td>34449</td>\n",
              "      <td>34440</td>\n",
              "    </tr>\n",
              "  </tbody>\n",
              "</table>\n",
              "</div>\n",
              "      <button class=\"colab-df-convert\" onclick=\"convertToInteractive('df-d9bd9216-cfdf-48d4-9547-77bf69e5efe9')\"\n",
              "              title=\"Convert this dataframe to an interactive table.\"\n",
              "              style=\"display:none;\">\n",
              "        \n",
              "  <svg xmlns=\"http://www.w3.org/2000/svg\" height=\"24px\"viewBox=\"0 0 24 24\"\n",
              "       width=\"24px\">\n",
              "    <path d=\"M0 0h24v24H0V0z\" fill=\"none\"/>\n",
              "    <path d=\"M18.56 5.44l.94 2.06.94-2.06 2.06-.94-2.06-.94-.94-2.06-.94 2.06-2.06.94zm-11 1L8.5 8.5l.94-2.06 2.06-.94-2.06-.94L8.5 2.5l-.94 2.06-2.06.94zm10 10l.94 2.06.94-2.06 2.06-.94-2.06-.94-.94-2.06-.94 2.06-2.06.94z\"/><path d=\"M17.41 7.96l-1.37-1.37c-.4-.4-.92-.59-1.43-.59-.52 0-1.04.2-1.43.59L10.3 9.45l-7.72 7.72c-.78.78-.78 2.05 0 2.83L4 21.41c.39.39.9.59 1.41.59.51 0 1.02-.2 1.41-.59l7.78-7.78 2.81-2.81c.8-.78.8-2.07 0-2.86zM5.41 20L4 18.59l7.72-7.72 1.47 1.35L5.41 20z\"/>\n",
              "  </svg>\n",
              "      </button>\n",
              "      \n",
              "  <style>\n",
              "    .colab-df-container {\n",
              "      display:flex;\n",
              "      flex-wrap:wrap;\n",
              "      gap: 12px;\n",
              "    }\n",
              "\n",
              "    .colab-df-convert {\n",
              "      background-color: #E8F0FE;\n",
              "      border: none;\n",
              "      border-radius: 50%;\n",
              "      cursor: pointer;\n",
              "      display: none;\n",
              "      fill: #1967D2;\n",
              "      height: 32px;\n",
              "      padding: 0 0 0 0;\n",
              "      width: 32px;\n",
              "    }\n",
              "\n",
              "    .colab-df-convert:hover {\n",
              "      background-color: #E2EBFA;\n",
              "      box-shadow: 0px 1px 2px rgba(60, 64, 67, 0.3), 0px 1px 3px 1px rgba(60, 64, 67, 0.15);\n",
              "      fill: #174EA6;\n",
              "    }\n",
              "\n",
              "    [theme=dark] .colab-df-convert {\n",
              "      background-color: #3B4455;\n",
              "      fill: #D2E3FC;\n",
              "    }\n",
              "\n",
              "    [theme=dark] .colab-df-convert:hover {\n",
              "      background-color: #434B5C;\n",
              "      box-shadow: 0px 1px 3px 1px rgba(0, 0, 0, 0.15);\n",
              "      filter: drop-shadow(0px 1px 2px rgba(0, 0, 0, 0.3));\n",
              "      fill: #FFFFFF;\n",
              "    }\n",
              "  </style>\n",
              "\n",
              "      <script>\n",
              "        const buttonEl =\n",
              "          document.querySelector('#df-d9bd9216-cfdf-48d4-9547-77bf69e5efe9 button.colab-df-convert');\n",
              "        buttonEl.style.display =\n",
              "          google.colab.kernel.accessAllowed ? 'block' : 'none';\n",
              "\n",
              "        async function convertToInteractive(key) {\n",
              "          const element = document.querySelector('#df-d9bd9216-cfdf-48d4-9547-77bf69e5efe9');\n",
              "          const dataTable =\n",
              "            await google.colab.kernel.invokeFunction('convertToInteractive',\n",
              "                                                     [key], {});\n",
              "          if (!dataTable) return;\n",
              "\n",
              "          const docLinkHtml = 'Like what you see? Visit the ' +\n",
              "            '<a target=\"_blank\" href=https://colab.research.google.com/notebooks/data_table.ipynb>data table notebook</a>'\n",
              "            + ' to learn more about interactive tables.';\n",
              "          element.innerHTML = '';\n",
              "          dataTable['output_type'] = 'display_data';\n",
              "          await google.colab.output.renderOutput(dataTable, element);\n",
              "          const docLink = document.createElement('div');\n",
              "          docLink.innerHTML = docLinkHtml;\n",
              "          element.appendChild(docLink);\n",
              "        }\n",
              "      </script>\n",
              "    </div>\n",
              "  </div>\n",
              "  "
            ]
          },
          "metadata": {},
          "execution_count": 29
        }
      ],
      "source": [
        "# Check categorical data summary\n",
        "Airlines_2[Categoricals].describe()"
      ]
    },
    {
      "cell_type": "markdown",
      "metadata": {
        "id": "w1JwUV1IcFav"
      },
      "source": [
        "- `AirportFrom` and `AirportTo` have the same distinct value since both airport are used for arrival and departure\n",
        "- For all categoricals columns in this dataset have more than two distinct value."
      ]
    },
    {
      "cell_type": "markdown",
      "metadata": {
        "id": "c7-lFW0FcJlX"
      },
      "source": [
        "## **Univariate Analysis**"
      ]
    },
    {
      "cell_type": "markdown",
      "metadata": {
        "id": "S1oSkXEVJZP0"
      },
      "source": [
        "Univariate analysis is a statistical method used to study the properties of a single variable in a dataset. In this case, we will create two visualizations to better understand the data:\n",
        "*   Box Plot\n",
        "*   Kernel Density Estimation (KDE) Plot\n",
        "\n"
      ]
    },
    {
      "cell_type": "markdown",
      "metadata": {
        "id": "9ZJ2ooctftrS"
      },
      "source": [
        "### **Flight**"
      ]
    },
    {
      "cell_type": "code",
      "execution_count": null,
      "metadata": {
        "colab": {
          "base_uri": "https://localhost:8080/"
        },
        "id": "xmgQpGPef0Qx",
        "outputId": "321f9f09-1fb3-4398-9786-68d22add430a"
      },
      "outputs": [
        {
          "output_type": "execute_result",
          "data": {
            "text/plain": [
              "<matplotlib.axes._subplots.AxesSubplot at 0x7fb55d726340>"
            ]
          },
          "metadata": {},
          "execution_count": 30
        },
        {
          "output_type": "display_data",
          "data": {
            "text/plain": [
              "<Figure size 936x216 with 1 Axes>"
            ],
            "image/png": "[encoded data removed]"
          },
          "metadata": {
            "needs_background": "light"
          }
        }
      ],
      "source": [
        "# Boxplot\n",
        "plt.figure(figsize=(13, 3))\n",
        "sns.boxplot(Airlines_2['Flight'],orient='h',color='orange')"
      ]
    },
    {
      "cell_type": "code",
      "execution_count": null,
      "metadata": {
        "colab": {
          "base_uri": "https://localhost:8080/"
        },
        "id": "gPVOTm4df44e",
        "outputId": "5601719d-610f-4d18-98d9-4decd0acf5e2"
      },
      "outputs": [
        {
          "output_type": "execute_result",
          "data": {
            "text/plain": [
              "<matplotlib.legend.Legend at 0x7fb55d643340>"
            ]
          },
          "metadata": {},
          "execution_count": 31
        },
        {
          "output_type": "display_data",
          "data": {
            "text/plain": [
              "<Figure size 936x360 with 1 Axes>"
            ],
            "image/png": "[encoded data removed]"
          },
          "metadata": {
            "needs_background": "light"
          }
        }
      ],
      "source": [
        "# KDE Plot\n",
        "fig = plt.figure(figsize=(13,5))\n",
        "plt.hist(Airlines_2['Flight'], color='lightgreen', edgecolor = 'Black')\n",
        "plt.axvline(x=Airlines_2['Flight'].mean(),ls='--',color='black',alpha=0.4,label='Mean')\n",
        "plt.axvline(x=Airlines_2['Flight'].median(),ls='--',color='blue',alpha=0.4,label='Median')\n",
        "plt.xlabel('Flight', size=14)\n",
        "plt.legend()"
      ]
    },
    {
      "cell_type": "code",
      "execution_count": null,
      "metadata": {
        "colab": {
          "base_uri": "https://localhost:8080/"
        },
        "id": "aKE0kudgf96M",
        "outputId": "646f59a5-3dfc-479b-8525-591587d5c989"
      },
      "outputs": [
        {
          "output_type": "stream",
          "name": "stdout",
          "text": [
            "Min value in Flight is 1\n",
            "Max value in Flight is 7814\n"
          ]
        }
      ],
      "source": [
        "# Min and max value at Flight column\n",
        "print('Min value in Flight is ' + str(Airlines_2['Flight'].min()))\n",
        "print('Max value in Flight is ' + str(Airlines_2['Flight'].max()))"
      ]
    },
    {
      "cell_type": "code",
      "execution_count": null,
      "metadata": {
        "colab": {
          "base_uri": "https://localhost:8080/"
        },
        "id": "IoJrclt-gJIK",
        "outputId": "609030b5-c7f6-4e10-cd78-6555f31369bf"
      },
      "outputs": [
        {
          "output_type": "stream",
          "name": "stdout",
          "text": [
            "Flight outliers are values < -8387.0 or > 12844.0\n"
          ]
        }
      ],
      "source": [
        "# Flight outliers\n",
        "IQR = Airlines_2.Flight.quantile(0.75) - Airlines_2.Flight.quantile(0.25)\n",
        "Lower_fence = Airlines_2.Flight.quantile(0.25) - (IQR * 3)\n",
        "Upper_fence = Airlines_2.Flight.quantile(0.75) + (IQR * 3)\n",
        "print('Flight outliers are values < {lowerboundary} or > {upperboundary}'.format(lowerboundary=Lower_fence, upperboundary=Upper_fence))"
      ]
    },
    {
      "cell_type": "markdown",
      "metadata": {
        "id": "wxF2OqH-crXY"
      },
      "source": [
        "### **Time**"
      ]
    },
    {
      "cell_type": "code",
      "execution_count": null,
      "metadata": {
        "colab": {
          "base_uri": "https://localhost:8080/"
        },
        "id": "CiBP0cxfcFGC",
        "outputId": "67edbb1b-b9d0-42ee-a0d3-c1af22e8d45b"
      },
      "outputs": [
        {
          "output_type": "execute_result",
          "data": {
            "text/plain": [
              "<matplotlib.axes._subplots.AxesSubplot at 0x7fb55d618d30>"
            ]
          },
          "metadata": {},
          "execution_count": 34
        },
        {
          "output_type": "display_data",
          "data": {
            "text/plain": [
              "<Figure size 936x216 with 1 Axes>"
            ],
            "image/png": "[encoded data removed]"
          },
          "metadata": {
            "needs_background": "light"
          }
        }
      ],
      "source": [
        "# Boxplot\n",
        "plt.figure(figsize=(13, 3))\n",
        "sns.boxplot(Airlines_2['Time'],orient='h',color='#03A678')"
      ]
    },
    {
      "cell_type": "code",
      "execution_count": null,
      "metadata": {
        "colab": {
          "base_uri": "https://localhost:8080/"
        },
        "id": "esZEpcCpc9Gm",
        "outputId": "da7c2c64-4afa-4336-c02e-95d8fa268685"
      },
      "outputs": [
        {
          "output_type": "execute_result",
          "data": {
            "text/plain": [
              "<matplotlib.legend.Legend at 0x7fb55d533f40>"
            ]
          },
          "metadata": {},
          "execution_count": 35
        },
        {
          "output_type": "display_data",
          "data": {
            "text/plain": [
              "<Figure size 936x360 with 1 Axes>"
            ],
            "image/png": "[encoded data removed]"
          },
          "metadata": {
            "needs_background": "light"
          }
        }
      ],
      "source": [
        "# KDE Plot\n",
        "fig = plt.figure(figsize=(13,5))\n",
        "plt.hist(Airlines_2['Time'], color='#F2E3D5', edgecolor = 'Black')\n",
        "plt.axvline(x=Airlines_2['Time'].mean(),ls='--',color='black',alpha=0.4,label='Mean')\n",
        "plt.axvline(x=Airlines_2['Time'].median(),ls='--',color='blue',alpha=0.4,label='Median')\n",
        "plt.xlabel('Time', size=14)\n",
        "plt.legend()"
      ]
    },
    {
      "cell_type": "code",
      "execution_count": null,
      "metadata": {
        "colab": {
          "base_uri": "https://localhost:8080/"
        },
        "id": "t7wpKNmzdWA_",
        "outputId": "359d3a00-56f7-4b32-a29b-2a61156e3bfc"
      },
      "outputs": [
        {
          "output_type": "stream",
          "name": "stdout",
          "text": [
            "Min value in Time is 10\n",
            "Max value in Time is 1439\n"
          ]
        }
      ],
      "source": [
        "# Min and max value at Time column\n",
        "print('Min value in Time is ' + str(Airlines_2['Time'].min()))\n",
        "print('Max value in Time is ' + str(Airlines_2['Time'].max()))"
      ]
    },
    {
      "cell_type": "code",
      "execution_count": null,
      "metadata": {
        "colab": {
          "base_uri": "https://localhost:8080/"
        },
        "id": "fihKvqaVdMCS",
        "outputId": "da233e6b-1c47-4bf8-fcac-5a2f5e9909b2"
      },
      "outputs": [
        {
          "output_type": "stream",
          "name": "stdout",
          "text": [
            "Time outliers are values < -845.0 or > 2445.0\n"
          ]
        }
      ],
      "source": [
        "# Time outliers\n",
        "IQR = Airlines_2.Time.quantile(0.75) - Airlines_2.Time.quantile(0.25)\n",
        "Lower_fence = Airlines_2.Time.quantile(0.25) - (IQR * 3)\n",
        "Upper_fence = Airlines_2.Time.quantile(0.75) + (IQR * 3)\n",
        "print('Time outliers are values < {lowerboundary} or > {upperboundary}'.format(lowerboundary=Lower_fence, upperboundary=Upper_fence))"
      ]
    },
    {
      "cell_type": "markdown",
      "metadata": {
        "id": "RySY_CWSexNI"
      },
      "source": [
        "### **Length**"
      ]
    },
    {
      "cell_type": "code",
      "execution_count": null,
      "metadata": {
        "colab": {
          "base_uri": "https://localhost:8080/"
        },
        "id": "7ZKuhN2wexNQ",
        "outputId": "766ca505-3684-4cd6-8fb3-8d7cc1204b51"
      },
      "outputs": [
        {
          "output_type": "execute_result",
          "data": {
            "text/plain": [
              "<matplotlib.axes._subplots.AxesSubplot at 0x7fb55d4f7880>"
            ]
          },
          "metadata": {},
          "execution_count": 38
        },
        {
          "output_type": "display_data",
          "data": {
            "text/plain": [
              "<Figure size 936x216 with 1 Axes>"
            ],
            "image/png": "[encoded data removed]"
          },
          "metadata": {
            "needs_background": "light"
          }
        }
      ],
      "source": [
        "# Boxplot\n",
        "plt.figure(figsize=(13, 3))\n",
        "sns.boxplot(Airlines_2['Length'],orient='h',color='#03A678')"
      ]
    },
    {
      "cell_type": "code",
      "execution_count": null,
      "metadata": {
        "colab": {
          "base_uri": "https://localhost:8080/"
        },
        "id": "0P9rUhtrexNQ",
        "outputId": "5e05e607-0109-4146-a68e-a454e9250eb0"
      },
      "outputs": [
        {
          "output_type": "execute_result",
          "data": {
            "text/plain": [
              "<matplotlib.legend.Legend at 0x7fb55d4f70d0>"
            ]
          },
          "metadata": {},
          "execution_count": 39
        },
        {
          "output_type": "display_data",
          "data": {
            "text/plain": [
              "<Figure size 936x360 with 1 Axes>"
            ],
            "image/png": "[encoded data removed]"
          },
          "metadata": {
            "needs_background": "light"
          }
        }
      ],
      "source": [
        "# KDE Plot\n",
        "fig = plt.figure(figsize=(13,5))\n",
        "plt.hist(Airlines_2['Length'], color='#F2E3D5', edgecolor = 'Black')\n",
        "plt.axvline(x=Airlines_2['Length'].mean(),ls='--',color='black',alpha=0.4,label='Mean')\n",
        "plt.axvline(x=Airlines_2['Length'].median(),ls='--',color='blue',alpha=0.4,label='Median')\n",
        "plt.xlabel('Length', size=14)\n",
        "plt.legend()"
      ]
    },
    {
      "cell_type": "code",
      "execution_count": null,
      "metadata": {
        "colab": {
          "base_uri": "https://localhost:8080/"
        },
        "id": "21bwM_l0exNQ",
        "outputId": "a74a9662-be89-4170-f350-e1b2c251bb16"
      },
      "outputs": [
        {
          "output_type": "stream",
          "name": "stdout",
          "text": [
            "Min value in Length is 0\n",
            "Max value in Length is 655\n"
          ]
        }
      ],
      "source": [
        "# Min and max value at Length column\n",
        "print('Min value in Length is ' + str(Airlines_2['Length'].min()))\n",
        "print('Max value in Length is ' + str(Airlines_2['Length'].max()))"
      ]
    },
    {
      "cell_type": "code",
      "execution_count": null,
      "metadata": {
        "colab": {
          "base_uri": "https://localhost:8080/"
        },
        "id": "uzvRblLfexNQ",
        "outputId": "c50f9b05-480f-4c5e-93dd-cba5c5e7814f"
      },
      "outputs": [
        {
          "output_type": "stream",
          "name": "stdout",
          "text": [
            "Length outliers are values < -162.0 or > 405.0\n"
          ]
        }
      ],
      "source": [
        "# Length outliers\n",
        "IQR = Airlines_2.Length.quantile(0.75) - Airlines_2.Length.quantile(0.25)\n",
        "Lower_fence = Airlines_2.Length.quantile(0.25) - (IQR * 3)\n",
        "Upper_fence = Airlines_2.Length.quantile(0.75) + (IQR * 3)\n",
        "print('Length outliers are values < {lowerboundary} or > {upperboundary}'.format(lowerboundary=Lower_fence, upperboundary=Upper_fence))"
      ]
    },
    {
      "cell_type": "markdown",
      "metadata": {
        "id": "2im8H7aH_VMM"
      },
      "source": [
        "### **DayofWeek**"
      ]
    },
    {
      "cell_type": "code",
      "execution_count": null,
      "metadata": {
        "colab": {
          "base_uri": "https://localhost:8080/",
          "height": 243
        },
        "id": "1oLftUwY_VMN",
        "outputId": "ca57d579-b537-4304-f1ca-e2a42047229d"
      },
      "outputs": [
        {
          "output_type": "execute_result",
          "data": {
            "text/plain": [
              "<matplotlib.axes._subplots.AxesSubplot at 0x7fb55d5466d0>"
            ]
          },
          "metadata": {},
          "execution_count": 42
        },
        {
          "output_type": "display_data",
          "data": {
            "text/plain": [
              "<Figure size 936x216 with 1 Axes>"
            ],
            "image/png": "[encoded data removed]"
          },
          "metadata": {
            "needs_background": "light"
          }
        }
      ],
      "source": [
        "# Boxplot\n",
        "plt.figure(figsize=(13, 3))\n",
        "sns.boxplot(Airlines_2['DayOfWeek'],orient='h',color='#03A678')"
      ]
    },
    {
      "cell_type": "code",
      "execution_count": null,
      "metadata": {
        "colab": {
          "base_uri": "https://localhost:8080/",
          "height": 356
        },
        "id": "0HMmMrpF_VMN",
        "outputId": "f37ae4ae-8bff-4e39-fd42-b6ed2715feb5"
      },
      "outputs": [
        {
          "output_type": "execute_result",
          "data": {
            "text/plain": [
              "<matplotlib.legend.Legend at 0x7fb55d416c10>"
            ]
          },
          "metadata": {},
          "execution_count": 43
        },
        {
          "output_type": "display_data",
          "data": {
            "text/plain": [
              "<Figure size 936x360 with 1 Axes>"
            ],
            "image/png": "[encoded data removed]"
          },
          "metadata": {
            "needs_background": "light"
          }
        }
      ],
      "source": [
        "# KDE Plot\n",
        "fig = plt.figure(figsize=(13,5))\n",
        "plt.hist(Airlines_2['DayOfWeek'], color='#F2E3D5', edgecolor = 'Black')\n",
        "plt.axvline(x=Airlines_2['DayOfWeek'].mean(),ls='--',color='black',alpha=0.4,label='Mean')\n",
        "plt.axvline(x=Airlines_2['DayOfWeek'].median(),ls='--',color='blue',alpha=0.4,label='Median')\n",
        "plt.xlabel('DayOfWeek', size=14)\n",
        "plt.legend()"
      ]
    },
    {
      "cell_type": "code",
      "execution_count": null,
      "metadata": {
        "colab": {
          "base_uri": "https://localhost:8080/"
        },
        "id": "YqPp5PbS_VMN",
        "outputId": "a8ef81e5-d175-4190-a01b-c5601fcc40ae"
      },
      "outputs": [
        {
          "output_type": "stream",
          "name": "stdout",
          "text": [
            "Min value in DayofWeek is 1\n",
            "Max value in DayofWeek is 7\n"
          ]
        }
      ],
      "source": [
        "# Min and max value at DayofWeek column\n",
        "print('Min value in DayofWeek is ' + str(Airlines_2['DayOfWeek'].min()))\n",
        "print('Max value in DayofWeek is ' + str(Airlines_2['DayOfWeek'].max()))"
      ]
    },
    {
      "cell_type": "code",
      "execution_count": null,
      "metadata": {
        "colab": {
          "base_uri": "https://localhost:8080/"
        },
        "id": "A_5LWLtQATwg",
        "outputId": "5aa143ab-0e79-4057-8fdf-d789e17484f6"
      },
      "outputs": [
        {
          "output_type": "stream",
          "name": "stdout",
          "text": [
            "DayofWeek outliers are values < -7.0 or > 14.0\n"
          ]
        }
      ],
      "source": [
        "# DayofWeek outliers\n",
        "IQR = Airlines_2.DayOfWeek.quantile(0.75) - Airlines_2.DayOfWeek.quantile(0.25)\n",
        "Lower_fence = Airlines_2.DayOfWeek.quantile(0.25) - (IQR * 3)\n",
        "Upper_fence = Airlines_2.DayOfWeek.quantile(0.75) + (IQR * 3)\n",
        "print('DayofWeek outliers are values < {lowerboundary} or > {upperboundary}'.format(lowerboundary=Lower_fence, upperboundary=Upper_fence))"
      ]
    },
    {
      "cell_type": "code",
      "execution_count": null,
      "metadata": {
        "colab": {
          "base_uri": "https://localhost:8080/",
          "height": 244
        },
        "id": "24NRHlzl2PxT",
        "outputId": "ca34cb60-a797-497d-caa0-2c4ff96dbe48"
      },
      "outputs": [
        {
          "output_type": "execute_result",
          "data": {
            "text/plain": [
              "<matplotlib.axes._subplots.AxesSubplot at 0x7fb55e055fd0>"
            ]
          },
          "metadata": {},
          "execution_count": 81
        },
        {
          "output_type": "display_data",
          "data": {
            "text/plain": [
              "<Figure size 936x216 with 1 Axes>"
            ],
            "image/png": "[encoded data removed]"
          },
          "metadata": {
            "needs_background": "light"
          }
        }
      ],
      "source": [
        "# Boxplot\n",
        "plt.figure(figsize=(13, 3))\n",
        "sns.boxplot(Airlines_2['Length_by_hours'],orient='h',color='#03A678')"
      ]
    },
    {
      "cell_type": "code",
      "source": [
        "# KDE Plot\n",
        "fig = plt.figure(figsize=(13,5))\n",
        "plt.hist(Airlines_2['Length_by_hours'], color='#F2E3D5', edgecolor = 'Black')\n",
        "plt.axvline(x=Airlines_2['Length_by_hours'].mean(),ls='--',color='black',alpha=0.4,label='Mean')\n",
        "plt.axvline(x=Airlines_2['Length_by_hours'].median(),ls='--',color='blue',alpha=0.4,label='Median')\n",
        "plt.xlabel('Length_by_hours', size=14)\n",
        "plt.legend()"
      ],
      "metadata": {
        "id": "o747O5Fb1zoR",
        "colab": {
          "base_uri": "https://localhost:8080/",
          "height": 353
        },
        "outputId": "5eff92ed-7ae3-4e7b-e611-6762004598dc"
      },
      "execution_count": null,
      "outputs": [
        {
          "output_type": "execute_result",
          "data": {
            "text/plain": [
              "<matplotlib.legend.Legend at 0x7fb55c092c10>"
            ]
          },
          "metadata": {},
          "execution_count": 82
        },
        {
          "output_type": "display_data",
          "data": {
            "text/plain": [
              "<Figure size 936x360 with 1 Axes>"
            ],
            "image/png": "[encoded data removed]"
          },
          "metadata": {
            "needs_background": "light"
          }
        }
      ]
    },
    {
      "cell_type": "code",
      "source": [
        "# Length_by_hours outliers\n",
        "IQR = Airlines_2.Length_by_hours.quantile(0.75) - Airlines_2.Length_by_hours.quantile(0.25)\n",
        "Lower_fence = Airlines_2.Length_by_hours.quantile(0.25) - (IQR * 3)\n",
        "Upper_fence = Airlines_2.Length_by_hours.quantile(0.75) + (IQR * 3)\n",
        "print('Length_by_hours outliers are values < {lowerboundary} or > {upperboundary}'.format(lowerboundary=Lower_fence, upperboundary=Upper_fence))"
      ],
      "metadata": {
        "id": "bbSmqpan15b6",
        "colab": {
          "base_uri": "https://localhost:8080/"
        },
        "outputId": "f18fb355-a942-4722-84ce-b7c978495652"
      },
      "execution_count": null,
      "outputs": [
        {
          "output_type": "stream",
          "name": "stdout",
          "text": [
            "Length_by_hours outliers are values < -2.7000000000000006 or > 6.750000000000001\n"
          ]
        }
      ]
    },
    {
      "cell_type": "markdown",
      "metadata": {
        "id": "gufZhOtDtGma"
      },
      "source": [
        "## **Bivariate Analysis & Multivariate Analysis**"
      ]
    },
    {
      "cell_type": "markdown",
      "metadata": {
        "id": "mh0bdYaFvnhA"
      },
      "source": [
        "### **Bivariate Analysis**"
      ]
    },
    {
      "cell_type": "markdown",
      "metadata": {
        "id": "oI8C2krxvyDl"
      },
      "source": [
        "Questions\n",
        "1. What days have the most delays?\n",
        "2. What airlines has the most delays?\n",
        "3. Wheter the length of flight has any effect on the delay?\n",
        "4. Which Airport the flight starts from or is headed to has the most delay\n",
        "5. in what time period of the day allows the highest flight delay to occur?\n"
      ]
    },
    {
      "cell_type": "code",
      "execution_count": null,
      "metadata": {
        "colab": {
          "base_uri": "https://localhost:8080/"
        },
        "id": "2QLgtQldfbTx",
        "outputId": "d92a50ca-cfb8-4a68-b504-8a0a67b8c370"
      },
      "outputs": [
        {
          "output_type": "execute_result",
          "data": {
            "text/plain": [
              "<matplotlib.axes._subplots.AxesSubplot at 0x7fb55d3d1310>"
            ]
          },
          "metadata": {},
          "execution_count": 46
        },
        {
          "output_type": "display_data",
          "data": {
            "text/plain": [
              "<Figure size 432x288 with 1 Axes>"
            ],
            "image/png": "[encoded data removed]"
          },
          "metadata": {
            "needs_background": "light"
          }
        }
      ],
      "source": [
        "# What days have the most delays?\n",
        "sns.countplot(x='DayOfWeek',hue='Delay',data=Airlines_2,color=\"#364ABF\")"
      ]
    },
    {
      "cell_type": "code",
      "execution_count": null,
      "metadata": {
        "id": "vwKnd8JDyh6W"
      },
      "outputs": [],
      "source": [
        "# Airlines with the most delay\n",
        "air_top = (Airlines_2[Airlines_2['Delay']==1])['Airline'].value_counts().head(10)"
      ]
    },
    {
      "cell_type": "code",
      "execution_count": null,
      "metadata": {
        "colab": {
          "base_uri": "https://localhost:8080/"
        },
        "id": "eoagVPtRzSH_",
        "outputId": "e8d553f4-0111-4fed-fbb3-42844117a020"
      },
      "outputs": [
        {
          "output_type": "display_data",
          "data": {
            "text/plain": [
              "<Figure size 1008x432 with 1 Axes>"
            ],
            "image/png": "[encoded data removed]"
          },
          "metadata": {
            "needs_background": "light"
          }
        }
      ],
      "source": [
        "value_count = air_top.sort_values()\n",
        "\n",
        "# Vertical bar chart\n",
        "fig = plt.figure(figsize=(14, 6))\n",
        "ax = fig.add_subplot()\n",
        "\n",
        "plt.barh(value_count.index, value_count.values, color='darkred')\n",
        "\n",
        "for index, value in enumerate(value_count.values):\n",
        "    plt.text(value, index, str(value))\n",
        "\n",
        "ax.tick_params(axis='x', labelsize=12)\n",
        "ax.tick_params(axis='y', labelsize=12)\n",
        "\n",
        "ax.set_title('Top 10 Airline with the most departure delay', fontsize=15, fontweight='bold');\n",
        "ax.get_xaxis().set_visible(False)"
      ]
    },
    {
      "cell_type": "code",
      "execution_count": null,
      "metadata": {
        "colab": {
          "base_uri": "https://localhost:8080/"
        },
        "id": "nomgYmW0iXby",
        "outputId": "a36aa031-bd2d-42e1-91eb-3492e569f594"
      },
      "outputs": [
        {
          "output_type": "display_data",
          "data": {
            "text/html": [
              "<html>\n",
              "<head><meta charset=\"utf-8\" /></head>\n",
              "<body>\n",
              "    <div>            <script src=\"https://cdnjs.cloudflare.com/ajax/libs/mathjax/2.7.5/MathJax.js?config=TeX-AMS-MML_SVG\"></script><script type=\"text/javascript\">if (window.MathJax) {MathJax.Hub.Config({SVG: {font: \"STIX-Web\"}});}</script>                <script type=\"text/javascript\">window.PlotlyConfig = {MathJaxConfig: 'local'};</script>\n",
              "        <script src=\"https://cdn.plot.ly/plotly-2.8.3.min.js\"></script>                <div id=\"49784122-4725-4075-85ea-0c051c4face5\" class=\"plotly-graph-div\" style=\"height:525px; width:100%;\"></div>            <script type=\"text/javascript\">                                    window.PLOTLYENV=window.PLOTLYENV || {};                                    if (document.getElementById(\"49784122-4725-4075-85ea-0c051c4face5\")) {                    Plotly.newPlot(                        \"49784122-4725-4075-85ea-0c051c4face5\",                        [{\"alignmentgroup\":\"True\",\"hovertemplate\":\"AirportFrom=%{x}<br>Delay=%{y}<extra></extra>\",\"legendgroup\":\"\",\"marker\":{\"color\":\"#636efa\",\"pattern\":{\"shape\":\"\"}},\"name\":\"\",\"offsetgroup\":\"\",\"orientation\":\"v\",\"showlegend\":false,\"textposition\":\"auto\",\"x\":[\"ABE\",\"ABI\",\"ABQ\",\"ABR\",\"ABY\",\"ACT\",\"ACV\",\"ACY\",\"ADK\",\"ADQ\",\"AEX\",\"AGS\",\"ALB\",\"AMA\",\"ANC\",\"ASE\",\"ATL\",\"ATW\",\"AUS\",\"AVL\",\"AVP\",\"AZO\",\"BDL\",\"BET\",\"BFL\",\"BGM\",\"BGR\",\"BHM\",\"BIL\",\"BIS\",\"BKG\",\"BLI\",\"BMI\",\"BNA\",\"BOI\",\"BOS\",\"BQK\",\"BQN\",\"BRO\",\"BRW\",\"BTM\",\"BTR\",\"BTV\",\"BUF\",\"BUR\",\"BWI\",\"BZN\",\"CAE\",\"CAK\",\"CDC\",\"CDV\",\"CEC\",\"CHA\",\"CHO\",\"CHS\",\"CIC\",\"CID\",\"CLD\",\"CLE\",\"CLL\",\"CLT\",\"CMH\",\"CMI\",\"CMX\",\"COD\",\"COS\",\"COU\",\"CPR\",\"CRP\",\"CRW\",\"CSG\",\"CVG\",\"CWA\",\"CYS\",\"DAB\",\"DAL\",\"DAY\",\"DBQ\",\"DCA\",\"DEN\",\"DFW\",\"DHN\",\"DLH\",\"DRO\",\"DSM\",\"DTW\",\"EAU\",\"ECP\",\"EGE\",\"EKO\",\"ELM\",\"ELP\",\"ERI\",\"EUG\",\"EVV\",\"EWN\",\"EWR\",\"EYW\",\"FAI\",\"FAR\",\"FAT\",\"FAY\",\"FCA\",\"FLG\",\"FLL\",\"FLO\",\"FNT\",\"FSD\",\"FSM\",\"FWA\",\"GCC\",\"GEG\",\"GFK\",\"GGG\",\"GJT\",\"GNV\",\"GPT\",\"GRB\",\"GRK\",\"GRR\",\"GSO\",\"GSP\",\"GTF\",\"GTR\",\"GUC\",\"GUM\",\"HDN\",\"HLN\",\"HNL\",\"HOU\",\"HPN\",\"HRL\",\"HSV\",\"HTS\",\"IAD\",\"IAH\",\"ICT\",\"IDA\",\"ILM\",\"IND\",\"IPL\",\"ISP\",\"ITH\",\"ITO\",\"IYK\",\"JAC\",\"JAN\",\"JAX\",\"JFK\",\"JNU\",\"KOA\",\"KTN\",\"LAN\",\"LAS\",\"LAX\",\"LBB\",\"LCH\",\"LEX\",\"LFT\",\"LGA\",\"LGB\",\"LIH\",\"LIT\",\"LMT\",\"LNK\",\"LRD\",\"LSE\",\"LWB\",\"LWS\",\"LYH\",\"MAF\",\"MBS\",\"MCI\",\"MCO\",\"MDT\",\"MDW\",\"MEI\",\"MEM\",\"MFE\",\"MFR\",\"MGM\",\"MHK\",\"MHT\",\"MIA\",\"MKE\",\"MKG\",\"MLB\",\"MLI\",\"MLU\",\"MMH\",\"MOB\",\"MOD\",\"MOT\",\"MQT\",\"MRY\",\"MSN\",\"MSO\",\"MSP\",\"MSY\",\"MTJ\",\"MYR\",\"OAJ\",\"OAK\",\"OGG\",\"OKC\",\"OMA\",\"OME\",\"ONT\",\"ORD\",\"ORF\",\"OTH\",\"OTZ\",\"PAH\",\"PBI\",\"PDX\",\"PHF\",\"PHL\",\"PHX\",\"PIA\",\"PIE\",\"PIH\",\"PIT\",\"PLN\",\"PNS\",\"PSC\",\"PSE\",\"PSG\",\"PSP\",\"PVD\",\"PWM\",\"RAP\",\"RDD\",\"RDM\",\"RDU\",\"RIC\",\"RKS\",\"RNO\",\"ROA\",\"ROC\",\"ROW\",\"RST\",\"RSW\",\"SAF\",\"SAN\",\"SAT\",\"SAV\",\"SBA\",\"SBN\",\"SBP\",\"SCC\",\"SCE\",\"SDF\",\"SEA\",\"SFO\",\"SGF\",\"SGU\",\"SHV\",\"SIT\",\"SJC\",\"SJT\",\"SJU\",\"SLC\",\"SMF\",\"SMX\",\"SNA\",\"SPI\",\"SPS\",\"SRQ\",\"STL\",\"STT\",\"STX\",\"SUN\",\"SWF\",\"SYR\",\"TEX\",\"TLH\",\"TOL\",\"TPA\",\"TRI\",\"TUL\",\"TUS\",\"TVC\",\"TWF\",\"TXK\",\"TYR\",\"TYS\",\"UTM\",\"VLD\",\"VPS\",\"WRG\",\"XNA\",\"YAK\",\"YUM\"],\"xaxis\":\"x\",\"y\":[342,211,2799,2,87,60,296,62,9,56,286,322,951,482,1307,458,34449,378,3654,426,199,243,2280,84,276,74,32,1756,306,324,60,26,405,4353,1208,9439,87,137,207,68,60,738,523,1938,2147,8565,359,683,759,55,57,88,363,87,1007,120,477,163,4783,31,11133,2657,179,62,93,1031,89,176,689,391,179,4708,141,31,135,3838,1244,27,7073,19843,22154,118,224,291,1050,13136,89,580,260,116,104,1818,74,419,350,74,9673,126,329,490,971,338,161,219,5807,18,431,517,162,449,124,1060,206,31,469,194,502,541,267,1015,871,790,147,61,95,10,158,145,4454,4420,816,412,849,57,6528,15821,978,224,317,3135,62,631,75,604,86,250,985,2738,9496,295,1001,178,262,11918,16657,622,90,802,434,8547,1126,936,1572,93,210,224,135,62,57,59,587,310,4237,10596,529,7103,58,6450,379,361,388,123,1066,6716,4068,66,138,445,172,16,562,144,164,106,451,800,283,10166,3400,183,280,135,3783,1772,1906,1971,90,1944,24822,1419,93,90,62,2385,4274,455,7480,15557,250,23,113,3265,32,829,277,62,59,1026,1543,516,421,120,272,4159,1556,155,1708,307,1190,87,168,2717,92,6370,3272,783,827,428,406,56,87,1411,8038,11786,621,192,397,89,3357,15,1895,10473,3504,120,3535,174,46,513,5031,244,46,193,181,917,27,431,27,6085,313,1664,1862,277,121,77,60,1205,18,87,633,59,1128,57,338],\"yaxis\":\"y\",\"type\":\"bar\"}],                        {\"template\":{\"data\":{\"bar\":[{\"error_x\":{\"color\":\"#2a3f5f\"},\"error_y\":{\"color\":\"#2a3f5f\"},\"marker\":{\"line\":{\"color\":\"#E5ECF6\",\"width\":0.5},\"pattern\":{\"fillmode\":\"overlay\",\"size\":10,\"solidity\":0.2}},\"type\":\"bar\"}],\"barpolar\":[{\"marker\":{\"line\":{\"color\":\"#E5ECF6\",\"width\":0.5},\"pattern\":{\"fillmode\":\"overlay\",\"size\":10,\"solidity\":0.2}},\"type\":\"barpolar\"}],\"carpet\":[{\"aaxis\":{\"endlinecolor\":\"#2a3f5f\",\"gridcolor\":\"white\",\"linecolor\":\"white\",\"minorgridcolor\":\"white\",\"startlinecolor\":\"#2a3f5f\"},\"baxis\":{\"endlinecolor\":\"#2a3f5f\",\"gridcolor\":\"white\",\"linecolor\":\"white\",\"minorgridcolor\":\"white\",\"startlinecolor\":\"#2a3f5f\"},\"type\":\"carpet\"}],\"choropleth\":[{\"colorbar\":{\"outlinewidth\":0,\"ticks\":\"\"},\"type\":\"choropleth\"}],\"contour\":[{\"colorbar\":{\"outlinewidth\":0,\"ticks\":\"\"},\"colorscale\":[[0.0,\"#0d0887\"],[0.1111111111111111,\"#46039f\"],[0.2222222222222222,\"#7201a8\"],[0.3333333333333333,\"#9c179e\"],[0.4444444444444444,\"#bd3786\"],[0.5555555555555556,\"#d8576b\"],[0.6666666666666666,\"#ed7953\"],[0.7777777777777778,\"#fb9f3a\"],[0.8888888888888888,\"#fdca26\"],[1.0,\"#f0f921\"]],\"type\":\"contour\"}],\"contourcarpet\":[{\"colorbar\":{\"outlinewidth\":0,\"ticks\":\"\"},\"type\":\"contourcarpet\"}],\"heatmap\":[{\"colorbar\":{\"outlinewidth\":0,\"ticks\":\"\"},\"colorscale\":[[0.0,\"#0d0887\"],[0.1111111111111111,\"#46039f\"],[0.2222222222222222,\"#7201a8\"],[0.3333333333333333,\"#9c179e\"],[0.4444444444444444,\"#bd3786\"],[0.5555555555555556,\"#d8576b\"],[0.6666666666666666,\"#ed7953\"],[0.7777777777777778,\"#fb9f3a\"],[0.8888888888888888,\"#fdca26\"],[1.0,\"#f0f921\"]],\"type\":\"heatmap\"}],\"heatmapgl\":[{\"colorbar\":{\"outlinewidth\":0,\"ticks\":\"\"},\"colorscale\":[[0.0,\"#0d0887\"],[0.1111111111111111,\"#46039f\"],[0.2222222222222222,\"#7201a8\"],[0.3333333333333333,\"#9c179e\"],[0.4444444444444444,\"#bd3786\"],[0.5555555555555556,\"#d8576b\"],[0.6666666666666666,\"#ed7953\"],[0.7777777777777778,\"#fb9f3a\"],[0.8888888888888888,\"#fdca26\"],[1.0,\"#f0f921\"]],\"type\":\"heatmapgl\"}],\"histogram\":[{\"marker\":{\"pattern\":{\"fillmode\":\"overlay\",\"size\":10,\"solidity\":0.2}},\"type\":\"histogram\"}],\"histogram2d\":[{\"colorbar\":{\"outlinewidth\":0,\"ticks\":\"\"},\"colorscale\":[[0.0,\"#0d0887\"],[0.1111111111111111,\"#46039f\"],[0.2222222222222222,\"#7201a8\"],[0.3333333333333333,\"#9c179e\"],[0.4444444444444444,\"#bd3786\"],[0.5555555555555556,\"#d8576b\"],[0.6666666666666666,\"#ed7953\"],[0.7777777777777778,\"#fb9f3a\"],[0.8888888888888888,\"#fdca26\"],[1.0,\"#f0f921\"]],\"type\":\"histogram2d\"}],\"histogram2dcontour\":[{\"colorbar\":{\"outlinewidth\":0,\"ticks\":\"\"},\"colorscale\":[[0.0,\"#0d0887\"],[0.1111111111111111,\"#46039f\"],[0.2222222222222222,\"#7201a8\"],[0.3333333333333333,\"#9c179e\"],[0.4444444444444444,\"#bd3786\"],[0.5555555555555556,\"#d8576b\"],[0.6666666666666666,\"#ed7953\"],[0.7777777777777778,\"#fb9f3a\"],[0.8888888888888888,\"#fdca26\"],[1.0,\"#f0f921\"]],\"type\":\"histogram2dcontour\"}],\"mesh3d\":[{\"colorbar\":{\"outlinewidth\":0,\"ticks\":\"\"},\"type\":\"mesh3d\"}],\"parcoords\":[{\"line\":{\"colorbar\":{\"outlinewidth\":0,\"ticks\":\"\"}},\"type\":\"parcoords\"}],\"pie\":[{\"automargin\":true,\"type\":\"pie\"}],\"scatter\":[{\"marker\":{\"colorbar\":{\"outlinewidth\":0,\"ticks\":\"\"}},\"type\":\"scatter\"}],\"scatter3d\":[{\"line\":{\"colorbar\":{\"outlinewidth\":0,\"ticks\":\"\"}},\"marker\":{\"colorbar\":{\"outlinewidth\":0,\"ticks\":\"\"}},\"type\":\"scatter3d\"}],\"scattercarpet\":[{\"marker\":{\"colorbar\":{\"outlinewidth\":0,\"ticks\":\"\"}},\"type\":\"scattercarpet\"}],\"scattergeo\":[{\"marker\":{\"colorbar\":{\"outlinewidth\":0,\"ticks\":\"\"}},\"type\":\"scattergeo\"}],\"scattergl\":[{\"marker\":{\"colorbar\":{\"outlinewidth\":0,\"ticks\":\"\"}},\"type\":\"scattergl\"}],\"scattermapbox\":[{\"marker\":{\"colorbar\":{\"outlinewidth\":0,\"ticks\":\"\"}},\"type\":\"scattermapbox\"}],\"scatterpolar\":[{\"marker\":{\"colorbar\":{\"outlinewidth\":0,\"ticks\":\"\"}},\"type\":\"scatterpolar\"}],\"scatterpolargl\":[{\"marker\":{\"colorbar\":{\"outlinewidth\":0,\"ticks\":\"\"}},\"type\":\"scatterpolargl\"}],\"scatterternary\":[{\"marker\":{\"colorbar\":{\"outlinewidth\":0,\"ticks\":\"\"}},\"type\":\"scatterternary\"}],\"surface\":[{\"colorbar\":{\"outlinewidth\":0,\"ticks\":\"\"},\"colorscale\":[[0.0,\"#0d0887\"],[0.1111111111111111,\"#46039f\"],[0.2222222222222222,\"#7201a8\"],[0.3333333333333333,\"#9c179e\"],[0.4444444444444444,\"#bd3786\"],[0.5555555555555556,\"#d8576b\"],[0.6666666666666666,\"#ed7953\"],[0.7777777777777778,\"#fb9f3a\"],[0.8888888888888888,\"#fdca26\"],[1.0,\"#f0f921\"]],\"type\":\"surface\"}],\"table\":[{\"cells\":{\"fill\":{\"color\":\"#EBF0F8\"},\"line\":{\"color\":\"white\"}},\"header\":{\"fill\":{\"color\":\"#C8D4E3\"},\"line\":{\"color\":\"white\"}},\"type\":\"table\"}]},\"layout\":{\"annotationdefaults\":{\"arrowcolor\":\"#2a3f5f\",\"arrowhead\":0,\"arrowwidth\":1},\"autotypenumbers\":\"strict\",\"coloraxis\":{\"colorbar\":{\"outlinewidth\":0,\"ticks\":\"\"}},\"colorscale\":{\"diverging\":[[0,\"#8e0152\"],[0.1,\"#c51b7d\"],[0.2,\"#de77ae\"],[0.3,\"#f1b6da\"],[0.4,\"#fde0ef\"],[0.5,\"#f7f7f7\"],[0.6,\"#e6f5d0\"],[0.7,\"#b8e186\"],[0.8,\"#7fbc41\"],[0.9,\"#4d9221\"],[1,\"#276419\"]],\"sequential\":[[0.0,\"#0d0887\"],[0.1111111111111111,\"#46039f\"],[0.2222222222222222,\"#7201a8\"],[0.3333333333333333,\"#9c179e\"],[0.4444444444444444,\"#bd3786\"],[0.5555555555555556,\"#d8576b\"],[0.6666666666666666,\"#ed7953\"],[0.7777777777777778,\"#fb9f3a\"],[0.8888888888888888,\"#fdca26\"],[1.0,\"#f0f921\"]],\"sequentialminus\":[[0.0,\"#0d0887\"],[0.1111111111111111,\"#46039f\"],[0.2222222222222222,\"#7201a8\"],[0.3333333333333333,\"#9c179e\"],[0.4444444444444444,\"#bd3786\"],[0.5555555555555556,\"#d8576b\"],[0.6666666666666666,\"#ed7953\"],[0.7777777777777778,\"#fb9f3a\"],[0.8888888888888888,\"#fdca26\"],[1.0,\"#f0f921\"]]},\"colorway\":[\"#636efa\",\"#EF553B\",\"#00cc96\",\"#ab63fa\",\"#FFA15A\",\"#19d3f3\",\"#FF6692\",\"#B6E880\",\"#FF97FF\",\"#FECB52\"],\"font\":{\"color\":\"#2a3f5f\"},\"geo\":{\"bgcolor\":\"white\",\"lakecolor\":\"white\",\"landcolor\":\"#E5ECF6\",\"showlakes\":true,\"showland\":true,\"subunitcolor\":\"white\"},\"hoverlabel\":{\"align\":\"left\"},\"hovermode\":\"closest\",\"mapbox\":{\"style\":\"light\"},\"paper_bgcolor\":\"white\",\"plot_bgcolor\":\"#E5ECF6\",\"polar\":{\"angularaxis\":{\"gridcolor\":\"white\",\"linecolor\":\"white\",\"ticks\":\"\"},\"bgcolor\":\"#E5ECF6\",\"radialaxis\":{\"gridcolor\":\"white\",\"linecolor\":\"white\",\"ticks\":\"\"}},\"scene\":{\"xaxis\":{\"backgroundcolor\":\"#E5ECF6\",\"gridcolor\":\"white\",\"gridwidth\":2,\"linecolor\":\"white\",\"showbackground\":true,\"ticks\":\"\",\"zerolinecolor\":\"white\"},\"yaxis\":{\"backgroundcolor\":\"#E5ECF6\",\"gridcolor\":\"white\",\"gridwidth\":2,\"linecolor\":\"white\",\"showbackground\":true,\"ticks\":\"\",\"zerolinecolor\":\"white\"},\"zaxis\":{\"backgroundcolor\":\"#E5ECF6\",\"gridcolor\":\"white\",\"gridwidth\":2,\"linecolor\":\"white\",\"showbackground\":true,\"ticks\":\"\",\"zerolinecolor\":\"white\"}},\"shapedefaults\":{\"line\":{\"color\":\"#2a3f5f\"}},\"ternary\":{\"aaxis\":{\"gridcolor\":\"white\",\"linecolor\":\"white\",\"ticks\":\"\"},\"baxis\":{\"gridcolor\":\"white\",\"linecolor\":\"white\",\"ticks\":\"\"},\"bgcolor\":\"#E5ECF6\",\"caxis\":{\"gridcolor\":\"white\",\"linecolor\":\"white\",\"ticks\":\"\"}},\"title\":{\"x\":0.05},\"xaxis\":{\"automargin\":true,\"gridcolor\":\"white\",\"linecolor\":\"white\",\"ticks\":\"\",\"title\":{\"standoff\":15},\"zerolinecolor\":\"white\",\"zerolinewidth\":2},\"yaxis\":{\"automargin\":true,\"gridcolor\":\"white\",\"linecolor\":\"white\",\"ticks\":\"\",\"title\":{\"standoff\":15},\"zerolinecolor\":\"white\",\"zerolinewidth\":2}}},\"xaxis\":{\"anchor\":\"y\",\"domain\":[0.0,1.0],\"title\":{\"text\":\"AirportFrom\"}},\"yaxis\":{\"anchor\":\"x\",\"domain\":[0.0,1.0],\"title\":{\"text\":\"Delay\"}},\"legend\":{\"tracegroupgap\":0},\"margin\":{\"t\":60},\"barmode\":\"relative\"},                        {\"responsive\": true}                    ).then(function(){\n",
              "                            \n",
              "var gd = document.getElementById('49784122-4725-4075-85ea-0c051c4face5');\n",
              "var x = new MutationObserver(function (mutations, observer) {{\n",
              "        var display = window.getComputedStyle(gd).display;\n",
              "        if (!display || display === 'none') {{\n",
              "            console.log([gd, 'removed!']);\n",
              "            Plotly.purge(gd);\n",
              "            observer.disconnect();\n",
              "        }}\n",
              "}});\n",
              "\n",
              "// Listen for the removal of the full notebook cells\n",
              "var notebookContainer = gd.closest('#notebook-container');\n",
              "if (notebookContainer) {{\n",
              "    x.observe(notebookContainer, {childList: true});\n",
              "}}\n",
              "\n",
              "// Listen for the clearing of the current output cell\n",
              "var outputEl = gd.closest('.output');\n",
              "if (outputEl) {{\n",
              "    x.observe(outputEl, {childList: true});\n",
              "}}\n",
              "\n",
              "                        })                };                            </script>        </div>\n",
              "</body>\n",
              "</html>"
            ]
          },
          "metadata": {}
        }
      ],
      "source": [
        "# Which Airport the flight starts from or is headed to has the most delay\n",
        "ap_depart = Airlines_2[['AirportFrom','Delay']].groupby('AirportFrom').agg('count').reset_index()\n",
        "fig = px.bar(ap_depart, x='AirportFrom', y='Delay')\n",
        "fig.show()"
      ]
    },
    {
      "cell_type": "code",
      "execution_count": null,
      "metadata": {
        "colab": {
          "base_uri": "https://localhost:8080/"
        },
        "id": "XSAqziYlnxQP",
        "outputId": "7bfe66bc-e6a4-4465-8108-cc6afbb89567"
      },
      "outputs": [
        {
          "output_type": "display_data",
          "data": {
            "text/html": [
              "<html>\n",
              "<head><meta charset=\"utf-8\" /></head>\n",
              "<body>\n",
              "    <div>            <script src=\"https://cdnjs.cloudflare.com/ajax/libs/mathjax/2.7.5/MathJax.js?config=TeX-AMS-MML_SVG\"></script><script type=\"text/javascript\">if (window.MathJax) {MathJax.Hub.Config({SVG: {font: \"STIX-Web\"}});}</script>                <script type=\"text/javascript\">window.PlotlyConfig = {MathJaxConfig: 'local'};</script>\n",
              "        <script src=\"https://cdn.plot.ly/plotly-2.8.3.min.js\"></script>                <div id=\"ab9005ef-3d73-4363-9f1d-e0a466807d15\" class=\"plotly-graph-div\" style=\"height:525px; width:100%;\"></div>            <script type=\"text/javascript\">                                    window.PLOTLYENV=window.PLOTLYENV || {};                                    if (document.getElementById(\"ab9005ef-3d73-4363-9f1d-e0a466807d15\")) {                    Plotly.newPlot(                        \"ab9005ef-3d73-4363-9f1d-e0a466807d15\",                        [{\"alignmentgroup\":\"True\",\"hovertemplate\":\"AirportTo=%{x}<br>Delay=%{y}<extra></extra>\",\"legendgroup\":\"\",\"marker\":{\"color\":\"#636efa\",\"pattern\":{\"shape\":\"\"}},\"name\":\"\",\"offsetgroup\":\"\",\"orientation\":\"v\",\"showlegend\":false,\"textposition\":\"auto\",\"x\":[\"ABE\",\"ABI\",\"ABQ\",\"ABR\",\"ABY\",\"ACT\",\"ACV\",\"ACY\",\"ADK\",\"ADQ\",\"AEX\",\"AGS\",\"ALB\",\"AMA\",\"ANC\",\"ASE\",\"ATL\",\"ATW\",\"AUS\",\"AVL\",\"AVP\",\"AZO\",\"BDL\",\"BET\",\"BFL\",\"BGM\",\"BGR\",\"BHM\",\"BIL\",\"BIS\",\"BKG\",\"BLI\",\"BMI\",\"BNA\",\"BOI\",\"BOS\",\"BQK\",\"BQN\",\"BRO\",\"BRW\",\"BTM\",\"BTR\",\"BTV\",\"BUF\",\"BUR\",\"BWI\",\"BZN\",\"CAE\",\"CAK\",\"CDC\",\"CDV\",\"CEC\",\"CHA\",\"CHO\",\"CHS\",\"CIC\",\"CID\",\"CLD\",\"CLE\",\"CLL\",\"CLT\",\"CMH\",\"CMI\",\"CMX\",\"COD\",\"COS\",\"COU\",\"CPR\",\"CRP\",\"CRW\",\"CSG\",\"CVG\",\"CWA\",\"CYS\",\"DAB\",\"DAL\",\"DAY\",\"DBQ\",\"DCA\",\"DEN\",\"DFW\",\"DHN\",\"DLH\",\"DRO\",\"DSM\",\"DTW\",\"EAU\",\"ECP\",\"EGE\",\"EKO\",\"ELM\",\"ELP\",\"ERI\",\"EUG\",\"EVV\",\"EWN\",\"EWR\",\"EYW\",\"FAI\",\"FAR\",\"FAT\",\"FAY\",\"FCA\",\"FLG\",\"FLL\",\"FLO\",\"FNT\",\"FSD\",\"FSM\",\"FWA\",\"GCC\",\"GEG\",\"GFK\",\"GGG\",\"GJT\",\"GNV\",\"GPT\",\"GRB\",\"GRK\",\"GRR\",\"GSO\",\"GSP\",\"GTF\",\"GTR\",\"GUC\",\"GUM\",\"HDN\",\"HLN\",\"HNL\",\"HOU\",\"HPN\",\"HRL\",\"HSV\",\"HTS\",\"IAD\",\"IAH\",\"ICT\",\"IDA\",\"ILM\",\"IND\",\"IPL\",\"ISP\",\"ITH\",\"ITO\",\"IYK\",\"JAC\",\"JAN\",\"JAX\",\"JFK\",\"JNU\",\"KOA\",\"KTN\",\"LAN\",\"LAS\",\"LAX\",\"LBB\",\"LCH\",\"LEX\",\"LFT\",\"LGA\",\"LGB\",\"LIH\",\"LIT\",\"LMT\",\"LNK\",\"LRD\",\"LSE\",\"LWB\",\"LWS\",\"LYH\",\"MAF\",\"MBS\",\"MCI\",\"MCO\",\"MDT\",\"MDW\",\"MEI\",\"MEM\",\"MFE\",\"MFR\",\"MGM\",\"MHK\",\"MHT\",\"MIA\",\"MKE\",\"MKG\",\"MLB\",\"MLI\",\"MLU\",\"MMH\",\"MOB\",\"MOD\",\"MOT\",\"MQT\",\"MRY\",\"MSN\",\"MSO\",\"MSP\",\"MSY\",\"MTJ\",\"MYR\",\"OAJ\",\"OAK\",\"OGG\",\"OKC\",\"OMA\",\"OME\",\"ONT\",\"ORD\",\"ORF\",\"OTH\",\"OTZ\",\"PAH\",\"PBI\",\"PDX\",\"PHF\",\"PHL\",\"PHX\",\"PIA\",\"PIE\",\"PIH\",\"PIT\",\"PLN\",\"PNS\",\"PSC\",\"PSE\",\"PSG\",\"PSP\",\"PVD\",\"PWM\",\"RAP\",\"RDD\",\"RDM\",\"RDU\",\"RIC\",\"RKS\",\"RNO\",\"ROA\",\"ROC\",\"ROW\",\"RST\",\"RSW\",\"SAF\",\"SAN\",\"SAT\",\"SAV\",\"SBA\",\"SBN\",\"SBP\",\"SCC\",\"SCE\",\"SDF\",\"SEA\",\"SFO\",\"SGF\",\"SGU\",\"SHV\",\"SIT\",\"SJC\",\"SJT\",\"SJU\",\"SLC\",\"SMF\",\"SMX\",\"SNA\",\"SPI\",\"SPS\",\"SRQ\",\"STL\",\"STT\",\"STX\",\"SUN\",\"SWF\",\"SYR\",\"TEX\",\"TLH\",\"TOL\",\"TPA\",\"TRI\",\"TUL\",\"TUS\",\"TVC\",\"TWF\",\"TXK\",\"TYR\",\"TYS\",\"UTM\",\"VLD\",\"VPS\",\"WRG\",\"XNA\",\"YAK\",\"YUM\"],\"xaxis\":\"x\",\"y\":[305,211,2800,2,87,59,295,62,9,56,284,322,940,482,1311,461,34440,371,3655,427,208,241,2281,84,275,74,32,1778,306,324,60,26,405,4300,1208,9429,87,138,207,68,60,738,523,1970,2146,8557,357,687,746,54,57,89,363,87,1001,120,477,163,4730,31,11132,2652,179,62,93,1029,89,176,689,390,179,4713,141,31,135,3835,1244,27,7068,19848,22153,118,223,291,1050,13146,89,580,262,116,104,1818,74,418,348,74,9670,126,329,489,971,338,161,219,5812,18,431,520,162,448,124,1059,206,31,470,194,501,532,267,1010,872,791,147,61,95,10,158,145,4453,4419,815,412,876,57,6565,15819,979,220,317,3167,62,631,75,604,86,252,985,2739,9490,296,1001,178,262,11918,16656,623,89,801,433,8549,1126,936,1572,93,205,224,135,62,57,59,587,309,4250,10605,535,7102,58,6450,380,361,388,123,1067,6720,4070,67,138,447,172,16,562,144,164,106,451,801,283,10181,3401,183,280,135,3781,1803,1908,1971,90,1943,24871,1418,93,90,62,2388,4274,453,7478,15558,250,23,113,3270,32,829,278,62,59,1024,1539,516,422,120,271,4147,1554,155,1709,292,1185,87,166,2719,92,6372,3267,779,827,427,407,56,87,1408,8042,11792,623,192,397,88,3357,15,1903,10486,3473,120,3535,174,46,514,5034,245,45,193,181,918,27,432,27,6086,313,1656,1862,275,120,77,60,1192,18,87,633,59,1123,57,338],\"yaxis\":\"y\",\"type\":\"bar\"}],                        {\"template\":{\"data\":{\"bar\":[{\"error_x\":{\"color\":\"#2a3f5f\"},\"error_y\":{\"color\":\"#2a3f5f\"},\"marker\":{\"line\":{\"color\":\"#E5ECF6\",\"width\":0.5},\"pattern\":{\"fillmode\":\"overlay\",\"size\":10,\"solidity\":0.2}},\"type\":\"bar\"}],\"barpolar\":[{\"marker\":{\"line\":{\"color\":\"#E5ECF6\",\"width\":0.5},\"pattern\":{\"fillmode\":\"overlay\",\"size\":10,\"solidity\":0.2}},\"type\":\"barpolar\"}],\"carpet\":[{\"aaxis\":{\"endlinecolor\":\"#2a3f5f\",\"gridcolor\":\"white\",\"linecolor\":\"white\",\"minorgridcolor\":\"white\",\"startlinecolor\":\"#2a3f5f\"},\"baxis\":{\"endlinecolor\":\"#2a3f5f\",\"gridcolor\":\"white\",\"linecolor\":\"white\",\"minorgridcolor\":\"white\",\"startlinecolor\":\"#2a3f5f\"},\"type\":\"carpet\"}],\"choropleth\":[{\"colorbar\":{\"outlinewidth\":0,\"ticks\":\"\"},\"type\":\"choropleth\"}],\"contour\":[{\"colorbar\":{\"outlinewidth\":0,\"ticks\":\"\"},\"colorscale\":[[0.0,\"#0d0887\"],[0.1111111111111111,\"#46039f\"],[0.2222222222222222,\"#7201a8\"],[0.3333333333333333,\"#9c179e\"],[0.4444444444444444,\"#bd3786\"],[0.5555555555555556,\"#d8576b\"],[0.6666666666666666,\"#ed7953\"],[0.7777777777777778,\"#fb9f3a\"],[0.8888888888888888,\"#fdca26\"],[1.0,\"#f0f921\"]],\"type\":\"contour\"}],\"contourcarpet\":[{\"colorbar\":{\"outlinewidth\":0,\"ticks\":\"\"},\"type\":\"contourcarpet\"}],\"heatmap\":[{\"colorbar\":{\"outlinewidth\":0,\"ticks\":\"\"},\"colorscale\":[[0.0,\"#0d0887\"],[0.1111111111111111,\"#46039f\"],[0.2222222222222222,\"#7201a8\"],[0.3333333333333333,\"#9c179e\"],[0.4444444444444444,\"#bd3786\"],[0.5555555555555556,\"#d8576b\"],[0.6666666666666666,\"#ed7953\"],[0.7777777777777778,\"#fb9f3a\"],[0.8888888888888888,\"#fdca26\"],[1.0,\"#f0f921\"]],\"type\":\"heatmap\"}],\"heatmapgl\":[{\"colorbar\":{\"outlinewidth\":0,\"ticks\":\"\"},\"colorscale\":[[0.0,\"#0d0887\"],[0.1111111111111111,\"#46039f\"],[0.2222222222222222,\"#7201a8\"],[0.3333333333333333,\"#9c179e\"],[0.4444444444444444,\"#bd3786\"],[0.5555555555555556,\"#d8576b\"],[0.6666666666666666,\"#ed7953\"],[0.7777777777777778,\"#fb9f3a\"],[0.8888888888888888,\"#fdca26\"],[1.0,\"#f0f921\"]],\"type\":\"heatmapgl\"}],\"histogram\":[{\"marker\":{\"pattern\":{\"fillmode\":\"overlay\",\"size\":10,\"solidity\":0.2}},\"type\":\"histogram\"}],\"histogram2d\":[{\"colorbar\":{\"outlinewidth\":0,\"ticks\":\"\"},\"colorscale\":[[0.0,\"#0d0887\"],[0.1111111111111111,\"#46039f\"],[0.2222222222222222,\"#7201a8\"],[0.3333333333333333,\"#9c179e\"],[0.4444444444444444,\"#bd3786\"],[0.5555555555555556,\"#d8576b\"],[0.6666666666666666,\"#ed7953\"],[0.7777777777777778,\"#fb9f3a\"],[0.8888888888888888,\"#fdca26\"],[1.0,\"#f0f921\"]],\"type\":\"histogram2d\"}],\"histogram2dcontour\":[{\"colorbar\":{\"outlinewidth\":0,\"ticks\":\"\"},\"colorscale\":[[0.0,\"#0d0887\"],[0.1111111111111111,\"#46039f\"],[0.2222222222222222,\"#7201a8\"],[0.3333333333333333,\"#9c179e\"],[0.4444444444444444,\"#bd3786\"],[0.5555555555555556,\"#d8576b\"],[0.6666666666666666,\"#ed7953\"],[0.7777777777777778,\"#fb9f3a\"],[0.8888888888888888,\"#fdca26\"],[1.0,\"#f0f921\"]],\"type\":\"histogram2dcontour\"}],\"mesh3d\":[{\"colorbar\":{\"outlinewidth\":0,\"ticks\":\"\"},\"type\":\"mesh3d\"}],\"parcoords\":[{\"line\":{\"colorbar\":{\"outlinewidth\":0,\"ticks\":\"\"}},\"type\":\"parcoords\"}],\"pie\":[{\"automargin\":true,\"type\":\"pie\"}],\"scatter\":[{\"marker\":{\"colorbar\":{\"outlinewidth\":0,\"ticks\":\"\"}},\"type\":\"scatter\"}],\"scatter3d\":[{\"line\":{\"colorbar\":{\"outlinewidth\":0,\"ticks\":\"\"}},\"marker\":{\"colorbar\":{\"outlinewidth\":0,\"ticks\":\"\"}},\"type\":\"scatter3d\"}],\"scattercarpet\":[{\"marker\":{\"colorbar\":{\"outlinewidth\":0,\"ticks\":\"\"}},\"type\":\"scattercarpet\"}],\"scattergeo\":[{\"marker\":{\"colorbar\":{\"outlinewidth\":0,\"ticks\":\"\"}},\"type\":\"scattergeo\"}],\"scattergl\":[{\"marker\":{\"colorbar\":{\"outlinewidth\":0,\"ticks\":\"\"}},\"type\":\"scattergl\"}],\"scattermapbox\":[{\"marker\":{\"colorbar\":{\"outlinewidth\":0,\"ticks\":\"\"}},\"type\":\"scattermapbox\"}],\"scatterpolar\":[{\"marker\":{\"colorbar\":{\"outlinewidth\":0,\"ticks\":\"\"}},\"type\":\"scatterpolar\"}],\"scatterpolargl\":[{\"marker\":{\"colorbar\":{\"outlinewidth\":0,\"ticks\":\"\"}},\"type\":\"scatterpolargl\"}],\"scatterternary\":[{\"marker\":{\"colorbar\":{\"outlinewidth\":0,\"ticks\":\"\"}},\"type\":\"scatterternary\"}],\"surface\":[{\"colorbar\":{\"outlinewidth\":0,\"ticks\":\"\"},\"colorscale\":[[0.0,\"#0d0887\"],[0.1111111111111111,\"#46039f\"],[0.2222222222222222,\"#7201a8\"],[0.3333333333333333,\"#9c179e\"],[0.4444444444444444,\"#bd3786\"],[0.5555555555555556,\"#d8576b\"],[0.6666666666666666,\"#ed7953\"],[0.7777777777777778,\"#fb9f3a\"],[0.8888888888888888,\"#fdca26\"],[1.0,\"#f0f921\"]],\"type\":\"surface\"}],\"table\":[{\"cells\":{\"fill\":{\"color\":\"#EBF0F8\"},\"line\":{\"color\":\"white\"}},\"header\":{\"fill\":{\"color\":\"#C8D4E3\"},\"line\":{\"color\":\"white\"}},\"type\":\"table\"}]},\"layout\":{\"annotationdefaults\":{\"arrowcolor\":\"#2a3f5f\",\"arrowhead\":0,\"arrowwidth\":1},\"autotypenumbers\":\"strict\",\"coloraxis\":{\"colorbar\":{\"outlinewidth\":0,\"ticks\":\"\"}},\"colorscale\":{\"diverging\":[[0,\"#8e0152\"],[0.1,\"#c51b7d\"],[0.2,\"#de77ae\"],[0.3,\"#f1b6da\"],[0.4,\"#fde0ef\"],[0.5,\"#f7f7f7\"],[0.6,\"#e6f5d0\"],[0.7,\"#b8e186\"],[0.8,\"#7fbc41\"],[0.9,\"#4d9221\"],[1,\"#276419\"]],\"sequential\":[[0.0,\"#0d0887\"],[0.1111111111111111,\"#46039f\"],[0.2222222222222222,\"#7201a8\"],[0.3333333333333333,\"#9c179e\"],[0.4444444444444444,\"#bd3786\"],[0.5555555555555556,\"#d8576b\"],[0.6666666666666666,\"#ed7953\"],[0.7777777777777778,\"#fb9f3a\"],[0.8888888888888888,\"#fdca26\"],[1.0,\"#f0f921\"]],\"sequentialminus\":[[0.0,\"#0d0887\"],[0.1111111111111111,\"#46039f\"],[0.2222222222222222,\"#7201a8\"],[0.3333333333333333,\"#9c179e\"],[0.4444444444444444,\"#bd3786\"],[0.5555555555555556,\"#d8576b\"],[0.6666666666666666,\"#ed7953\"],[0.7777777777777778,\"#fb9f3a\"],[0.8888888888888888,\"#fdca26\"],[1.0,\"#f0f921\"]]},\"colorway\":[\"#636efa\",\"#EF553B\",\"#00cc96\",\"#ab63fa\",\"#FFA15A\",\"#19d3f3\",\"#FF6692\",\"#B6E880\",\"#FF97FF\",\"#FECB52\"],\"font\":{\"color\":\"#2a3f5f\"},\"geo\":{\"bgcolor\":\"white\",\"lakecolor\":\"white\",\"landcolor\":\"#E5ECF6\",\"showlakes\":true,\"showland\":true,\"subunitcolor\":\"white\"},\"hoverlabel\":{\"align\":\"left\"},\"hovermode\":\"closest\",\"mapbox\":{\"style\":\"light\"},\"paper_bgcolor\":\"white\",\"plot_bgcolor\":\"#E5ECF6\",\"polar\":{\"angularaxis\":{\"gridcolor\":\"white\",\"linecolor\":\"white\",\"ticks\":\"\"},\"bgcolor\":\"#E5ECF6\",\"radialaxis\":{\"gridcolor\":\"white\",\"linecolor\":\"white\",\"ticks\":\"\"}},\"scene\":{\"xaxis\":{\"backgroundcolor\":\"#E5ECF6\",\"gridcolor\":\"white\",\"gridwidth\":2,\"linecolor\":\"white\",\"showbackground\":true,\"ticks\":\"\",\"zerolinecolor\":\"white\"},\"yaxis\":{\"backgroundcolor\":\"#E5ECF6\",\"gridcolor\":\"white\",\"gridwidth\":2,\"linecolor\":\"white\",\"showbackground\":true,\"ticks\":\"\",\"zerolinecolor\":\"white\"},\"zaxis\":{\"backgroundcolor\":\"#E5ECF6\",\"gridcolor\":\"white\",\"gridwidth\":2,\"linecolor\":\"white\",\"showbackground\":true,\"ticks\":\"\",\"zerolinecolor\":\"white\"}},\"shapedefaults\":{\"line\":{\"color\":\"#2a3f5f\"}},\"ternary\":{\"aaxis\":{\"gridcolor\":\"white\",\"linecolor\":\"white\",\"ticks\":\"\"},\"baxis\":{\"gridcolor\":\"white\",\"linecolor\":\"white\",\"ticks\":\"\"},\"bgcolor\":\"#E5ECF6\",\"caxis\":{\"gridcolor\":\"white\",\"linecolor\":\"white\",\"ticks\":\"\"}},\"title\":{\"x\":0.05},\"xaxis\":{\"automargin\":true,\"gridcolor\":\"white\",\"linecolor\":\"white\",\"ticks\":\"\",\"title\":{\"standoff\":15},\"zerolinecolor\":\"white\",\"zerolinewidth\":2},\"yaxis\":{\"automargin\":true,\"gridcolor\":\"white\",\"linecolor\":\"white\",\"ticks\":\"\",\"title\":{\"standoff\":15},\"zerolinecolor\":\"white\",\"zerolinewidth\":2}}},\"xaxis\":{\"anchor\":\"y\",\"domain\":[0.0,1.0],\"title\":{\"text\":\"AirportTo\"}},\"yaxis\":{\"anchor\":\"x\",\"domain\":[0.0,1.0],\"title\":{\"text\":\"Delay\"}},\"legend\":{\"tracegroupgap\":0},\"margin\":{\"t\":60},\"barmode\":\"relative\"},                        {\"responsive\": true}                    ).then(function(){\n",
              "                            \n",
              "var gd = document.getElementById('ab9005ef-3d73-4363-9f1d-e0a466807d15');\n",
              "var x = new MutationObserver(function (mutations, observer) {{\n",
              "        var display = window.getComputedStyle(gd).display;\n",
              "        if (!display || display === 'none') {{\n",
              "            console.log([gd, 'removed!']);\n",
              "            Plotly.purge(gd);\n",
              "            observer.disconnect();\n",
              "        }}\n",
              "}});\n",
              "\n",
              "// Listen for the removal of the full notebook cells\n",
              "var notebookContainer = gd.closest('#notebook-container');\n",
              "if (notebookContainer) {{\n",
              "    x.observe(notebookContainer, {childList: true});\n",
              "}}\n",
              "\n",
              "// Listen for the clearing of the current output cell\n",
              "var outputEl = gd.closest('.output');\n",
              "if (outputEl) {{\n",
              "    x.observe(outputEl, {childList: true});\n",
              "}}\n",
              "\n",
              "                        })                };                            </script>        </div>\n",
              "</body>\n",
              "</html>"
            ]
          },
          "metadata": {}
        }
      ],
      "source": [
        "ap_dest = Airlines_2[['AirportTo','Delay']].groupby('AirportTo').agg('count').reset_index()\n",
        "fig = px.bar(ap_dest, x='AirportTo', y='Delay')\n",
        "fig.show()"
      ]
    },
    {
      "cell_type": "markdown",
      "source": [
        "**Hartsfield-Jackson Atlanta International Airport (ATL)** is an airport that has the highest flight delay rate compared to other airports for both departure and arrival."
      ],
      "metadata": {
        "id": "tgtK87Iawnj6"
      }
    },
    {
      "cell_type": "code",
      "execution_count": null,
      "metadata": {
        "id": "Kt3kTuDz0CJt"
      },
      "outputs": [],
      "source": [
        "# What day in ATL Airport experience the most flight delay\n",
        "ATL_Delay = ((Airlines_2[(Airlines_2['AirportFrom']=='ATL')&(Airlines_2['Delay']==1)])\n",
        "            .groupby('DayOfWeek')\n",
        "            .agg(delay_count=('Delay','sum'))\n",
        "            .reset_index()\n",
        "            .sort_values('DayOfWeek',ascending=True))"
      ]
    },
    {
      "cell_type": "code",
      "execution_count": null,
      "metadata": {
        "colab": {
          "base_uri": "https://localhost:8080/"
        },
        "id": "nxOGv1Uq0jiH",
        "outputId": "95f9e7cf-803b-404e-b1b4-bf90353d0510"
      },
      "outputs": [
        {
          "output_type": "display_data",
          "data": {
            "text/plain": [
              "<Figure size 1008x432 with 1 Axes>"
            ],
            "image/png": "[encoded data removed]"
          },
          "metadata": {
            "needs_background": "light"
          }
        }
      ],
      "source": [
        "plt.figure(figsize= (14,6))\n",
        "plt.plot(ATL_Delay['DayOfWeek'], ATL_Delay['delay_count'], color='#03A696', marker='o')\n",
        "plt.title('What day in ATL Airport experience the most flight delay', fontsize=12, fontweight='bold')\n",
        "\n",
        "plt.xlabel('DayofWeek', fontsize=12)\n",
        "plt.ylabel('Delay count', fontsize=12)\n",
        "plt.show()"
      ]
    },
    {
      "cell_type": "markdown",
      "metadata": {
        "id": "ftgagvk02spP"
      },
      "source": [
        "### Feature Extraction"
      ]
    },
    {
      "cell_type": "code",
      "execution_count": null,
      "metadata": {
        "id": "icT-Fs-i2ZHC"
      },
      "outputs": [],
      "source": [
        "Airlines_2['Length_by_hours'] = Airlines_2['Length'] / 60\n",
        "Airlines_2['Time_by_hour'] = Airlines_2['Time'] / 60"
      ]
    },
    {
      "cell_type": "code",
      "execution_count": null,
      "metadata": {
        "id": "kQZm5Zrax5l_"
      },
      "outputs": [],
      "source": [
        "Airlines_2.drop(columns=['Length', 'Time'], inplace=True)"
      ]
    },
    {
      "cell_type": "code",
      "execution_count": null,
      "metadata": {
        "colab": {
          "base_uri": "https://localhost:8080/",
          "height": 299
        },
        "id": "T2NfLWThzTk-",
        "outputId": "5a9365f9-1b11-4684-f563-adeb998b3e53"
      },
      "outputs": [
        {
          "output_type": "execute_result",
          "data": {
            "text/plain": [
              "<matplotlib.axes._subplots.AxesSubplot at 0x7fb55c70f370>"
            ]
          },
          "metadata": {},
          "execution_count": 55
        },
        {
          "output_type": "display_data",
          "data": {
            "text/plain": [
              "<Figure size 432x288 with 1 Axes>"
            ],
            "image/png": "[encoded data removed]"
          },
          "metadata": {
            "needs_background": "light"
          }
        }
      ],
      "source": [
        "sns.histplot(Airlines_2['Time_by_hour'])"
      ]
    },
    {
      "cell_type": "code",
      "execution_count": null,
      "metadata": {
        "colab": {
          "base_uri": "https://localhost:8080/",
          "height": 298
        },
        "id": "aGkYQ6ShzXXB",
        "outputId": "1ce519ec-d5df-4939-81e0-77f38636b893"
      },
      "outputs": [
        {
          "output_type": "execute_result",
          "data": {
            "text/plain": [
              "<matplotlib.axes._subplots.AxesSubplot at 0x7fb55c5707f0>"
            ]
          },
          "metadata": {},
          "execution_count": 56
        },
        {
          "output_type": "display_data",
          "data": {
            "text/plain": [
              "<Figure size 432x288 with 1 Axes>"
            ],
            "image/png": "[encoded data removed]"
          },
          "metadata": {
            "needs_background": "light"
          }
        }
      ],
      "source": [
        "sns.histplot(Airlines_2['Length_by_hours'])"
      ]
    },
    {
      "cell_type": "code",
      "execution_count": null,
      "metadata": {
        "id": "6IjcqB7bwETx"
      },
      "outputs": [],
      "source": [
        "departure_period = []\n",
        "for i in range(0,len(Airlines_2)):\n",
        "    if ((Airlines_2['Time_by_hour'][i] >= 5) & (Airlines_2['Time_by_hour'][i] < 12)):      \n",
        "        departure_period.append(0)\n",
        "    elif ((Airlines_2['Time_by_hour'][i] >= 12) & (Airlines_2['Time_by_hour'][i] < 17)):    \n",
        "        departure_period.append(1)\n",
        "    elif ((Airlines_2['Time_by_hour'][i] >= 17) & (Airlines_2['Time_by_hour'][i] < 21)): \n",
        "        departure_period.append(2)\n",
        "    else: \n",
        "        departure_period.append(3)\n",
        "\n",
        "Airlines_2['Departure_period'] = departure_period"
      ]
    },
    {
      "cell_type": "code",
      "execution_count": null,
      "metadata": {
        "colab": {
          "base_uri": "https://localhost:8080/",
          "height": 298
        },
        "id": "2iVEY2ukxMu0",
        "outputId": "e1a664f6-f797-422e-b4a8-4e7a1062117c"
      },
      "outputs": [
        {
          "output_type": "execute_result",
          "data": {
            "text/plain": [
              "<matplotlib.axes._subplots.AxesSubplot at 0x7fb55c58b7c0>"
            ]
          },
          "metadata": {},
          "execution_count": 58
        },
        {
          "output_type": "display_data",
          "data": {
            "text/plain": [
              "<Figure size 432x288 with 1 Axes>"
            ],
            "image/png": "[encoded data removed]"
          },
          "metadata": {
            "needs_background": "light"
          }
        }
      ],
      "source": [
        "sns.countplot(data=Airlines_2, x='Departure_period', hue='Delay')\n",
        "#0 --> Morning | 1 --> Afternoon | 2 --> Evening | 3 --> Night"
      ]
    },
    {
      "cell_type": "code",
      "execution_count": null,
      "metadata": {
        "id": "KOOHRR2SxKT-"
      },
      "outputs": [],
      "source": [
        "week = []\n",
        "for i in range(0,len(Airlines_2)):\n",
        "    if ((Airlines_2['DayOfWeek'][i] == 6) | (Airlines_2['DayOfWeek'][i] == 7)):      \n",
        "        week.append(0)\n",
        "    else: \n",
        "        week.append(1)\n",
        "\n",
        "Airlines_2['week'] = week"
      ]
    },
    {
      "cell_type": "code",
      "execution_count": null,
      "metadata": {
        "colab": {
          "base_uri": "https://localhost:8080/",
          "height": 297
        },
        "id": "hKqvMD0mxLl2",
        "outputId": "f977a83b-1a65-4e97-c561-6e52f151ec02"
      },
      "outputs": [
        {
          "output_type": "execute_result",
          "data": {
            "text/plain": [
              "<matplotlib.axes._subplots.AxesSubplot at 0x7fb55c1687f0>"
            ]
          },
          "metadata": {},
          "execution_count": 60
        },
        {
          "output_type": "display_data",
          "data": {
            "text/plain": [
              "<Figure size 432x288 with 1 Axes>"
            ],
            "image/png": "[encoded data removed]"
          },
          "metadata": {
            "needs_background": "light"
          }
        }
      ],
      "source": [
        "sns.countplot(data=Airlines_2, x='week', hue='Delay')\n",
        "#0 --> Weekend | 1 --> Weekday"
      ]
    },
    {
      "cell_type": "markdown",
      "metadata": {
        "id": "EBdkXULoudlC"
      },
      "source": [
        "1. Every day there is a fairly high delay rate but on the third day it has the highest delay intensity.\n",
        "2. **Southwest Airlines (WN)** is the airline with the highest flight delay rate in the US.\n",
        "3. Based on flight duration, flights with short travel duration are more likely to experience delays.\n",
        "4. **Hartsfield-Jackson Atlanta International Airport (ATL)** is an airport that has the highest flight delay rate compared to other airports for both departure and arrival.\n",
        "5. Based on the flight time period in one day, flights made at night are the least likely to be delayed and flights made at daylight are most likely experience delays.\n"
      ]
    },
    {
      "cell_type": "markdown",
      "metadata": {
        "id": "yEf0z18Q3TAT"
      },
      "source": [
        "### **Multivariate Analysis**"
      ]
    },
    {
      "cell_type": "code",
      "execution_count": null,
      "metadata": {
        "colab": {
          "base_uri": "https://localhost:8080/",
          "height": 592
        },
        "id": "i2HsBERFCFMP",
        "outputId": "2fdddb5e-94a7-4e54-d03e-b7130ad68f80"
      },
      "outputs": [
        {
          "output_type": "display_data",
          "data": {
            "text/plain": [
              "<Figure size 1296x864 with 2 Axes>"
            ],
            "image/png": "[encoded data removed]"
          },
          "metadata": {
            "needs_background": "light"
          }
        }
      ],
      "source": [
        "# Heatmap for the correlation data\n",
        "correlation = Airlines_2.corr()\n",
        "\n",
        "plt.figure(figsize = (18, 12))\n",
        "sns.heatmap(correlation, annot=True, cmap='BuPu')\n",
        "plt.title('Correlation Between Numerical Value and Target', fontsize=15, fontweight='bold')\n",
        "plt.show()"
      ]
    },
    {
      "cell_type": "markdown",
      "metadata": {
        "id": "VlxZtK824YzS"
      },
      "source": [
        "- `Time_by_Hour` (Positive) and `Flight` (Negative) features have the highest correlation with target but not too significant.\n",
        "- When `Time` ratio is increase, the probability of `Delay` is increasing as well.\n"
      ]
    },
    {
      "cell_type": "markdown",
      "metadata": {
        "id": "C0Naz76E5CDy"
      },
      "source": [
        "# **Feature Engineering**"
      ]
    },
    {
      "cell_type": "markdown",
      "metadata": {
        "id": "9WSlx63q-_-_"
      },
      "source": [
        "## **Outlier Handling**"
      ]
    },
    {
      "cell_type": "markdown",
      "metadata": {
        "id": "-iiSQlx3_GAg"
      },
      "source": [
        "Based on outlier check, outliers at `Length_by_hours` will be removed.\n"
      ]
    },
    {
      "cell_type": "code",
      "execution_count": null,
      "metadata": {
        "id": "GY3N1kGi_DNB"
      },
      "outputs": [],
      "source": [
        "# Remove outliers based on max value\n",
        "def max_value(df1, variable, top):\n",
        "    return np.where(df1[variable]>top, top, df1[variable])\n",
        "\n",
        "for df1 in [Airlines_2, Airlines_2]:\n",
        "  df1['Length_by_hours'] = max_value(df1, 'Length_by_hours', 6.750000000000001)"
      ]
    },
    {
      "cell_type": "markdown",
      "metadata": {
        "id": "tI6d8vW-dYel"
      },
      "source": [
        "## Split the data for training and test"
      ]
    },
    {
      "cell_type": "markdown",
      "metadata": {
        "id": "M-Id-6rXsmPq"
      },
      "source": [
        "The data will be splited into train and test data with 80:20 proportion and fully explore the train data."
      ]
    },
    {
      "cell_type": "code",
      "execution_count": null,
      "metadata": {
        "id": "T5wRvpiasgX7"
      },
      "outputs": [],
      "source": [
        "# Split train and test data into 80:20 proportion\n",
        "train_data_2, test_data_2 = train_test_split(Airlines_2, test_size=0.20, random_state=42, shuffle=True)"
      ]
    },
    {
      "cell_type": "code",
      "execution_count": null,
      "metadata": {
        "id": "pWSKIOW8EfJN"
      },
      "outputs": [],
      "source": [
        "train_data_2.head(5)"
      ]
    },
    {
      "cell_type": "code",
      "execution_count": null,
      "metadata": {
        "id": "VLhrcfAMdTuz"
      },
      "outputs": [],
      "source": [
        "test_data_2.head(5)"
      ]
    },
    {
      "cell_type": "markdown",
      "metadata": {
        "id": "NUluouWl5MJd"
      },
      "source": [
        "## **Categorical Data Handling**"
      ]
    },
    {
      "cell_type": "markdown",
      "metadata": {
        "id": "t1r3jSM853m4"
      },
      "source": [
        "For handling category data, will choose **\"Frequency Encoding\"**  since each column `'Airline'`, `'AirportTo'`, and `'AirportFrom'` have more than 2 distinct values "
      ]
    },
    {
      "cell_type": "code",
      "execution_count": null,
      "metadata": {
        "id": "pizrE_a5Mg0M"
      },
      "outputs": [],
      "source": [
        "train_data_2.info()"
      ]
    },
    {
      "cell_type": "code",
      "execution_count": null,
      "metadata": {
        "id": "HJBHdqT7WtZR"
      },
      "outputs": [],
      "source": [
        "# grouping by frequency\n",
        "fqtto = train_data_2.groupby('AirportTo').size()/len(train_data_2)\n",
        "# mapping values to dataframe\n",
        "train_data_2.loc[:, \"{}_freq_encode\".format('AirportTo')] = train_data_2['AirportTo'].map(fqtto)\n",
        "# drop original column.\n",
        "train_data_2 = train_data_2.drop(['AirportTo'], axis=1)"
      ]
    },
    {
      "cell_type": "code",
      "execution_count": null,
      "metadata": {
        "id": "fBuowLEDXEM4"
      },
      "outputs": [],
      "source": [
        "# grouping by frequency\n",
        "fqta = train_data_2.groupby('Airline').size()/len(train_data_2)\n",
        "# mapping values to dataframe\n",
        "train_data_2.loc[:, \"{}_freq_encode\".format('Airline')] = train_data_2['Airline'].map(fqta)\n",
        "# drop original column.\n",
        "train_data_2 = train_data_2.drop(['Airline'], axis=1)"
      ]
    },
    {
      "cell_type": "code",
      "execution_count": null,
      "metadata": {
        "id": "C_LwSoJlXEkD"
      },
      "outputs": [],
      "source": [
        "# grouping by frequency\n",
        "fqtfr = train_data_2.groupby('AirportFrom').size()/len(train_data_2)\n",
        "# mapping values to dataframe\n",
        "train_data_2.loc[:, \"{}_freq_encode\".format('AirportFrom')] = train_data_2['AirportFrom'].map(fqtfr)\n",
        "# drop original column.\n",
        "train_data_2 = train_data_2.drop(['AirportFrom'], axis=1)"
      ]
    },
    {
      "cell_type": "markdown",
      "metadata": {
        "id": "_sFCZcwN8h_w"
      },
      "source": [
        "## **Resampling**"
      ]
    },
    {
      "cell_type": "code",
      "execution_count": null,
      "metadata": {
        "colab": {
          "base_uri": "https://localhost:8080/"
        },
        "id": "bciHzuH48m9k",
        "outputId": "a66cf626-6139-4d7d-ce7c-805f79984cdb"
      },
      "outputs": [
        {
          "output_type": "execute_result",
          "data": {
            "text/plain": [
              "0    239240\n",
              "1    192266\n",
              "Name: Delay, dtype: int64"
            ]
          },
          "metadata": {},
          "execution_count": 66
        }
      ],
      "source": [
        "# Quantity Delay column\n",
        "train_data_2['Delay'].value_counts()"
      ]
    },
    {
      "cell_type": "markdown",
      "metadata": {
        "id": "NPqCqjbX8vrl"
      },
      "source": [
        "Since the data is imbalance, we'll handle undersampling."
      ]
    },
    {
      "cell_type": "code",
      "execution_count": null,
      "metadata": {
        "id": "GL8k_fS380a4"
      },
      "outputs": [],
      "source": [
        "# Split train data become x and y\n",
        "x_train = train_data_2.drop(columns='Delay')\n",
        "y_train = train_data_2['Delay']"
      ]
    },
    {
      "cell_type": "code",
      "execution_count": null,
      "metadata": {
        "id": "ejVYVD20eRTA"
      },
      "outputs": [],
      "source": [
        "x_train, y_train = under_sampling.RandomUnderSampler(sampling_strategy='majority').fit_resample(x_train, y_train)"
      ]
    },
    {
      "cell_type": "code",
      "execution_count": null,
      "metadata": {
        "colab": {
          "base_uri": "https://localhost:8080/"
        },
        "id": "KzqzgOisexNM",
        "outputId": "f858d9b5-ea61-429f-c24f-171e73d30906"
      },
      "outputs": [
        {
          "output_type": "execute_result",
          "data": {
            "text/plain": [
              "0    192266\n",
              "1    192266\n",
              "Name: Delay, dtype: int64"
            ]
          },
          "metadata": {},
          "execution_count": 69
        }
      ],
      "source": [
        "# Insanity check\n",
        "y_train.value_counts()"
      ]
    },
    {
      "cell_type": "markdown",
      "metadata": {
        "id": "S-nx4VHDe8ZC"
      },
      "source": [
        "Now data train is balance."
      ]
    },
    {
      "cell_type": "markdown",
      "metadata": {
        "id": "HvPSvDXw9JpQ"
      },
      "source": [
        "## **Scaling**"
      ]
    },
    {
      "cell_type": "code",
      "execution_count": null,
      "metadata": {
        "id": "mm2ir7Ry9Jcl"
      },
      "outputs": [],
      "source": [
        "scaler = MinMaxScaler()\n",
        "scaler.fit(x_train)\n",
        "\n",
        "x_train_scaled = scaler.transform(x_train)"
      ]
    },
    {
      "cell_type": "code",
      "execution_count": null,
      "metadata": {
        "colab": {
          "base_uri": "https://localhost:8080/"
        },
        "id": "DXogPd5Z4FSw",
        "outputId": "3effb23f-cddd-487f-af2b-f5ce1556eba6"
      },
      "outputs": [
        {
          "output_type": "execute_result",
          "data": {
            "text/plain": [
              "array([[0.93839964, 0.76705491, 0.5       , ..., 0.72023096, 0.28801242,\n",
              "        0.01549542],\n",
              "       [0.2546331 , 0.10444132, 0.33333333, ..., 0.27315975, 0.17152332,\n",
              "        0.24818129],\n",
              "       [0.19762876, 0.06105209, 0.16666667, ..., 0.12368813, 0.24937557,\n",
              "        0.34344537],\n",
              "       ...,\n",
              "       [0.10175757, 0.28810956, 0.83333333, ..., 0.13850456, 0.28801242,\n",
              "        0.04423105],\n",
              "       [0.48051096, 0.81914757, 0.5       , ..., 0.34204888, 0.50202498,\n",
              "        0.00796595],\n",
              "       [0.22610775, 0.37770383, 0.33333333, ..., 0.24737626, 0.62645876,\n",
              "        0.17732431]])"
            ]
          },
          "metadata": {},
          "execution_count": 87
        }
      ],
      "source": [
        "x_train_scaled"
      ]
    },
    {
      "cell_type": "markdown",
      "metadata": {
        "id": "WoTA-d3i9St2"
      },
      "source": [
        "## **Test Data Processing**"
      ]
    },
    {
      "cell_type": "markdown",
      "metadata": {
        "id": "ATMeUP769X7q"
      },
      "source": [
        "Test data will be treated as same as train data."
      ]
    },
    {
      "cell_type": "code",
      "execution_count": null,
      "metadata": {
        "id": "uiQgMrhVE2_z"
      },
      "outputs": [],
      "source": [
        "test_data_2.info()"
      ]
    },
    {
      "cell_type": "code",
      "execution_count": null,
      "metadata": {
        "id": "oVziGABQXdmx"
      },
      "outputs": [],
      "source": [
        "# grouping by frequency\n",
        "fqteto = test_data_2.groupby('AirportTo').size()/len(test_data_2)\n",
        "# mapping values to dataframe\n",
        "test_data_2.loc[:, \"{}_freq_encode\".format('AirportTo')] = test_data_2['AirportTo'].map(fqteto)\n",
        "# drop original column.\n",
        "test_data_2 = test_data_2.drop(['AirportTo'], axis=1)"
      ]
    },
    {
      "cell_type": "code",
      "execution_count": null,
      "metadata": {
        "id": "MPcTcuTBXeJl"
      },
      "outputs": [],
      "source": [
        "# grouping by frequency\n",
        "fqtea = test_data_2.groupby('Airline').size()/len(test_data_2)\n",
        "# mapping values to dataframe\n",
        "test_data_2.loc[:, \"{}_freq_encode\".format('Airline')] = test_data_2['Airline'].map(fqtea)\n",
        "# drop original column.\n",
        "test_data_2 = test_data_2.drop(['Airline'], axis=1)"
      ]
    },
    {
      "cell_type": "code",
      "execution_count": null,
      "metadata": {
        "id": "lTyOLBRJXehL"
      },
      "outputs": [],
      "source": [
        "# grouping by frequency\n",
        "fqtefro = test_data_2.groupby('AirportFrom').size()/len(test_data_2)\n",
        "# mapping values to dataframe\n",
        "test_data_2.loc[:, \"{}_freq_encode\".format('AirportFrom')] = test_data_2['AirportFrom'].map(fqtefro)\n",
        "# drop original column.\n",
        "test_data_2 = test_data_2.drop(['AirportFrom'], axis=1)"
      ]
    },
    {
      "cell_type": "code",
      "execution_count": null,
      "metadata": {
        "id": "ddM_Gt0T9z-S"
      },
      "outputs": [],
      "source": [
        "# Split test data become x and y\n",
        "x_test = test_data_2.drop(columns='Delay')\n",
        "y_test = test_data_2['Delay']"
      ]
    },
    {
      "cell_type": "code",
      "execution_count": null,
      "metadata": {
        "id": "yasxXVtI97de"
      },
      "outputs": [],
      "source": [
        "scaler = MinMaxScaler()\n",
        "scaler.fit(x_test)\n",
        "\n",
        "x_test_scaled = scaler.transform(x_test)"
      ]
    },
    {
      "cell_type": "markdown",
      "metadata": {
        "id": "Jgv75adu-G-9"
      },
      "source": [
        "# **Modelling and Evaluation**"
      ]
    },
    {
      "cell_type": "markdown",
      "metadata": {
        "id": "TuhQcvjN-L_u"
      },
      "source": [
        "After some preprocessing data, I will re-create model with same algorithms with baseline. Since the data is imbalance, I will use AUC as evaluation metric."
      ]
    },
    {
      "cell_type": "code",
      "execution_count": null,
      "metadata": {
        "id": "um7IcZrX-M9j"
      },
      "outputs": [],
      "source": [
        "models = [LogisticRegression(random_state=42),\n",
        "          DecisionTreeClassifier(random_state=42),\n",
        "          RandomForestClassifier(random_state=42),\n",
        "          lgb.LGBMClassifier(random_state=42),\n",
        "          XGBClassifier(random_state=42)]\n",
        "\n",
        "modeled = pd.DataFrame(columns = ['Method', 'Precision', 'Recall', 'F1-Score', 'ROC_AUC'])"
      ]
    },
    {
      "cell_type": "code",
      "execution_count": null,
      "metadata": {
        "id": "ggQY8p24-Q_W"
      },
      "outputs": [],
      "source": [
        "for model in models:\n",
        "    model.fit(x_train_scaled, y_train)\n",
        "    y_pred = model.predict(x_test_scaled)\n",
        "\n",
        "    model = str(type(model)).split('.')[-1][:-2]\n",
        "\n",
        "    tn, fp, fn, tp = confusion_matrix(y_test, y_pred).ravel()\n",
        "\n",
        "    precision = tp/(tp+fp)\n",
        "    recall = tp/(tp+fn)\n",
        "    f1 = 2 * (precision * recall)/(precision + recall)\n",
        "\n",
        "    # ROC AUC\n",
        "    roc_auc = roc_auc_score(y_test, y_pred)\n",
        "  \n",
        "    modeled = modeled.append({'Method': model, \n",
        "                           'Precision': precision, \n",
        "                              'Recall': recall,\n",
        "                            'F1-Score': f1,\n",
        "                             'ROC_AUC': roc_auc},\n",
        "                            ignore_index=True)"
      ]
    },
    {
      "cell_type": "code",
      "execution_count": null,
      "metadata": {
        "colab": {
          "base_uri": "https://localhost:8080/",
          "height": 206
        },
        "id": "RRjotdAu-SwS",
        "outputId": "218a9f31-55d4-49ef-cfa3-6072dec822ce"
      },
      "outputs": [
        {
          "output_type": "execute_result",
          "data": {
            "text/plain": [
              "                   Method  Precision    Recall  F1-Score   ROC_AUC\n",
              "0      LogisticRegression   0.573482  0.606900  0.589718  0.622544\n",
              "1  DecisionTreeClassifier   0.557325  0.614755  0.584633  0.611674\n",
              "2  RandomForestClassifier   0.640203  0.660757  0.650317  0.681545\n",
              "3          LGBMClassifier   0.629772  0.647235  0.638384  0.671118\n",
              "4           XGBClassifier   0.607980  0.632693  0.620090  0.652842"
            ],
            "text/html": [
              "\n",
              "  <div id=\"df-acbd4864-d34e-4f2f-bb2d-974773b09255\">\n",
              "    <div class=\"colab-df-container\">\n",
              "      <div>\n",
              "<style scoped>\n",
              "    .dataframe tbody tr th:only-of-type {\n",
              "        vertical-align: middle;\n",
              "    }\n",
              "\n",
              "    .dataframe tbody tr th {\n",
              "        vertical-align: top;\n",
              "    }\n",
              "\n",
              "    .dataframe thead th {\n",
              "        text-align: right;\n",
              "    }\n",
              "</style>\n",
              "<table border=\"1\" class=\"dataframe\">\n",
              "  <thead>\n",
              "    <tr style=\"text-align: right;\">\n",
              "      <th></th>\n",
              "      <th>Method</th>\n",
              "      <th>Precision</th>\n",
              "      <th>Recall</th>\n",
              "      <th>F1-Score</th>\n",
              "      <th>ROC_AUC</th>\n",
              "    </tr>\n",
              "  </thead>\n",
              "  <tbody>\n",
              "    <tr>\n",
              "      <th>0</th>\n",
              "      <td>LogisticRegression</td>\n",
              "      <td>0.573482</td>\n",
              "      <td>0.606900</td>\n",
              "      <td>0.589718</td>\n",
              "      <td>0.622544</td>\n",
              "    </tr>\n",
              "    <tr>\n",
              "      <th>1</th>\n",
              "      <td>DecisionTreeClassifier</td>\n",
              "      <td>0.557325</td>\n",
              "      <td>0.614755</td>\n",
              "      <td>0.584633</td>\n",
              "      <td>0.611674</td>\n",
              "    </tr>\n",
              "    <tr>\n",
              "      <th>2</th>\n",
              "      <td>RandomForestClassifier</td>\n",
              "      <td>0.640203</td>\n",
              "      <td>0.660757</td>\n",
              "      <td>0.650317</td>\n",
              "      <td>0.681545</td>\n",
              "    </tr>\n",
              "    <tr>\n",
              "      <th>3</th>\n",
              "      <td>LGBMClassifier</td>\n",
              "      <td>0.629772</td>\n",
              "      <td>0.647235</td>\n",
              "      <td>0.638384</td>\n",
              "      <td>0.671118</td>\n",
              "    </tr>\n",
              "    <tr>\n",
              "      <th>4</th>\n",
              "      <td>XGBClassifier</td>\n",
              "      <td>0.607980</td>\n",
              "      <td>0.632693</td>\n",
              "      <td>0.620090</td>\n",
              "      <td>0.652842</td>\n",
              "    </tr>\n",
              "  </tbody>\n",
              "</table>\n",
              "</div>\n",
              "      <button class=\"colab-df-convert\" onclick=\"convertToInteractive('df-acbd4864-d34e-4f2f-bb2d-974773b09255')\"\n",
              "              title=\"Convert this dataframe to an interactive table.\"\n",
              "              style=\"display:none;\">\n",
              "        \n",
              "  <svg xmlns=\"http://www.w3.org/2000/svg\" height=\"24px\"viewBox=\"0 0 24 24\"\n",
              "       width=\"24px\">\n",
              "    <path d=\"M0 0h24v24H0V0z\" fill=\"none\"/>\n",
              "    <path d=\"M18.56 5.44l.94 2.06.94-2.06 2.06-.94-2.06-.94-.94-2.06-.94 2.06-2.06.94zm-11 1L8.5 8.5l.94-2.06 2.06-.94-2.06-.94L8.5 2.5l-.94 2.06-2.06.94zm10 10l.94 2.06.94-2.06 2.06-.94-2.06-.94-.94-2.06-.94 2.06-2.06.94z\"/><path d=\"M17.41 7.96l-1.37-1.37c-.4-.4-.92-.59-1.43-.59-.52 0-1.04.2-1.43.59L10.3 9.45l-7.72 7.72c-.78.78-.78 2.05 0 2.83L4 21.41c.39.39.9.59 1.41.59.51 0 1.02-.2 1.41-.59l7.78-7.78 2.81-2.81c.8-.78.8-2.07 0-2.86zM5.41 20L4 18.59l7.72-7.72 1.47 1.35L5.41 20z\"/>\n",
              "  </svg>\n",
              "      </button>\n",
              "      \n",
              "  <style>\n",
              "    .colab-df-container {\n",
              "      display:flex;\n",
              "      flex-wrap:wrap;\n",
              "      gap: 12px;\n",
              "    }\n",
              "\n",
              "    .colab-df-convert {\n",
              "      background-color: #E8F0FE;\n",
              "      border: none;\n",
              "      border-radius: 50%;\n",
              "      cursor: pointer;\n",
              "      display: none;\n",
              "      fill: #1967D2;\n",
              "      height: 32px;\n",
              "      padding: 0 0 0 0;\n",
              "      width: 32px;\n",
              "    }\n",
              "\n",
              "    .colab-df-convert:hover {\n",
              "      background-color: #E2EBFA;\n",
              "      box-shadow: 0px 1px 2px rgba(60, 64, 67, 0.3), 0px 1px 3px 1px rgba(60, 64, 67, 0.15);\n",
              "      fill: #174EA6;\n",
              "    }\n",
              "\n",
              "    [theme=dark] .colab-df-convert {\n",
              "      background-color: #3B4455;\n",
              "      fill: #D2E3FC;\n",
              "    }\n",
              "\n",
              "    [theme=dark] .colab-df-convert:hover {\n",
              "      background-color: #434B5C;\n",
              "      box-shadow: 0px 1px 3px 1px rgba(0, 0, 0, 0.15);\n",
              "      filter: drop-shadow(0px 1px 2px rgba(0, 0, 0, 0.3));\n",
              "      fill: #FFFFFF;\n",
              "    }\n",
              "  </style>\n",
              "\n",
              "      <script>\n",
              "        const buttonEl =\n",
              "          document.querySelector('#df-acbd4864-d34e-4f2f-bb2d-974773b09255 button.colab-df-convert');\n",
              "        buttonEl.style.display =\n",
              "          google.colab.kernel.accessAllowed ? 'block' : 'none';\n",
              "\n",
              "        async function convertToInteractive(key) {\n",
              "          const element = document.querySelector('#df-acbd4864-d34e-4f2f-bb2d-974773b09255');\n",
              "          const dataTable =\n",
              "            await google.colab.kernel.invokeFunction('convertToInteractive',\n",
              "                                                     [key], {});\n",
              "          if (!dataTable) return;\n",
              "\n",
              "          const docLinkHtml = 'Like what you see? Visit the ' +\n",
              "            '<a target=\"_blank\" href=https://colab.research.google.com/notebooks/data_table.ipynb>data table notebook</a>'\n",
              "            + ' to learn more about interactive tables.';\n",
              "          element.innerHTML = '';\n",
              "          dataTable['output_type'] = 'display_data';\n",
              "          await google.colab.output.renderOutput(dataTable, element);\n",
              "          const docLink = document.createElement('div');\n",
              "          docLink.innerHTML = docLinkHtml;\n",
              "          element.appendChild(docLink);\n",
              "        }\n",
              "      </script>\n",
              "    </div>\n",
              "  </div>\n",
              "  "
            ]
          },
          "metadata": {},
          "execution_count": 78
        }
      ],
      "source": [
        "modeled"
      ]
    },
    {
      "cell_type": "markdown",
      "metadata": {
        "id": "3vhUZooUIIAJ"
      },
      "source": [
        "## **AUC Each Model**"
      ]
    },
    {
      "cell_type": "code",
      "execution_count": null,
      "metadata": {
        "colab": {
          "base_uri": "https://localhost:8080/"
        },
        "id": "TRcIezoMIwVx",
        "outputId": "fbdf1cf3-cdf6-4159-d046-619b0c9b0674"
      },
      "outputs": [
        {
          "output_type": "execute_result",
          "data": {
            "text/plain": [
              "LogisticRegression(random_state=42)"
            ]
          },
          "metadata": {},
          "execution_count": 88
        }
      ],
      "source": [
        "# Retrieve Logistic Regression model\n",
        "logreg = LogisticRegression(random_state=42)\n",
        "logreg.fit(x_train_scaled, y_train)"
      ]
    },
    {
      "cell_type": "code",
      "execution_count": null,
      "metadata": {
        "colab": {
          "base_uri": "https://localhost:8080/",
          "height": 295
        },
        "id": "RSGWtj7yIwHu",
        "outputId": "996e738a-e6b9-4aa3-a301-9946c99d63e8"
      },
      "outputs": [
        {
          "output_type": "display_data",
          "data": {
            "text/plain": [
              "<Figure size 432x288 with 1 Axes>"
            ],
            "image/png": "[encoded data removed]"
          },
          "metadata": {
            "needs_background": "light"
          }
        }
      ],
      "source": [
        "# Create ROC curve\n",
        "metrics.plot_roc_curve(logreg, x_test_scaled, y_test)\n",
        "plt.title('ROC Curve')\n",
        "plt.plot([0, 1], [0, 1], 'r--')\n",
        "plt.show()"
      ]
    },
    {
      "cell_type": "code",
      "execution_count": null,
      "metadata": {
        "colab": {
          "base_uri": "https://localhost:8080/"
        },
        "id": "NZGImat0JHY9",
        "outputId": "fb68cada-7c59-4d1c-c664-e2d367e5ecf5"
      },
      "outputs": [
        {
          "output_type": "execute_result",
          "data": {
            "text/plain": [
              "DecisionTreeClassifier(random_state=42)"
            ]
          },
          "metadata": {},
          "execution_count": 90
        }
      ],
      "source": [
        "# Retrieve Decision Tree classifier model\n",
        "dt_clf = DecisionTreeClassifier(random_state=42)\n",
        "dt_clf.fit(x_train_scaled, y_train)"
      ]
    },
    {
      "cell_type": "code",
      "execution_count": null,
      "metadata": {
        "colab": {
          "base_uri": "https://localhost:8080/",
          "height": 295
        },
        "id": "Nyh8ZQc6JHTH",
        "outputId": "2033d8f0-ef0f-4cfa-d597-4151e09f2980"
      },
      "outputs": [
        {
          "output_type": "display_data",
          "data": {
            "text/plain": [
              "<Figure size 432x288 with 1 Axes>"
            ],
            "image/png": "[encoded data removed]"
          },
          "metadata": {
            "needs_background": "light"
          }
        }
      ],
      "source": [
        "# Create ROC curve\n",
        "metrics.plot_roc_curve(dt_clf, x_test_scaled, y_test)\n",
        "plt.title('ROC Curve')\n",
        "plt.plot([0, 1], [0, 1], 'r--')\n",
        "plt.show()"
      ]
    },
    {
      "cell_type": "code",
      "execution_count": null,
      "metadata": {
        "colab": {
          "base_uri": "https://localhost:8080/"
        },
        "id": "ae_QNkqj-tMq",
        "outputId": "10148c06-7d62-4ec0-fd8a-ef952df901f6"
      },
      "outputs": [
        {
          "output_type": "execute_result",
          "data": {
            "text/plain": [
              "RandomForestClassifier(random_state=42)"
            ]
          },
          "metadata": {},
          "execution_count": 92
        }
      ],
      "source": [
        "# Retrieve Random Forest classifier model\n",
        "rf_clf = RandomForestClassifier(random_state=42)\n",
        "rf_clf.fit(x_train_scaled, y_train)"
      ]
    },
    {
      "cell_type": "code",
      "execution_count": null,
      "metadata": {
        "colab": {
          "base_uri": "https://localhost:8080/",
          "height": 295
        },
        "id": "OW9WDMhk-y-p",
        "outputId": "91e85361-e2f6-41bf-8b44-692af08f9b8d"
      },
      "outputs": [
        {
          "output_type": "display_data",
          "data": {
            "text/plain": [
              "<Figure size 432x288 with 1 Axes>"
            ],
            "image/png": "[encoded data removed]"
          },
          "metadata": {
            "needs_background": "light"
          }
        }
      ],
      "source": [
        "# Create ROC curve\n",
        "metrics.plot_roc_curve(rf_clf, x_test_scaled, y_test)\n",
        "plt.title('ROC Curve')\n",
        "plt.plot([0, 1], [0, 1], 'r--')\n",
        "plt.show()"
      ]
    },
    {
      "cell_type": "code",
      "execution_count": null,
      "metadata": {
        "colab": {
          "base_uri": "https://localhost:8080/"
        },
        "id": "xwQ2QyjNJdrw",
        "outputId": "552c088a-e7d6-4b93-fb9c-60b4fb020799"
      },
      "outputs": [
        {
          "output_type": "execute_result",
          "data": {
            "text/plain": [
              "XGBClassifier(random_state=42)"
            ]
          },
          "metadata": {},
          "execution_count": 94
        }
      ],
      "source": [
        "# Retrieve XG Boost classifier model\n",
        "xgb = XGBClassifier(random_state=42)\n",
        "xgb.fit(x_train_scaled, y_train)"
      ]
    },
    {
      "cell_type": "code",
      "execution_count": null,
      "metadata": {
        "colab": {
          "base_uri": "https://localhost:8080/",
          "height": 295
        },
        "id": "V9pQwNGFJqqb",
        "outputId": "a7900262-da6b-4faf-bf52-ea4a5cb94d3e"
      },
      "outputs": [
        {
          "output_type": "display_data",
          "data": {
            "text/plain": [
              "<Figure size 432x288 with 1 Axes>"
            ],
            "image/png": "[encoded data removed]"
          },
          "metadata": {
            "needs_background": "light"
          }
        }
      ],
      "source": [
        "# Create ROC curve\n",
        "metrics.plot_roc_curve(xgb, x_test_scaled, y_test)\n",
        "plt.title('ROC Curve')\n",
        "plt.plot([0, 1], [0, 1], 'r--')\n",
        "plt.show()"
      ]
    },
    {
      "cell_type": "code",
      "execution_count": null,
      "metadata": {
        "colab": {
          "base_uri": "https://localhost:8080/"
        },
        "id": "OlRl9zJoaiRE",
        "outputId": "ea335f08-0b90-434e-8e59-9538b9668c52"
      },
      "outputs": [
        {
          "output_type": "execute_result",
          "data": {
            "text/plain": [
              "LGBMClassifier(random_state=42)"
            ]
          },
          "metadata": {},
          "execution_count": 96
        }
      ],
      "source": [
        "# Retrieve Light XG Boost classifier model\n",
        "lgbm = lgb.LGBMClassifier(random_state=42)\n",
        "lgbm.fit(x_train_scaled, y_train)"
      ]
    },
    {
      "cell_type": "code",
      "execution_count": null,
      "metadata": {
        "colab": {
          "base_uri": "https://localhost:8080/",
          "height": 295
        },
        "id": "x1hrmhh2ajD7",
        "outputId": "9b16b464-61e0-4d90-97e1-bdfcccc0589c"
      },
      "outputs": [
        {
          "output_type": "display_data",
          "data": {
            "text/plain": [
              "<Figure size 432x288 with 1 Axes>"
            ],
            "image/png": "[encoded data removed]"
          },
          "metadata": {
            "needs_background": "light"
          }
        }
      ],
      "source": [
        "# Create ROC curve\n",
        "metrics.plot_roc_curve(lgbm, x_test_scaled, y_test)\n",
        "plt.title('ROC Curve')\n",
        "plt.plot([0, 1], [0, 1], 'r--')\n",
        "plt.show()"
      ]
    },
    {
      "cell_type": "markdown",
      "metadata": {
        "id": "f5DLUaBaJc_w"
      },
      "source": [
        "# **Hyperparameter Tuning**"
      ]
    },
    {
      "cell_type": "markdown",
      "metadata": {
        "id": "16FjChcpJz0p"
      },
      "source": [
        "Random Forest model have the best AUC score, we will try to increase the performance by hyperparameter tuning."
      ]
    },
    {
      "cell_type": "code",
      "execution_count": null,
      "metadata": {
        "colab": {
          "base_uri": "https://localhost:8080/"
        },
        "id": "Jdx8ttmYJMZR",
        "outputId": "4a28ce8d-33a4-44c7-b6ff-173b5b7519ab"
      },
      "outputs": [
        {
          "output_type": "stream",
          "name": "stdout",
          "text": [
            "CPU times: user 1h 51min 12s, sys: 9.36 s, total: 1h 51min 21s\n",
            "Wall time: 1h 52min 5s\n"
          ]
        },
        {
          "output_type": "execute_result",
          "data": {
            "text/plain": [
              "GridSearchCV(cv=5, estimator=RandomForestClassifier(random_state=42),\n",
              "             param_grid={'max_depth': (20, 30, 40, 50),\n",
              "                         'n_estimators': (70, 80, 90, 100)},\n",
              "             scoring='roc_auc')"
            ]
          },
          "metadata": {},
          "execution_count": 102
        }
      ],
      "source": [
        "# Set parameter for tuning\n",
        "%%time\n",
        "parameters = {\n",
        "    'n_estimators': (70,80,90,100),\n",
        "    'max_depth':(20,30,40,50)\n",
        "}\n",
        "\n",
        "# Hyperparameter using GridSearchCV\n",
        "rf_gridcv = GridSearchCV(rf_clf, parameters, cv=5, scoring='roc_auc')\n",
        "rf_gridcv.fit(x_train_scaled, y_train)"
      ]
    },
    {
      "cell_type": "code",
      "execution_count": null,
      "metadata": {
        "colab": {
          "base_uri": "https://localhost:8080/"
        },
        "id": "EBEDzEIzilv1",
        "outputId": "7641d483-a7e2-4aff-80d3-f3a27fbe36b4"
      },
      "outputs": [
        {
          "output_type": "stream",
          "name": "stdout",
          "text": [
            "Best Tuned Hyperparameters are: {'max_depth': 20, 'n_estimators': 100}\n"
          ]
        }
      ],
      "source": [
        "# Get the best parameters from the cross-validation method\n",
        "print(\"Best Tuned Hyperparameters are:\", rf_gridcv.best_params_)"
      ]
    },
    {
      "cell_type": "markdown",
      "source": [
        "## Confusion Matrix"
      ],
      "metadata": {
        "id": "Ab0LZWCYzxU_"
      }
    },
    {
      "cell_type": "code",
      "execution_count": null,
      "metadata": {
        "colab": {
          "base_uri": "https://localhost:8080/",
          "height": 442
        },
        "id": "VY-akQgzkgKh",
        "outputId": "3d23ff41-836f-4a0e-e416-70e75a55fddd"
      },
      "outputs": [
        {
          "output_type": "display_data",
          "data": {
            "text/plain": [
              "<Figure size 720x504 with 2 Axes>"
            ],
            "image/png": "[encoded data removed]"
          },
          "metadata": {
            "needs_background": "light"
          }
        }
      ],
      "source": [
        "# Create confusion matrix\n",
        "fig, ax = plt.subplots(figsize=(10,7))\n",
        "y_pred_rf = rf_gridcv.best_estimator_.predict(x_test_scaled)\n",
        "cm = confusion_matrix(y_test, y_pred_rf, labels=rf_gridcv.best_estimator_.classes_)\n",
        "disp = ConfusionMatrixDisplay(confusion_matrix=cm,\n",
        "                             display_labels=rf_gridcv.best_estimator_.classes_)\n",
        "disp.plot(ax=ax)\n",
        "plt.show()"
      ]
    },
    {
      "cell_type": "code",
      "execution_count": null,
      "metadata": {
        "colab": {
          "base_uri": "https://localhost:8080/"
        },
        "id": "LJc6kgFACofC",
        "outputId": "a411c786-7579-407b-b664-35abc4adf19c"
      },
      "outputs": [
        {
          "output_type": "stream",
          "name": "stdout",
          "text": [
            "              precision    recall  f1-score   support\n",
            "\n",
            "           0       0.72      0.71      0.72     59879\n",
            "           1       0.65      0.66      0.66     47998\n",
            "\n",
            "    accuracy                           0.69    107877\n",
            "   macro avg       0.69      0.69      0.69    107877\n",
            "weighted avg       0.69      0.69      0.69    107877\n",
            "\n"
          ]
        }
      ],
      "source": [
        "# Get classification report\n",
        "print(classification_report(y_test, y_pred_rf))"
      ]
    },
    {
      "cell_type": "code",
      "execution_count": null,
      "metadata": {
        "colab": {
          "base_uri": "https://localhost:8080/"
        },
        "id": "uqxoSIOEiqON",
        "outputId": "cc7ab6a0-f895-4a5e-c959-bcb4dab34e2e"
      },
      "outputs": [
        {
          "output_type": "stream",
          "name": "stdout",
          "text": [
            "ROC AUC score = 0.6863883915900539\n"
          ]
        }
      ],
      "source": [
        "# Get ROC_AUC score\n",
        "print(f'ROC AUC score = {roc_auc_score(y_test,y_pred_rf)}')"
      ]
    },
    {
      "cell_type": "code",
      "execution_count": null,
      "metadata": {
        "colab": {
          "base_uri": "https://localhost:8080/",
          "height": 295
        },
        "id": "wCKukQBYi-_O",
        "outputId": "401043a6-e706-4417-b9a2-6cc0535376ac"
      },
      "outputs": [
        {
          "output_type": "display_data",
          "data": {
            "text/plain": [
              "<Figure size 432x288 with 1 Axes>"
            ],
            "image/png": "[encoded data removed]"
          },
          "metadata": {
            "needs_background": "light"
          }
        }
      ],
      "source": [
        "# Create ROC curve\n",
        "metrics.plot_roc_curve(rf_gridcv, x_test_scaled, y_test)\n",
        "plt.title('ROC Curve')\n",
        "plt.plot([0, 1], [0, 1], 'r--')\n",
        "plt.show()"
      ]
    },
    {
      "cell_type": "markdown",
      "metadata": {
        "id": "FaudwCOBHT2K"
      },
      "source": [
        "# **Potential Impact in Business**"
      ]
    },
    {
      "cell_type": "markdown",
      "metadata": {
        "id": "qVTxkN57HdTK"
      },
      "source": [
        "The biggest question for model of course, how big impact our model to business problems? I will do simulation based on predictive model result for business terms."
      ]
    },
    {
      "cell_type": "markdown",
      "metadata": {
        "id": "o2AbZ-quJDGJ"
      },
      "source": [
        "## **Example Case**"
      ]
    },
    {
      "cell_type": "markdown",
      "metadata": {
        "id": "TAXZb7EgJGRZ"
      },
      "source": [
        "[JetBlue Airlines](https://travelsort.com/us-airlines-pay-hotel-meal-airline-caused-delays/) handle flight delays in different ways, depending on the cause and length of the delay. Common practices include:\n",
        "\n",
        "*   Rebooking passengers on alternative flights: If a delay is expected to be \n",
        "short, airlines may offer to rebook passengers on the next available flight.\n",
        "*   Compensating passengers: Depending on the circumstances of the delay, airlines may be required to compensate passengers for the inconvenience caused.\n",
        "*   Providing meal vouchers or accommodation: If a delay extends into the night, airlines may provide passengers with food or hotel vouchers to cover their expenses. \n",
        "\n",
        "For the compensation which airlines must providing Meal Vouchers or accomodation, JetBlue Airlines has conditions and limitations in providing vouchers to passengers who experience cancellations\n",
        "\n",
        "*   Customer Meal Voucher = 12 USD\n",
        "*   Hotel vouchers that can be used at a partner hotel up to 200 USD\n"
      ]
    },
    {
      "cell_type": "code",
      "execution_count": null,
      "metadata": {
        "colab": {
          "base_uri": "https://localhost:8080/"
        },
        "id": "J2YEwzEMNaJl",
        "outputId": "4c6e6643-cfa2-46ce-9410-8c7bc75a8b79"
      },
      "outputs": [
        {
          "output_type": "stream",
          "name": "stdout",
          "text": [
            "Cost budget for voucher compensation in a month is 877680000 USD\n"
          ]
        }
      ],
      "source": [
        "# Voucher compensation cost in a month\n",
        "# Assuming there are 1000 JetBlue flights made in one month at Hartsfield-Jackson Atlanta International Airport\n",
        "# Assuming there are 138 passengers in one aircraft\n",
        "\n",
        "Meal_vouch = 12 * 30 * 1000 * 138\n",
        "Hotel_vouch = 200 * 30 * 1000 * 138\n",
        "\n",
        "Total_month_budget = Meal_vouch + Hotel_vouch\n",
        "\n",
        "print('Cost budget for voucher compensation in a month is ' + str(Total_month_budget) + ' USD')"
      ]
    },
    {
      "cell_type": "markdown",
      "metadata": {
        "id": "bmy3WXJyRRxg"
      },
      "source": [
        "**After**"
      ]
    },
    {
      "cell_type": "markdown",
      "metadata": {
        "id": "1LQCT2ONRVPA"
      },
      "source": [
        "The main idea is that with the results of our prediction model, we can predict flight delays for an airline, thereby saving costs for compensation vouchers.\n",
        "\n",
        "Note:\n",
        "- Customer Meal Voucher = 12 USD\n",
        "- Hotel vouchers that can be used at a partner hotel up to 200 USD\n",
        "\n",
        "So based on TPR result, assuming there's 1000 flight in a month, model can predict 67% or around 670 flight will experience delay."
      ]
    },
    {
      "cell_type": "code",
      "source": [
        "# Predicted Voucher compensation will cost\n",
        "Meal_pred =  12 * 30 * 670 * 138\n",
        "Hotel_pred = 200 * 30 * 670 * 138\n",
        "\n",
        "Total_pred = Meal_pred + Hotel_pred\n",
        "\n",
        "print('Estimated total projected budget for compensation vouchers in a month to be paid '+ str(Total_pred) + ' USD')"
      ],
      "metadata": {
        "colab": {
          "base_uri": "https://localhost:8080/"
        },
        "id": "5I4tC_lNjeve",
        "outputId": "3c0090e9-282c-4c4d-b04f-5db9d3cce8ab"
      },
      "execution_count": null,
      "outputs": [
        {
          "output_type": "stream",
          "name": "stdout",
          "text": [
            "Estimated total projected budget for compensation vouchers in a month to be paid 588045600 USD\n"
          ]
        }
      ]
    },
    {
      "cell_type": "code",
      "execution_count": null,
      "metadata": {
        "colab": {
          "base_uri": "https://localhost:8080/"
        },
        "id": "MHzwd2_XULTz",
        "outputId": "cd8472a9-a81a-4eee-e350-61f71203d0bb"
      },
      "outputs": [
        {
          "output_type": "stream",
          "name": "stdout",
          "text": [
            "Cost budget for voucher compensation in a month can be saved 289634400 USD or 33.0 %\n"
          ]
        }
      ],
      "source": [
        "# Saving compensation cost\n",
        "\n",
        "Total_saved = Total_month_budget - Total_pred\n",
        "\n",
        "ratio = round(((Total_saved / Total_month_budget) * 100),0)\n",
        "\n",
        "print('Cost budget for voucher compensation in a month can be saved '+ str(Total_saved) + ' USD or ' + str(ratio) + ' %')"
      ]
    },
    {
      "cell_type": "markdown",
      "metadata": {
        "id": "omTxKC61mAkS"
      },
      "source": [
        "# **Feature Importances**"
      ]
    },
    {
      "cell_type": "code",
      "execution_count": null,
      "metadata": {
        "id": "mAtILBjltASa"
      },
      "outputs": [],
      "source": [
        "from sklearn.inspection import permutation_importance\n",
        "importances = rf_gridcv.best_estimator_.feature_importances_\n",
        "\n",
        "sorted_indices = np.argsort(importances)[::-1]\n",
        "\n",
        "plt.figure(figsize=(12, 9))\n",
        "plt.title('Feature Importance')\n",
        "plt.bar(range(x_train.shape[1]), importances[sorted_indices], align='center')\n",
        "plt.xticks(range(x_train.shape[1]), x_train.columns[sorted_indices], rotation=90)\n",
        "plt.tight_layout()\n",
        "plt.show()"
      ]
    },
    {
      "cell_type": "markdown",
      "metadata": {
        "id": "lB2DqaK3vNDd"
      },
      "source": [
        "Based on Features Importance value, `Airline_freq_encode`feature have the highest effect on the prediction."
      ]
    },
    {
      "cell_type": "markdown",
      "source": [
        "# **Conclusion**"
      ],
      "metadata": {
        "id": "SXG_w5oczWsN"
      }
    },
    {
      "cell_type": "markdown",
      "source": [
        "\n",
        "\n",
        "*   Based on Heatmap and feature importances, **Airline** and **TIme_by_hour** has the big correlation with the flight delay.\n",
        "*   From several model algorithm that used, Random Forest classifier is the best model algorithm for predicting the flight delay because have the highest AUC score than other classifier algorithm.\n",
        "*   There are no specific days where the lowest delay rate is found in one week, but the highest delays often occur on the second and third days (Tuesday and Wednesday).\n",
        "*   Based on the simulation, the performance of the prediction model can help save the Airline company's budget for compensation vouchers by **33%**."
      ],
      "metadata": {
        "id": "iXEE8ugLzY0V"
      }
    }
  ],
  "metadata": {
    "accelerator": "TPU",
    "colab": {
      "collapsed_sections": [
        "TcfwYmzuvd3K",
        "9ZJ2ooctftrS",
        "wxF2OqH-crXY",
        "RySY_CWSexNI",
        "mh0bdYaFvnhA"
      ],
      "machine_shape": "hm",
      "provenance": [],
      "toc_visible": true
    },
    "kernelspec": {
      "display_name": "Python 3",
      "name": "python3"
    }
  },
  "nbformat": 4,
  "nbformat_minor": 0
}